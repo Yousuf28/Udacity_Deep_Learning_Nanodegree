{
 "cells": [
  {
   "cell_type": "markdown",
   "metadata": {},
   "source": [
    "# Creating a Sentiment Analysis Web App\n",
    "## Using PyTorch and SageMaker\n",
    "\n",
    "_Deep Learning Nanodegree Program | Deployment_\n",
    "\n",
    "---\n",
    "\n",
    "Now that we have a basic understanding of how SageMaker works we will try to use it to construct a complete project from end to end. Our goal will be to have a simple web page which a user can use to enter a movie review. The web page will then send the review off to our deployed model which will predict the sentiment of the entered review.\n",
    "\n",
    "## Instructions\n",
    "\n",
    "Some template code has already been provided for you, and you will need to implement additional functionality to successfully complete this notebook. You will not need to modify the included code beyond what is requested. Sections that begin with '**TODO**' in the header indicate that you need to complete or implement some portion within them. Instructions will be provided for each section and the specifics of the implementation are marked in the code block with a `# TODO: ...` comment. Please be sure to read the instructions carefully!\n",
    "\n",
    "In addition to implementing code, there will be questions for you to answer which relate to the task and your implementation. Each section where you will answer a question is preceded by a '**Question:**' header. Carefully read each question and provide your answer below the '**Answer:**' header by editing the Markdown cell.\n",
    "\n",
    "> **Note**: Code and Markdown cells can be executed using the **Shift+Enter** keyboard shortcut. In addition, a cell can be edited by typically clicking it (double-click for Markdown cells) or by pressing **Enter** while it is highlighted.\n",
    "\n",
    "## General Outline\n",
    "\n",
    "Recall the general outline for SageMaker projects using a notebook instance.\n",
    "\n",
    "1. Download or otherwise retrieve the data.\n",
    "2. Process / Prepare the data.\n",
    "3. Upload the processed data to S3.\n",
    "4. Train a chosen model.\n",
    "5. Test the trained model (typically using a batch transform job).\n",
    "6. Deploy the trained model.\n",
    "7. Use the deployed model.\n",
    "\n",
    "For this project, you will be following the steps in the general outline with some modifications. \n",
    "\n",
    "First, you will not be testing the model in its own step. You will still be testing the model, however, you will do it by deploying your model and then using the deployed model by sending the test data to it. One of the reasons for doing this is so that you can make sure that your deployed model is working correctly before moving forward.\n",
    "\n",
    "In addition, you will deploy and use your trained model a second time. In the second iteration you will customize the way that your trained model is deployed by including some of your own code. In addition, your newly deployed model will be used in the sentiment analysis web app."
   ]
  },
  {
   "cell_type": "markdown",
   "metadata": {},
   "source": [
    "## Step 1: Downloading the data\n",
    "\n",
    "As in the XGBoost in SageMaker notebook, we will be using the [IMDb dataset](http://ai.stanford.edu/~amaas/data/sentiment/)\n",
    "\n",
    "> Maas, Andrew L., et al. [Learning Word Vectors for Sentiment Analysis](http://ai.stanford.edu/~amaas/data/sentiment/). In _Proceedings of the 49th Annual Meeting of the Association for Computational Linguistics: Human Language Technologies_. Association for Computational Linguistics, 2011."
   ]
  },
  {
   "cell_type": "code",
   "execution_count": 1,
   "metadata": {},
   "outputs": [
    {
     "name": "stdout",
     "output_type": "stream",
     "text": [
      "mkdir: cannot create directory ‘../data’: File exists\n",
      "--2019-06-18 16:19:11--  http://ai.stanford.edu/~amaas/data/sentiment/aclImdb_v1.tar.gz\n",
      "Resolving ai.stanford.edu (ai.stanford.edu)... 171.64.68.10\n",
      "Connecting to ai.stanford.edu (ai.stanford.edu)|171.64.68.10|:80... connected.\n",
      "HTTP request sent, awaiting response... 200 OK\n",
      "Length: 84125825 (80M) [application/x-gzip]\n",
      "Saving to: ‘../data/aclImdb_v1.tar.gz’\n",
      "\n",
      "../data/aclImdb_v1. 100%[===================>]  80.23M  24.1MB/s    in 4.2s    \n",
      "\n",
      "2019-06-18 16:19:15 (19.0 MB/s) - ‘../data/aclImdb_v1.tar.gz’ saved [84125825/84125825]\n",
      "\n"
     ]
    }
   ],
   "source": [
    "%mkdir ../data\n",
    "!wget -O ../data/aclImdb_v1.tar.gz http://ai.stanford.edu/~amaas/data/sentiment/aclImdb_v1.tar.gz\n",
    "!tar -zxf ../data/aclImdb_v1.tar.gz -C ../data"
   ]
  },
  {
   "cell_type": "markdown",
   "metadata": {},
   "source": [
    "## Step 2: Preparing and Processing the data\n",
    "\n",
    "Also, as in the XGBoost notebook, we will be doing some initial data processing. The first few steps are the same as in the XGBoost example. To begin with, we will read in each of the reviews and combine them into a single input structure. Then, we will split the dataset into a training set and a testing set."
   ]
  },
  {
   "cell_type": "code",
   "execution_count": 2,
   "metadata": {},
   "outputs": [],
   "source": [
    "import os\n",
    "import glob\n",
    "\n",
    "import nltk\n",
    "from nltk.corpus import stopwords\n",
    "from nltk.stem.porter import *\n",
    "import pickle\n",
    "import numpy as np\n",
    "from collections import Counter\n",
    "import pandas as pd\n",
    "import sagemaker"
   ]
  },
  {
   "cell_type": "code",
   "execution_count": 3,
   "metadata": {},
   "outputs": [],
   "source": [
    "import torch\n",
    "import torch.utils.data"
   ]
  },
  {
   "cell_type": "code",
   "execution_count": 4,
   "metadata": {},
   "outputs": [],
   "source": [
    "import torch.optim as optim\n",
    "from train.model import LSTMClassifier\n",
    "from sagemaker.pytorch import PyTorch"
   ]
  },
  {
   "cell_type": "code",
   "execution_count": 5,
   "metadata": {},
   "outputs": [],
   "source": [
    "\n",
    "\n",
    "def read_imdb_data(data_dir='../data/aclImdb'):\n",
    "    data = {}\n",
    "    labels = {}\n",
    "    \n",
    "    for data_type in ['train', 'test']:\n",
    "        data[data_type] = {}\n",
    "        labels[data_type] = {}\n",
    "        \n",
    "        for sentiment in ['pos', 'neg']:\n",
    "            data[data_type][sentiment] = []\n",
    "            labels[data_type][sentiment] = []\n",
    "            \n",
    "            path = os.path.join(data_dir, data_type, sentiment, '*.txt')\n",
    "            files = glob.glob(path)\n",
    "            \n",
    "            for f in files:\n",
    "                with open(f) as review:\n",
    "                    data[data_type][sentiment].append(review.read())\n",
    "                    # Here we represent a positive review by '1' and a negative review by '0'\n",
    "                    labels[data_type][sentiment].append(1 if sentiment == 'pos' else 0)\n",
    "                    \n",
    "            assert len(data[data_type][sentiment]) == len(labels[data_type][sentiment]), \\\n",
    "                    \"{}/{} data size does not match labels size\".format(data_type, sentiment)\n",
    "                \n",
    "    return data, labels"
   ]
  },
  {
   "cell_type": "code",
   "execution_count": 6,
   "metadata": {},
   "outputs": [
    {
     "name": "stdout",
     "output_type": "stream",
     "text": [
      "IMDB reviews: train = 12500 pos / 12500 neg, test = 12500 pos / 12500 neg\n"
     ]
    }
   ],
   "source": [
    "data, labels = read_imdb_data()\n",
    "print(\"IMDB reviews: train = {} pos / {} neg, test = {} pos / {} neg\".format(\n",
    "            len(data['train']['pos']), len(data['train']['neg']),\n",
    "            len(data['test']['pos']), len(data['test']['neg'])))"
   ]
  },
  {
   "cell_type": "markdown",
   "metadata": {},
   "source": [
    "Now that we've read the raw training and testing data from the downloaded dataset, we will combine the positive and negative reviews and shuffle the resulting records."
   ]
  },
  {
   "cell_type": "code",
   "execution_count": 7,
   "metadata": {},
   "outputs": [],
   "source": [
    "from sklearn.utils import shuffle\n",
    "\n",
    "def prepare_imdb_data(data, labels):\n",
    "    \"\"\"Prepare training and test sets from IMDb movie reviews.\"\"\"\n",
    "    \n",
    "    #Combine positive and negative reviews and labels\n",
    "    data_train = data['train']['pos'] + data['train']['neg']\n",
    "    data_test = data['test']['pos'] + data['test']['neg']\n",
    "    labels_train = labels['train']['pos'] + labels['train']['neg']\n",
    "    labels_test = labels['test']['pos'] + labels['test']['neg']\n",
    "    \n",
    "    #Shuffle reviews and corresponding labels within training and test sets\n",
    "    data_train, labels_train = shuffle(data_train, labels_train)\n",
    "    data_test, labels_test = shuffle(data_test, labels_test)\n",
    "    \n",
    "    # Return a unified training data, test data, training labels, test labets\n",
    "    return data_train, data_test, labels_train, labels_test"
   ]
  },
  {
   "cell_type": "code",
   "execution_count": 8,
   "metadata": {},
   "outputs": [
    {
     "name": "stdout",
     "output_type": "stream",
     "text": [
      "IMDb reviews (combined): train = 25000, test = 25000\n"
     ]
    }
   ],
   "source": [
    "train_X, test_X, train_y, test_y = prepare_imdb_data(data, labels)\n",
    "print(\"IMDb reviews (combined): train = {}, test = {}\".format(len(train_X), len(test_X)))"
   ]
  },
  {
   "cell_type": "markdown",
   "metadata": {},
   "source": [
    "Now that we have our training and testing sets unified and prepared, we should do a quick check and see an example of the data our model will be trained on. This is generally a good idea as it allows you to see how each of the further processing steps affects the reviews and it also ensures that the data has been loaded correctly."
   ]
  },
  {
   "cell_type": "code",
   "execution_count": 9,
   "metadata": {
    "scrolled": true
   },
   "outputs": [
    {
     "name": "stdout",
     "output_type": "stream",
     "text": [
      "The movie remains in the gray for far too long. Very little gets explained as the movie progresses, with as a result lots of weird sequences that seem to have a deeper meaning but because of the way of storytelling they become only just weird and not understandable to watch. It sort of forces you to watch the movie again but no way I'm going to do that. It is that I watched this movie in the morning, I'm sure of it that if I watched this movie in the evening I would had fallen asleep. To me the movie was like a poor man's \"Blade Runner\".<br /><br />The movie leaves far too many questions and improbabilities. It makes the movie leave a pointless and non-lasting impression.<br /><br />Also the weird look of the movie doesn't help much. The movie is halve CGI/halve real life but it's not done halve as good, impressive, spectacular and imaginative as for instance would be the case in later movies such as \"Sin City\" and \"300\". They even created halve of the characters of the movie by computer, which seemed like a very pointless- and odd choice, also considering that the character animation isn't too impressive looking. Sure the futuristic environment is still good looking and the movie obviously wasn't cheap to make but its style over substance and in this case that really isn't a positive thing to say.<br /><br />Some of the lines are also absolutely horrendous and uninteresting. The main God of the movie constantly says lines such as; 'I'm going to do this but it's none of your concern why I want to do it'. Than just don't say anything at all Mr. Horus! It's irritating and a really easy thing to put in movie, if you don't care to explain anything about the plot. Also the deeper questions and meanings of the movie gets muddled in the drivel of the movie and its script.<br /><br />The actors still did their very best. They seemed like they believed in the project and were sure of it that what they were making would be something special. So I can't say anything negative about them.<br /><br />The story and movie is far from original. It rip-offs from a lot of classic and semi-classic, mostly modern, science-fiction movies. It perhaps is also the reason why the movie made a very redundant impression on me.<br /><br />A failed and uninteresting movie experiment.<br /><br />3/10\n",
      "0\n"
     ]
    }
   ],
   "source": [
    "print(train_X[100])\n",
    "print(train_y[100])"
   ]
  },
  {
   "cell_type": "markdown",
   "metadata": {},
   "source": [
    "The first step in processing the reviews is to make sure that any html tags that appear should be removed. In addition we wish to tokenize our input, that way words such as *entertained* and *entertaining* are considered the same with regard to sentiment analysis."
   ]
  },
  {
   "cell_type": "code",
   "execution_count": 10,
   "metadata": {},
   "outputs": [],
   "source": [
    "import nltk\n",
    "from nltk.corpus import stopwords\n",
    "from nltk.stem.porter import *\n",
    "\n",
    "import re\n",
    "from bs4 import BeautifulSoup\n",
    "\n",
    "def review_to_words(review):\n",
    "    nltk.download(\"stopwords\", quiet=True)\n",
    "    stemmer = PorterStemmer()\n",
    "    \n",
    "    text = BeautifulSoup(review, \"html.parser\").get_text() # Remove HTML tags\n",
    "    text = re.sub(r\"[^a-zA-Z0-9]\", \" \", text.lower()) # Convert to lower case\n",
    "    words = text.split() # Split string into words\n",
    "    words = [w for w in words if w not in stopwords.words(\"english\")] # Remove stopwords\n",
    "    words = [PorterStemmer().stem(w) for w in words] # stem\n",
    "    \n",
    "    return words"
   ]
  },
  {
   "cell_type": "markdown",
   "metadata": {},
   "source": [
    "The `review_to_words` method defined above uses `BeautifulSoup` to remove any html tags that appear and uses the `nltk` package to tokenize the reviews. As a check to ensure we know how everything is working, try applying `review_to_words` to one of the reviews in the training set."
   ]
  },
  {
   "cell_type": "code",
   "execution_count": 11,
   "metadata": {},
   "outputs": [
    {
     "data": {
      "text/plain": [
       "['movi',\n",
       " 'remain',\n",
       " 'gray',\n",
       " 'far',\n",
       " 'long',\n",
       " 'littl',\n",
       " 'get',\n",
       " 'explain',\n",
       " 'movi',\n",
       " 'progress',\n",
       " 'result',\n",
       " 'lot',\n",
       " 'weird',\n",
       " 'sequenc',\n",
       " 'seem',\n",
       " 'deeper',\n",
       " 'mean',\n",
       " 'way',\n",
       " 'storytel',\n",
       " 'becom',\n",
       " 'weird',\n",
       " 'understand',\n",
       " 'watch',\n",
       " 'sort',\n",
       " 'forc',\n",
       " 'watch',\n",
       " 'movi',\n",
       " 'way',\n",
       " 'go',\n",
       " 'watch',\n",
       " 'movi',\n",
       " 'morn',\n",
       " 'sure',\n",
       " 'watch',\n",
       " 'movi',\n",
       " 'even',\n",
       " 'would',\n",
       " 'fallen',\n",
       " 'asleep',\n",
       " 'movi',\n",
       " 'like',\n",
       " 'poor',\n",
       " 'man',\n",
       " 'blade',\n",
       " 'runner',\n",
       " 'movi',\n",
       " 'leav',\n",
       " 'far',\n",
       " 'mani',\n",
       " 'question',\n",
       " 'improb',\n",
       " 'make',\n",
       " 'movi',\n",
       " 'leav',\n",
       " 'pointless',\n",
       " 'non',\n",
       " 'last',\n",
       " 'impress',\n",
       " 'also',\n",
       " 'weird',\n",
       " 'look',\n",
       " 'movi',\n",
       " 'help',\n",
       " 'much',\n",
       " 'movi',\n",
       " 'halv',\n",
       " 'cgi',\n",
       " 'halv',\n",
       " 'real',\n",
       " 'life',\n",
       " 'done',\n",
       " 'halv',\n",
       " 'good',\n",
       " 'impress',\n",
       " 'spectacular',\n",
       " 'imagin',\n",
       " 'instanc',\n",
       " 'would',\n",
       " 'case',\n",
       " 'later',\n",
       " 'movi',\n",
       " 'sin',\n",
       " 'citi',\n",
       " '300',\n",
       " 'even',\n",
       " 'creat',\n",
       " 'halv',\n",
       " 'charact',\n",
       " 'movi',\n",
       " 'comput',\n",
       " 'seem',\n",
       " 'like',\n",
       " 'pointless',\n",
       " 'odd',\n",
       " 'choic',\n",
       " 'also',\n",
       " 'consid',\n",
       " 'charact',\n",
       " 'anim',\n",
       " 'impress',\n",
       " 'look',\n",
       " 'sure',\n",
       " 'futurist',\n",
       " 'environ',\n",
       " 'still',\n",
       " 'good',\n",
       " 'look',\n",
       " 'movi',\n",
       " 'obvious',\n",
       " 'cheap',\n",
       " 'make',\n",
       " 'style',\n",
       " 'substanc',\n",
       " 'case',\n",
       " 'realli',\n",
       " 'posit',\n",
       " 'thing',\n",
       " 'say',\n",
       " 'line',\n",
       " 'also',\n",
       " 'absolut',\n",
       " 'horrend',\n",
       " 'uninterest',\n",
       " 'main',\n",
       " 'god',\n",
       " 'movi',\n",
       " 'constantli',\n",
       " 'say',\n",
       " 'line',\n",
       " 'go',\n",
       " 'none',\n",
       " 'concern',\n",
       " 'want',\n",
       " 'say',\n",
       " 'anyth',\n",
       " 'mr',\n",
       " 'horu',\n",
       " 'irrit',\n",
       " 'realli',\n",
       " 'easi',\n",
       " 'thing',\n",
       " 'put',\n",
       " 'movi',\n",
       " 'care',\n",
       " 'explain',\n",
       " 'anyth',\n",
       " 'plot',\n",
       " 'also',\n",
       " 'deeper',\n",
       " 'question',\n",
       " 'mean',\n",
       " 'movi',\n",
       " 'get',\n",
       " 'muddl',\n",
       " 'drivel',\n",
       " 'movi',\n",
       " 'script',\n",
       " 'actor',\n",
       " 'still',\n",
       " 'best',\n",
       " 'seem',\n",
       " 'like',\n",
       " 'believ',\n",
       " 'project',\n",
       " 'sure',\n",
       " 'make',\n",
       " 'would',\n",
       " 'someth',\n",
       " 'special',\n",
       " 'say',\n",
       " 'anyth',\n",
       " 'neg',\n",
       " 'stori',\n",
       " 'movi',\n",
       " 'far',\n",
       " 'origin',\n",
       " 'rip',\n",
       " 'off',\n",
       " 'lot',\n",
       " 'classic',\n",
       " 'semi',\n",
       " 'classic',\n",
       " 'mostli',\n",
       " 'modern',\n",
       " 'scienc',\n",
       " 'fiction',\n",
       " 'movi',\n",
       " 'perhap',\n",
       " 'also',\n",
       " 'reason',\n",
       " 'movi',\n",
       " 'made',\n",
       " 'redund',\n",
       " 'impress',\n",
       " 'fail',\n",
       " 'uninterest',\n",
       " 'movi',\n",
       " 'experi',\n",
       " '3',\n",
       " '10']"
      ]
     },
     "execution_count": 11,
     "metadata": {},
     "output_type": "execute_result"
    }
   ],
   "source": [
    "# TODO: Apply review_to_words to a review (train_X[100] or any other review)\n",
    "review_to_words(train_X[100])"
   ]
  },
  {
   "cell_type": "markdown",
   "metadata": {},
   "source": [
    "**Question:** Above we mentioned that `review_to_words` method removes html formatting and allows us to tokenize the words found in a review, for example, converting *entertained* and *entertaining* into *entertain* so that they are treated as though they are the same word. What else, if anything, does this method do to the input?"
   ]
  },
  {
   "cell_type": "markdown",
   "metadata": {},
   "source": [
    "# **Answer:**\n",
    "\n",
    "there are few things that function do.\n",
    "beutiful soup removes all html tags. regular expression is used to replace non alpa-numeric character with space. than all words convert to lower case.\n",
    "stopwords(words those are overly used in sentence but does not carry much information like the, if, is etc) removed using nltk library. Then stemming is performed, stemming remove the suffix and prefix and only keep root word.\n"
   ]
  },
  {
   "cell_type": "markdown",
   "metadata": {},
   "source": [
    "The method below applies the `review_to_words` method to each of the reviews in the training and testing datasets. In addition it caches the results. This is because performing this processing step can take a long time. This way if you are unable to complete the notebook in the current session, you can come back without needing to process the data a second time."
   ]
  },
  {
   "cell_type": "code",
   "execution_count": 12,
   "metadata": {},
   "outputs": [],
   "source": [
    "import pickle\n",
    "\n",
    "cache_dir = os.path.join(\"../cache\", \"sentiment_analysis\")  # where to store cache files\n",
    "os.makedirs(cache_dir, exist_ok=True)  # ensure cache directory exists\n",
    "\n",
    "def preprocess_data(data_train, data_test, labels_train, labels_test,\n",
    "                    cache_dir=cache_dir, cache_file=\"preprocessed_data.pkl\"):\n",
    "    \"\"\"Convert each review to words; read from cache if available.\"\"\"\n",
    "\n",
    "    # If cache_file is not None, try to read from it first\n",
    "    cache_data = None\n",
    "    if cache_file is not None:\n",
    "        try:\n",
    "            with open(os.path.join(cache_dir, cache_file), \"rb\") as f:\n",
    "                cache_data = pickle.load(f)\n",
    "            print(\"Read preprocessed data from cache file:\", cache_file)\n",
    "        except:\n",
    "            pass  # unable to read from cache, but that's okay\n",
    "    \n",
    "    # If cache is missing, then do the heavy lifting\n",
    "    if cache_data is None:\n",
    "        # Preprocess training and test data to obtain words for each review\n",
    "        #words_train = list(map(review_to_words, data_train))\n",
    "        #words_test = list(map(review_to_words, data_test))\n",
    "        words_train = [review_to_words(review) for review in data_train]\n",
    "        words_test = [review_to_words(review) for review in data_test]\n",
    "        \n",
    "        # Write to cache file for future runs\n",
    "        if cache_file is not None:\n",
    "            cache_data = dict(words_train=words_train, words_test=words_test,\n",
    "                              labels_train=labels_train, labels_test=labels_test)\n",
    "            with open(os.path.join(cache_dir, cache_file), \"wb\") as f:\n",
    "                pickle.dump(cache_data, f)\n",
    "            print(\"Wrote preprocessed data to cache file:\", cache_file)\n",
    "    else:\n",
    "        # Unpack data loaded from cache file\n",
    "        words_train, words_test, labels_train, labels_test = (cache_data['words_train'],\n",
    "                cache_data['words_test'], cache_data['labels_train'], cache_data['labels_test'])\n",
    "    \n",
    "    return words_train, words_test, labels_train, labels_test"
   ]
  },
  {
   "cell_type": "code",
   "execution_count": 13,
   "metadata": {},
   "outputs": [
    {
     "name": "stdout",
     "output_type": "stream",
     "text": [
      "Read preprocessed data from cache file: preprocessed_data.pkl\n"
     ]
    }
   ],
   "source": [
    "# Preprocess data\n",
    "train_X, test_X, train_y, test_y = preprocess_data(train_X, test_X, train_y, test_y)"
   ]
  },
  {
   "cell_type": "code",
   "execution_count": 14,
   "metadata": {
    "scrolled": true
   },
   "outputs": [
    {
     "data": {
      "text/plain": [
       "[['also',\n",
       "  'saw',\n",
       "  'amazingli',\n",
       "  'bad',\n",
       "  'piec',\n",
       "  'anim',\n",
       "  'london',\n",
       "  'sci',\n",
       "  'fi',\n",
       "  'festiv',\n",
       "  'watch',\n",
       "  'thing',\n",
       "  'larg',\n",
       "  'audienc',\n",
       "  'prefer',\n",
       "  'beer',\n",
       "  'may',\n",
       "  'glean',\n",
       "  'enjoy',\n",
       "  'found',\n",
       "  'dialogu',\n",
       "  'hilari',\n",
       "  'lodg',\n",
       "  'mind',\n",
       "  'introduct',\n",
       "  'cremat',\n",
       "  'anim',\n",
       "  'aw',\n",
       "  'badli',\n",
       "  'design',\n",
       "  'badli',\n",
       "  'execut',\n",
       "  'may',\n",
       "  'good',\n",
       "  'idea',\n",
       "  'produc',\n",
       "  'hire',\n",
       "  'least',\n",
       "  'one',\n",
       "  'person',\n",
       "  'colour',\n",
       "  'blind',\n",
       "  'noth',\n",
       "  'els',\n",
       "  'say',\n",
       "  'realli',\n",
       "  'film',\n",
       "  'failur',\n",
       "  'everi',\n",
       "  'level'],\n",
       " ['noth',\n",
       "  'ruin',\n",
       "  'movi',\n",
       "  'much',\n",
       "  'combin',\n",
       "  'poor',\n",
       "  'script',\n",
       "  'poor',\n",
       "  'direct',\n",
       "  'case',\n",
       "  'mummi',\n",
       "  'tomb',\n",
       "  'script',\n",
       "  'leftov',\n",
       "  'idea',\n",
       "  'older',\n",
       "  'better',\n",
       "  'univers',\n",
       "  'horror',\n",
       "  'flick',\n",
       "  'like',\n",
       "  'dracula',\n",
       "  'frankenstein',\n",
       "  'direct',\n",
       "  'trite',\n",
       "  'stale',\n",
       "  'act',\n",
       "  'mediocr',\n",
       "  'even',\n",
       "  'chaney',\n",
       "  'khari',\n",
       "  'feebl',\n",
       "  'compar',\n",
       "  'tom',\n",
       "  'tyler',\n",
       "  'mummi',\n",
       "  'hand',\n",
       "  'produc',\n",
       "  'foolish',\n",
       "  'enough',\n",
       "  'add',\n",
       "  'footag',\n",
       "  'christi',\n",
       "  'cabann',\n",
       "  'vastli',\n",
       "  'better',\n",
       "  'prequel',\n",
       "  'point',\n",
       "  'weak',\n",
       "  'film',\n",
       "  'univers',\n",
       "  'realiz',\n",
       "  'bad',\n",
       "  'movi',\n",
       "  'essenti',\n",
       "  'remad',\n",
       "  'scratch',\n",
       "  'two',\n",
       "  'year',\n",
       "  'later',\n",
       "  'mummi',\n",
       "  'ghost',\n",
       "  'much',\n",
       "  'better',\n",
       "  'script',\n",
       "  'better',\n",
       "  'director',\n",
       "  'result',\n",
       "  'like',\n",
       "  'best',\n",
       "  'film',\n",
       "  'four',\n",
       "  'film',\n",
       "  'mummi',\n",
       "  'cycl',\n",
       "  'although',\n",
       "  'anywher',\n",
       "  'near',\n",
       "  'good',\n",
       "  'karl',\n",
       "  'freund',\n",
       "  '1932',\n",
       "  'origin',\n",
       "  'cabann',\n",
       "  'footag',\n",
       "  'rais',\n",
       "  'film',\n",
       "  '3',\n",
       "  'new',\n",
       "  'stuff',\n",
       "  '2',\n",
       "  'best',\n",
       "  'dick',\n",
       "  'foran',\n",
       "  'wallac',\n",
       "  'ford',\n",
       "  'probabl',\n",
       "  'glad',\n",
       "  'see',\n",
       "  'charact',\n",
       "  'bump',\n",
       "  'appear',\n",
       "  'dreck',\n",
       "  'like',\n",
       "  'anymor']]"
      ]
     },
     "execution_count": 14,
     "metadata": {},
     "output_type": "execute_result"
    }
   ],
   "source": [
    "# list of list\n",
    "train_X[500:502]"
   ]
  },
  {
   "cell_type": "markdown",
   "metadata": {},
   "source": [
    "## Transform the data\n",
    "\n",
    "In the XGBoost notebook we transformed the data from its word representation to a bag-of-words feature representation. For the model we are going to construct in this notebook we will construct a feature representation which is very similar. To start, we will represent each word as an integer. Of course, some of the words that appear in the reviews occur very infrequently and so likely don't contain much information for the purposes of sentiment analysis. The way we will deal with this problem is that we will fix the size of our working vocabulary and we will only include the words that appear most frequently. We will then combine all of the infrequent words into a single category and, in our case, we will label it as `1`.\n",
    "\n",
    "Since we will be using a recurrent neural network, it will be convenient if the length of each review is the same. To do this, we will fix a size for our reviews and then pad short reviews with the category 'no word' (which we will label `0`) and truncate long reviews."
   ]
  },
  {
   "cell_type": "markdown",
   "metadata": {},
   "source": [
    "### (TODO) Create a word dictionary\n",
    "\n",
    "To begin with, we need to construct a way to map words that appear in the reviews to integers. Here we fix the size of our vocabulary (including the 'no word' and 'infrequent' categories) to be `5000` but you may wish to change this to see how it affects the model.\n",
    "\n",
    "> **TODO:** Complete the implementation for the `build_dict()` method below. Note that even though the vocab_size is set to `5000`, we only want to construct a mapping for the most frequently appearing `4998` words. This is because we want to reserve the special labels `0` for 'no word' and `1` for 'infrequent word'."
   ]
  },
  {
   "cell_type": "code",
   "execution_count": 15,
   "metadata": {},
   "outputs": [],
   "source": [
    "import numpy as np\n",
    "\n",
    "def build_dict(data, vocab_size = 5000):\n",
    "    \"\"\"Construct and return a dictionary mapping each of the most frequently appearing words to a unique integer.\"\"\"\n",
    "    \n",
    "    # TODO: Determine how often each word appears in `data`. Note that `data` is a list of sentences and that a\n",
    "    #       sentence is a list of words.\n",
    "    \n",
    "    word_count = {} # A dict storing the words that appear in the reviews along with how often they occur\n",
    "    for sentence in data:\n",
    "        for word in sentence:\n",
    "            if word in word_count:\n",
    "                word_count[word] += 1\n",
    "            else:\n",
    "                word_count[word] = 1\n",
    "    \n",
    "    # TODO: Sort the words found in `data` so that sorted_words[0] is the most frequently appearing word and\n",
    "    #       sorted_words[-1] is the least frequently appearing word.\n",
    "    \n",
    "    sorted_words = sorted(word_count, key = lambda w:  word_count[w], reverse = True)\n",
    "    \n",
    "    word_dict = {} # This is what we are building, a dictionary that translates words into integers\n",
    "    for idx, word in enumerate(sorted_words[:vocab_size - 2]): # The -2 is so that we save room for the 'no word'\n",
    "        word_dict[word] = idx + 2                              # 'infrequent' labels\n",
    "        \n",
    "    return word_dict"
   ]
  },
  {
   "cell_type": "code",
   "execution_count": 16,
   "metadata": {},
   "outputs": [],
   "source": [
    "word_dict = build_dict(train_X)"
   ]
  },
  {
   "cell_type": "code",
   "execution_count": 76,
   "metadata": {},
   "outputs": [
    {
     "name": "stdout",
     "output_type": "stream",
     "text": [
      "{'movi': 2, 'film': 3, 'one': 4, 'like': 5, 'time': 6, 'good': 7, 'make': 8, 'charact': 9, 'get': 10, 'see': 11, 'watch': 12, 'stori': 13, 'even': 14, 'would': 15, 'realli': 16, 'well': 17, 'scene': 18, 'look': 19, 'show': 20, 'much': 21, 'end': 22, 'peopl': 23, 'bad': 24, 'go': 25, 'great': 26, 'also': 27, 'first': 28, 'love': 29, 'think': 30, 'way': 31, 'act': 32, 'play': 33, 'made': 34, 'thing': 35, 'could': 36, 'know': 37, 'say': 38, 'seem': 39, 'work': 40, 'plot': 41, 'two': 42, 'actor': 43, 'year': 44, 'come': 45, 'mani': 46, 'seen': 47, 'take': 48, 'want': 49, 'life': 50, 'never': 51, 'littl': 52, 'best': 53, 'tri': 54, 'man': 55, 'ever': 56, 'give': 57, 'better': 58, 'still': 59, 'perform': 60, 'find': 61, 'feel': 62, 'part': 63, 'back': 64, 'use': 65, 'someth': 66, 'director': 67, 'actual': 68, 'interest': 69, 'lot': 70, 'real': 71, 'old': 72, 'cast': 73, 'though': 74, 'live': 75, 'star': 76, 'enjoy': 77, 'guy': 78, 'anoth': 79, 'new': 80, 'role': 81, 'noth': 82, '10': 83, 'funni': 84, 'music': 85, 'point': 86, 'start': 87, 'set': 88, 'girl': 89, 'origin': 90, 'day': 91, 'world': 92, 'everi': 93, 'believ': 94, 'turn': 95, 'quit': 96, 'us': 97, 'direct': 98, 'thought': 99, 'fact': 100, 'minut': 101, 'horror': 102, 'kill': 103, 'action': 104, 'comedi': 105, 'pretti': 106, 'young': 107, 'wonder': 108, 'happen': 109, 'around': 110, 'got': 111, 'effect': 112, 'right': 113, 'long': 114, 'howev': 115, 'big': 116, 'line': 117, 'famili': 118, 'enough': 119, 'seri': 120, 'may': 121, 'need': 122, 'fan': 123, 'bit': 124, 'script': 125, 'beauti': 126, 'person': 127, 'becom': 128, 'without': 129, 'must': 130, 'alway': 131, 'friend': 132, 'tell': 133, 'reason': 134, 'saw': 135, 'last': 136, 'final': 137, 'kid': 138, 'almost': 139, 'put': 140, 'least': 141, 'sure': 142, 'done': 143, 'whole': 144, 'place': 145, 'complet': 146, 'kind': 147, 'differ': 148, 'expect': 149, 'shot': 150, 'far': 151, 'mean': 152, 'anyth': 153, 'book': 154, 'laugh': 155, 'might': 156, 'name': 157, 'sinc': 158, 'begin': 159, '2': 160, 'probabl': 161, 'woman': 162, 'help': 163, 'entertain': 164, 'let': 165, 'screen': 166, 'call': 167, 'tv': 168, 'moment': 169, 'away': 170, 'read': 171, 'yet': 172, 'rather': 173, 'worst': 174, 'run': 175, 'fun': 176, 'lead': 177, 'hard': 178, 'audienc': 179, 'idea': 180, 'anyon': 181, 'episod': 182, 'american': 183, 'found': 184, 'appear': 185, 'bore': 186, 'especi': 187, 'although': 188, 'hope': 189, 'cours': 190, 'keep': 191, 'anim': 192, 'job': 193, 'goe': 194, 'move': 195, 'sens': 196, 'dvd': 197, 'version': 198, 'war': 199, 'money': 200, 'someon': 201, 'mind': 202, 'mayb': 203, 'problem': 204, 'true': 205, 'hous': 206, 'everyth': 207, 'nice': 208, 'second': 209, 'rate': 210, 'three': 211, 'night': 212, 'face': 213, 'follow': 214, 'recommend': 215, 'product': 216, 'main': 217, 'worth': 218, 'leav': 219, 'human': 220, 'special': 221, 'excel': 222, 'togeth': 223, 'wast': 224, 'sound': 225, 'everyon': 226, 'john': 227, 'hand': 228, '1': 229, 'father': 230, 'later': 231, 'eye': 232, 'said': 233, 'view': 234, 'instead': 235, 'review': 236, 'boy': 237, 'high': 238, 'hour': 239, 'miss': 240, 'classic': 241, 'talk': 242, 'wife': 243, 'understand': 244, 'left': 245, 'care': 246, 'black': 247, 'death': 248, 'open': 249, 'murder': 250, 'write': 251, 'half': 252, 'head': 253, 'rememb': 254, 'chang': 255, 'viewer': 256, 'fight': 257, 'gener': 258, 'surpris': 259, 'includ': 260, 'short': 261, 'die': 262, 'fall': 263, 'less': 264, 'els': 265, 'entir': 266, 'piec': 267, 'involv': 268, 'pictur': 269, 'simpli': 270, 'home': 271, 'power': 272, 'top': 273, 'total': 274, 'usual': 275, 'budget': 276, 'attempt': 277, 'suppos': 278, 'releas': 279, 'hollywood': 280, 'terribl': 281, 'song': 282, 'men': 283, 'possibl': 284, 'featur': 285, 'portray': 286, 'disappoint': 287, 'poor': 288, '3': 289, 'coupl': 290, 'camera': 291, 'stupid': 292, 'dead': 293, 'wrong': 294, 'produc': 295, 'low': 296, 'video': 297, 'either': 298, 'aw': 299, 'definit': 300, 'except': 301, 'rest': 302, 'given': 303, 'absolut': 304, 'women': 305, 'lack': 306, 'word': 307, 'writer': 308, 'titl': 309, 'talent': 310, 'decid': 311, 'full': 312, 'perfect': 313, 'along': 314, 'style': 315, 'close': 316, 'truli': 317, 'school': 318, 'save': 319, 'emot': 320, 'age': 321, 'sex': 322, 'next': 323, 'bring': 324, 'mr': 325, 'case': 326, 'killer': 327, 'heart': 328, 'comment': 329, 'sort': 330, 'creat': 331, 'perhap': 332, 'came': 333, 'brother': 334, 'sever': 335, 'joke': 336, 'art': 337, 'dialogu': 338, 'game': 339, 'small': 340, 'base': 341, 'flick': 342, 'written': 343, 'sequenc': 344, 'meet': 345, 'earli': 346, 'often': 347, 'other': 348, 'mother': 349, 'develop': 350, 'humor': 351, 'actress': 352, 'consid': 353, 'dark': 354, 'guess': 355, 'amaz': 356, 'unfortun': 357, 'lost': 358, 'light': 359, 'exampl': 360, 'cinema': 361, 'drama': 362, 'white': 363, 'ye': 364, 'experi': 365, 'imagin': 366, 'mention': 367, 'stop': 368, 'natur': 369, 'forc': 370, 'manag': 371, 'felt': 372, 'present': 373, 'cut': 374, 'children': 375, 'fail': 376, 'son': 377, 'support': 378, 'qualiti': 379, 'car': 380, 'ask': 381, 'hit': 382, 'side': 383, 'voic': 384, 'extrem': 385, 'impress': 386, 'evil': 387, 'wors': 388, 'stand': 389, 'went': 390, 'certainli': 391, 'basic': 392, 'oh': 393, 'overal': 394, 'favorit': 395, 'horribl': 396, 'mysteri': 397, 'number': 398, 'type': 399, 'danc': 400, 'wait': 401, 'hero': 402, '5': 403, 'alreadi': 404, 'learn': 405, 'matter': 406, '4': 407, 'michael': 408, 'genr': 409, 'fine': 410, 'despit': 411, 'throughout': 412, 'walk': 413, 'success': 414, 'histori': 415, 'question': 416, 'zombi': 417, 'town': 418, 'realiz': 419, 'relationship': 420, 'past': 421, 'child': 422, 'daughter': 423, 'late': 424, 'b': 425, 'wish': 426, 'credit': 427, 'hate': 428, 'event': 429, 'theme': 430, 'touch': 431, 'citi': 432, 'today': 433, 'sometim': 434, 'behind': 435, 'god': 436, 'twist': 437, 'sit': 438, 'stay': 439, 'annoy': 440, 'deal': 441, 'abl': 442, 'rent': 443, 'pleas': 444, 'edit': 445, 'blood': 446, 'deserv': 447, 'comic': 448, 'anyway': 449, 'appar': 450, 'soon': 451, 'gave': 452, 'etc': 453, 'level': 454, 'slow': 455, 'chanc': 456, 'score': 457, 'bodi': 458, 'brilliant': 459, 'incred': 460, 'figur': 461, 'situat': 462, 'self': 463, 'major': 464, 'stuff': 465, 'decent': 466, 'element': 467, 'return': 468, 'dream': 469, 'obvious': 470, 'order': 471, 'continu': 472, 'pace': 473, 'ridicul': 474, 'happi': 475, 'add': 476, 'highli': 477, 'group': 478, 'thank': 479, 'ladi': 480, 'novel': 481, 'speak': 482, 'pain': 483, 'career': 484, 'shoot': 485, 'strang': 486, 'heard': 487, 'sad': 488, 'polic': 489, 'husband': 490, 'import': 491, 'break': 492, 'took': 493, 'cannot': 494, 'strong': 495, 'predict': 496, 'robert': 497, 'violenc': 498, 'hilari': 499, 'recent': 500, 'countri': 501, 'known': 502, 'particularli': 503, 'pick': 504, 'documentari': 505, 'season': 506, 'critic': 507, 'jame': 508, 'compar': 509, 'obviou': 510, 'alon': 511, 'told': 512, 'state': 513, 'visual': 514, 'rock': 515, 'theater': 516, 'offer': 517, 'exist': 518, 'opinion': 519, 'gore': 520, 'hold': 521, 'crap': 522, 'result': 523, 'room': 524, 'realiti': 525, 'hear': 526, 'clich': 527, 'effort': 528, 'thriller': 529, 'caus': 530, 'serious': 531, 'sequel': 532, 'explain': 533, 'king': 534, 'local': 535, 'ago': 536, 'hell': 537, 'none': 538, 'note': 539, 'allow': 540, 'sister': 541, 'david': 542, 'simpl': 543, 'femal': 544, 'deliv': 545, 'ok': 546, 'convinc': 547, 'class': 548, 'check': 549, 'suspens': 550, 'win': 551, 'buy': 552, 'oscar': 553, 'huge': 554, 'valu': 555, 'sexual': 556, 'cool': 557, 'scari': 558, 'excit': 559, 'similar': 560, 'provid': 561, 'exactli': 562, 'apart': 563, 'shown': 564, 'avoid': 565, 'seriou': 566, 'english': 567, 'whose': 568, 'taken': 569, 'cinematographi': 570, 'shock': 571, 'polit': 572, 'spoiler': 573, 'offic': 574, 'across': 575, 'middl': 576, 'pass': 577, 'street': 578, 'messag': 579, 'somewhat': 580, 'charm': 581, 'silli': 582, 'modern': 583, 'filmmak': 584, 'confus': 585, 'form': 586, 'tale': 587, 'singl': 588, 'jack': 589, 'mostli': 590, 'william': 591, 'carri': 592, 'attent': 593, 'sing': 594, 'five': 595, 'subject': 596, 'richard': 597, 'prove': 598, 'stage': 599, 'team': 600, 'cop': 601, 'unlik': 602, 'georg': 603, 'monster': 604, 'televis': 605, 'earth': 606, 'cover': 607, 'villain': 608, 'pay': 609, 'marri': 610, 'toward': 611, 'build': 612, 'pull': 613, 'parent': 614, 'due': 615, 'respect': 616, 'fill': 617, 'dialog': 618, 'four': 619, 'remind': 620, 'futur': 621, 'weak': 622, 'typic': 623, '7': 624, 'cheap': 625, 'intellig': 626, 'british': 627, 'atmospher': 628, '80': 629, 'clearli': 630, 'dog': 631, 'paul': 632, 'non': 633, 'fast': 634, '8': 635, 'knew': 636, 'artist': 637, 'crime': 638, 'easili': 639, 'escap': 640, 'adult': 641, 'doubt': 642, 'detail': 643, 'date': 644, 'romant': 645, 'fire': 646, 'member': 647, 'drive': 648, 'gun': 649, 'straight': 650, 'beyond': 651, 'fit': 652, 'attack': 653, 'imag': 654, 'upon': 655, 'posit': 656, 'whether': 657, 'fantast': 658, 'peter': 659, 'appreci': 660, 'captur': 661, 'aspect': 662, 'ten': 663, 'plan': 664, 'discov': 665, 'remain': 666, 'period': 667, 'near': 668, 'realist': 669, 'air': 670, 'mark': 671, 'red': 672, 'dull': 673, 'adapt': 674, 'within': 675, 'spend': 676, 'lose': 677, 'color': 678, 'materi': 679, 'chase': 680, 'mari': 681, 'storylin': 682, 'forget': 683, 'bunch': 684, 'clear': 685, 'lee': 686, 'victim': 687, 'nearli': 688, 'box': 689, 'york': 690, 'inspir': 691, 'match': 692, 'mess': 693, 'finish': 694, 'standard': 695, 'easi': 696, 'truth': 697, 'suffer': 698, 'busi': 699, 'bill': 700, 'dramat': 701, 'space': 702, 'western': 703, 'e': 704, 'list': 705, 'battl': 706, 'notic': 707, 'de': 708, 'french': 709, 'ad': 710, '9': 711, 'tom': 712, 'larg': 713, 'among': 714, 'eventu': 715, 'accept': 716, 'train': 717, 'agre': 718, 'soundtrack': 719, 'spirit': 720, 'third': 721, 'teenag': 722, 'soldier': 723, 'adventur': 724, 'suggest': 725, 'famou': 726, 'sorri': 727, 'drug': 728, 'cri': 729, 'normal': 730, 'babi': 731, 'troubl': 732, 'ultim': 733, 'contain': 734, 'certain': 735, 'cultur': 736, 'romanc': 737, 'rare': 738, 'lame': 739, 'somehow': 740, 'mix': 741, 'disney': 742, 'gone': 743, 'cartoon': 744, 'student': 745, 'fear': 746, 'reveal': 747, 'suck': 748, 'kept': 749, 'attract': 750, 'appeal': 751, 'premis': 752, 'design': 753, 'secret': 754, 'greatest': 755, 'shame': 756, 'throw': 757, 'scare': 758, 'copi': 759, 'wit': 760, 'admit': 761, 'america': 762, 'particular': 763, 'relat': 764, 'brought': 765, 'screenplay': 766, 'whatev': 767, 'pure': 768, '70': 769, 'harri': 770, 'averag': 771, 'master': 772, 'describ': 773, 'male': 774, 'treat': 775, '20': 776, 'fantasi': 777, 'issu': 778, 'warn': 779, 'inde': 780, 'background': 781, 'forward': 782, 'free': 783, 'project': 784, 'memor': 785, 'japanes': 786, 'poorli': 787, 'award': 788, 'locat': 789, 'potenti': 790, 'amus': 791, 'struggl': 792, 'magic': 793, 'weird': 794, 'societi': 795, 'okay': 796, 'doctor': 797, 'imdb': 798, 'accent': 799, 'hot': 800, 'water': 801, 'dr': 802, '30': 803, 'express': 804, 'alien': 805, 'odd': 806, 'choic': 807, 'crazi': 808, 'studio': 809, 'fiction': 810, 'becam': 811, 'control': 812, 'masterpiec': 813, 'difficult': 814, 'fli': 815, 'joe': 816, 'scream': 817, 'costum': 818, 'lover': 819, 'refer': 820, 'uniqu': 821, 'remak': 822, 'girlfriend': 823, 'vampir': 824, 'prison': 825, 'execut': 826, 'wear': 827, 'jump': 828, 'unless': 829, 'wood': 830, 'creepi': 831, 'cheesi': 832, 'superb': 833, 'otherwis': 834, 'parti': 835, 'roll': 836, 'ghost': 837, 'mad': 838, 'public': 839, 'depict': 840, 'badli': 841, 'moral': 842, 'earlier': 843, 'week': 844, 'jane': 845, 'dumb': 846, 'fi': 847, 'grow': 848, 'flaw': 849, 'deep': 850, 'sci': 851, 'cat': 852, 'maker': 853, 'older': 854, 'footag': 855, 'connect': 856, 'bother': 857, 'plenti': 858, 'outsid': 859, 'stick': 860, 'gay': 861, 'catch': 862, 'co': 863, 'plu': 864, 'popular': 865, 'equal': 866, 'social': 867, 'quickli': 868, 'disturb': 869, 'perfectli': 870, 'dress': 871, '90': 872, 'era': 873, 'mistak': 874, 'lie': 875, 'ride': 876, 'previou': 877, 'combin': 878, 'band': 879, 'concept': 880, 'rich': 881, 'answer': 882, 'surviv': 883, 'front': 884, 'sweet': 885, 'christma': 886, 'insid': 887, 'concern': 888, 'bare': 889, 'eat': 890, 'beat': 891, 'ben': 892, 'listen': 893, 'c': 894, 'serv': 895, 'term': 896, 'la': 897, 'meant': 898, 'german': 899, 'stereotyp': 900, 'hardli': 901, 'law': 902, 'innoc': 903, 'desper': 904, 'promis': 905, 'memori': 906, 'cute': 907, 'intent': 908, 'variou': 909, 'inform': 910, 'steal': 911, 'brain': 912, 'post': 913, 'tone': 914, 'island': 915, 'amount': 916, 'track': 917, 'nuditi': 918, 'compani': 919, 'claim': 920, 'store': 921, '50': 922, 'hair': 923, 'flat': 924, 'land': 925, 'univers': 926, 'danger': 927, 'scott': 928, 'kick': 929, 'fairli': 930, 'player': 931, 'plain': 932, 'crew': 933, 'step': 934, 'toni': 935, 'share': 936, 'centuri': 937, 'tast': 938, 'achiev': 939, 'engag': 940, 'cold': 941, 'travel': 942, 'rip': 943, 'suit': 944, 'record': 945, 'manner': 946, 'sadli': 947, 'tension': 948, 'wrote': 949, 'spot': 950, 'intens': 951, 'fascin': 952, 'familiar': 953, 'remark': 954, 'depth': 955, 'burn': 956, 'destroy': 957, 'histor': 958, 'sleep': 959, 'purpos': 960, 'languag': 961, 'ruin': 962, 'ignor': 963, 'delight': 964, 'unbeliev': 965, 'italian': 966, 'soul': 967, 'collect': 968, 'abil': 969, 'detect': 970, 'clever': 971, 'violent': 972, 'rape': 973, 'reach': 974, 'door': 975, 'trash': 976, 'liter': 977, 'scienc': 978, 'reveng': 979, 'commun': 980, 'caught': 981, 'creatur': 982, 'trip': 983, 'approach': 984, 'fashion': 985, 'intrigu': 986, 'paint': 987, 'skill': 988, 'introduc': 989, 'complex': 990, 'channel': 991, 'camp': 992, 'christian': 993, 'extra': 994, 'hole': 995, 'mental': 996, 'immedi': 997, 'limit': 998, 'ann': 999, 'million': 1000, 'slightli': 1001, 'mere': 1002, '6': 1003, 'comput': 1004, 'conclus': 1005, 'slasher': 1006, 'suddenli': 1007, 'imposs': 1008, 'teen': 1009, 'neither': 1010, 'crimin': 1011, 'physic': 1012, 'nation': 1013, 'spent': 1014, 'respons': 1015, 'planet': 1016, 'receiv': 1017, 'fake': 1018, 'blue': 1019, 'sick': 1020, 'bizarr': 1021, 'embarrass': 1022, 'indian': 1023, '15': 1024, 'ring': 1025, 'drop': 1026, 'pop': 1027, 'drag': 1028, 'haunt': 1029, 'suspect': 1030, 'pointless': 1031, 'edg': 1032, 'search': 1033, 'handl': 1034, 'biggest': 1035, 'common': 1036, 'arriv': 1037, 'faith': 1038, 'hurt': 1039, 'technic': 1040, 'angel': 1041, 'genuin': 1042, 'dad': 1043, 'awesom': 1044, 'f': 1045, 'solid': 1046, 'focu': 1047, 'former': 1048, 'van': 1049, 'colleg': 1050, 'count': 1051, 'heavi': 1052, 'tear': 1053, 'rais': 1054, 'wall': 1055, 'laughabl': 1056, 'visit': 1057, 'younger': 1058, 'excus': 1059, 'fair': 1060, 'sign': 1061, 'cult': 1062, 'motion': 1063, 'tough': 1064, 'key': 1065, 'super': 1066, 'desir': 1067, 'stun': 1068, 'addit': 1069, 'cloth': 1070, 'exploit': 1071, 'tortur': 1072, 'smith': 1073, 'davi': 1074, 'race': 1075, 'author': 1076, 'cross': 1077, 'jim': 1078, 'consist': 1079, 'focus': 1080, 'minor': 1081, 'compel': 1082, 'pathet': 1083, 'chemistri': 1084, 'commit': 1085, 'park': 1086, 'tradit': 1087, 'frank': 1088, 'obsess': 1089, 'grade': 1090, '60': 1091, 'asid': 1092, 'brutal': 1093, 'somewher': 1094, 'steve': 1095, 'explor': 1096, 'rule': 1097, 'grant': 1098, 'u': 1099, 'opportun': 1100, 'depress': 1101, 'honest': 1102, 'besid': 1103, 'anti': 1104, 'dub': 1105, 'trailer': 1106, 'intend': 1107, 'bar': 1108, 'regard': 1109, 'west': 1110, 'longer': 1111, 'scientist': 1112, 'judg': 1113, 'decad': 1114, 'silent': 1115, 'creativ': 1116, 'armi': 1117, 'wild': 1118, 'g': 1119, 'south': 1120, 'stewart': 1121, 'draw': 1122, 'road': 1123, 'govern': 1124, 'ex': 1125, 'boss': 1126, 'practic': 1127, 'club': 1128, 'festiv': 1129, 'surprisingli': 1130, 'gang': 1131, 'motiv': 1132, 'london': 1133, 'green': 1134, 'redeem': 1135, 'page': 1136, 'aliv': 1137, 'idiot': 1138, 'militari': 1139, 'machin': 1140, 'display': 1141, 'repeat': 1142, 'thrill': 1143, 'folk': 1144, '100': 1145, 'yeah': 1146, 'nobodi': 1147, '40': 1148, 'journey': 1149, 'garbag': 1150, 'ground': 1151, 'tire': 1152, 'smile': 1153, 'mood': 1154, 'bought': 1155, 'cost': 1156, 'stone': 1157, 'sam': 1158, 'mouth': 1159, 'noir': 1160, 'terrif': 1161, 'agent': 1162, 'requir': 1163, 'utterli': 1164, 'sexi': 1165, 'area': 1166, 'honestli': 1167, 'report': 1168, 'geniu': 1169, 'enter': 1170, 'humour': 1171, 'investig': 1172, 'glad': 1173, 'serial': 1174, 'narr': 1175, 'passion': 1176, 'occasion': 1177, 'marriag': 1178, 'climax': 1179, 'industri': 1180, 'studi': 1181, 'nowher': 1182, 'demon': 1183, 'ship': 1184, 'charli': 1185, 'center': 1186, 'hors': 1187, 'loos': 1188, 'bear': 1189, 'wow': 1190, 'hang': 1191, 'graphic': 1192, 'admir': 1193, 'giant': 1194, 'send': 1195, 'damn': 1196, 'loud': 1197, 'subtl': 1198, 'rel': 1199, 'nake': 1200, 'profession': 1201, 'blow': 1202, 'bottom': 1203, 'batman': 1204, 'insult': 1205, 'boyfriend': 1206, 'r': 1207, 'doubl': 1208, 'kelli': 1209, 'initi': 1210, 'frame': 1211, 'opera': 1212, 'gem': 1213, 'cinemat': 1214, 'church': 1215, 'affect': 1216, 'drawn': 1217, 'challeng': 1218, 'seek': 1219, 'j': 1220, 'evid': 1221, 'nightmar': 1222, 'l': 1223, 'fulli': 1224, 'essenti': 1225, 'conflict': 1226, 'arm': 1227, 'grace': 1228, 'wind': 1229, 'christoph': 1230, 'henri': 1231, 'witch': 1232, 'narrat': 1233, 'assum': 1234, 'push': 1235, 'hunt': 1236, 'wise': 1237, 'chri': 1238, 'nomin': 1239, 'month': 1240, 'repres': 1241, 'sceneri': 1242, 'avail': 1243, 'hide': 1244, 'affair': 1245, 'thu': 1246, 'justic': 1247, 'smart': 1248, 'bond': 1249, 'flashback': 1250, 'outstand': 1251, 'interview': 1252, 'constantli': 1253, 'satisfi': 1254, 'presenc': 1255, 'bed': 1256, 'central': 1257, 'content': 1258, 'iron': 1259, 'sell': 1260, 'gag': 1261, 'everybodi': 1262, 'hotel': 1263, 'slowli': 1264, 'hire': 1265, 'system': 1266, 'hey': 1267, 'adam': 1268, 'thrown': 1269, 'charl': 1270, 'individu': 1271, 'allen': 1272, 'jone': 1273, 'mediocr': 1274, 'lesson': 1275, 'ray': 1276, 'billi': 1277, 'photographi': 1278, 'cameo': 1279, 'fellow': 1280, 'pari': 1281, 'strike': 1282, 'brief': 1283, 'rise': 1284, 'independ': 1285, 'absurd': 1286, 'neg': 1287, 'impact': 1288, 'phone': 1289, 'born': 1290, 'ill': 1291, 'model': 1292, 'angl': 1293, 'spoil': 1294, 'fresh': 1295, 'likabl': 1296, 'abus': 1297, 'discuss': 1298, 'hill': 1299, 'ahead': 1300, 'sight': 1301, 'photograph': 1302, 'sent': 1303, 'occur': 1304, 'shine': 1305, 'blame': 1306, 'logic': 1307, 'mainli': 1308, 'bruce': 1309, 'commerci': 1310, 'forev': 1311, 'skip': 1312, 'segment': 1313, 'held': 1314, 'teacher': 1315, 'surround': 1316, 'zero': 1317, 'blond': 1318, 'satir': 1319, 'trap': 1320, 'resembl': 1321, 'summer': 1322, 'six': 1323, 'queen': 1324, 'fool': 1325, 'ball': 1326, 'twice': 1327, 'tragedi': 1328, 'sub': 1329, 'pack': 1330, 'reaction': 1331, 'bomb': 1332, 'protagonist': 1333, 'will': 1334, 'hospit': 1335, 'mile': 1336, 'sport': 1337, 'jerri': 1338, 'mom': 1339, 'drink': 1340, 'vote': 1341, 'trust': 1342, 'encount': 1343, 'plane': 1344, 'station': 1345, 'program': 1346, 'al': 1347, 'current': 1348, 'martin': 1349, 'celebr': 1350, 'choos': 1351, 'join': 1352, 'field': 1353, 'round': 1354, 'tragic': 1355, 'favourit': 1356, 'lord': 1357, 'jean': 1358, 'vision': 1359, 'robot': 1360, 'tie': 1361, 'arthur': 1362, 'roger': 1363, 'fortun': 1364, 'random': 1365, 'intern': 1366, 'dread': 1367, 'psycholog': 1368, 'prefer': 1369, 'improv': 1370, 'epic': 1371, 'nonsens': 1372, 'formula': 1373, 'pleasur': 1374, 'highlight': 1375, 'legend': 1376, 'tape': 1377, '11': 1378, 'dollar': 1379, 'wide': 1380, 'gorgeou': 1381, 'thin': 1382, 'porn': 1383, 'fox': 1384, 'object': 1385, 'ugli': 1386, 'buddi': 1387, 'influenc': 1388, 'nasti': 1389, 'ii': 1390, 'prepar': 1391, 'progress': 1392, 'warm': 1393, 'reflect': 1394, 'supposedli': 1395, 'youth': 1396, 'worthi': 1397, 'length': 1398, 'latter': 1399, 'unusu': 1400, 'crash': 1401, 'seven': 1402, 'shop': 1403, 'superior': 1404, 'childhood': 1405, 'theatr': 1406, 'remot': 1407, 'disgust': 1408, 'funniest': 1409, 'paid': 1410, 'pilot': 1411, 'convers': 1412, 'fell': 1413, 'trick': 1414, 'castl': 1415, 'establish': 1416, 'disast': 1417, 'rob': 1418, 'gangster': 1419, 'ident': 1420, 'mine': 1421, 'suicid': 1422, 'heaven': 1423, 'disappear': 1424, 'singer': 1425, 'heroin': 1426, 'tend': 1427, 'forgotten': 1428, 'mask': 1429, 'decis': 1430, 'partner': 1431, 'brian': 1432, 'recogn': 1433, 'alan': 1434, 'desert': 1435, 'thoroughli': 1436, 'stuck': 1437, 'ms': 1438, 'p': 1439, 'sky': 1440, 'replac': 1441, 'accur': 1442, 'market': 1443, 'clue': 1444, 'commentari': 1445, 'uncl': 1446, 'eddi': 1447, 'danni': 1448, 'seemingli': 1449, 'andi': 1450, 'jackson': 1451, 'devil': 1452, 'therefor': 1453, 'pair': 1454, 'refus': 1455, 'that': 1456, 'fault': 1457, 'accid': 1458, 'ed': 1459, 'fate': 1460, 'river': 1461, 'unit': 1462, 'afraid': 1463, 'tune': 1464, 'clean': 1465, 'russian': 1466, 'hidden': 1467, 'stephen': 1468, 'instanc': 1469, 'irrit': 1470, 'convey': 1471, 'readi': 1472, 'captain': 1473, 'quick': 1474, 'test': 1475, 'european': 1476, 'daniel': 1477, 'frustrat': 1478, 'insan': 1479, 'food': 1480, '1950': 1481, 'wed': 1482, 'chines': 1483, 'rescu': 1484, 'dirti': 1485, 'lock': 1486, 'angri': 1487, 'joy': 1488, 'steven': 1489, 'price': 1490, 'bland': 1491, 'cage': 1492, 'rang': 1493, 'anymor': 1494, 'wooden': 1495, 'rush': 1496, 'jason': 1497, 'news': 1498, 'n': 1499, 'twenti': 1500, 'board': 1501, 'led': 1502, '12': 1503, 'worri': 1504, 'martial': 1505, 'cgi': 1506, 'transform': 1507, 'symbol': 1508, 'hunter': 1509, 'sentiment': 1510, 'x': 1511, 'invent': 1512, 'piti': 1513, 'onto': 1514, 'johnni': 1515, 'process': 1516, 'explan': 1517, 'attitud': 1518, 'owner': 1519, 'awar': 1520, 'aim': 1521, 'floor': 1522, 'necessari': 1523, 'favor': 1524, 'energi': 1525, 'target': 1526, 'religi': 1527, 'opposit': 1528, 'blind': 1529, 'insight': 1530, 'window': 1531, 'chick': 1532, 'movement': 1533, 'possess': 1534, 'deepli': 1535, 'comparison': 1536, 'mountain': 1537, 'research': 1538, 'rain': 1539, 'comed': 1540, 'grand': 1541, 'whatsoev': 1542, 'mid': 1543, 'began': 1544, 'bank': 1545, 'shadow': 1546, 'princ': 1547, 'parodi': 1548, 'taylor': 1549, 'weapon': 1550, 'pre': 1551, 'friendship': 1552, 'credibl': 1553, 'dougla': 1554, 'flesh': 1555, 'teach': 1556, 'hint': 1557, 'terror': 1558, 'bloodi': 1559, 'protect': 1560, 'marvel': 1561, 'load': 1562, 'anybodi': 1563, 'drunk': 1564, 'leader': 1565, 'watchabl': 1566, 'superman': 1567, 'accord': 1568, 'freddi': 1569, 'brown': 1570, 'appropri': 1571, 'seat': 1572, 'tim': 1573, 'hitler': 1574, 'jeff': 1575, 'keaton': 1576, 'knock': 1577, 'charg': 1578, 'unknown': 1579, 'villag': 1580, 'unnecessari': 1581, 'enemi': 1582, 'media': 1583, 'empti': 1584, 'england': 1585, 'wave': 1586, 'craft': 1587, 'perspect': 1588, 'dare': 1589, 'strength': 1590, 'buck': 1591, 'utter': 1592, 'contrast': 1593, 'kiss': 1594, 'ford': 1595, 'nativ': 1596, 'correct': 1597, 'chill': 1598, 'soap': 1599, 'magnific': 1600, 'speed': 1601, 'anywher': 1602, 'knowledg': 1603, 'nazi': 1604, 'distract': 1605, 'ice': 1606, 'mission': 1607, 'fred': 1608, 'breath': 1609, '1980': 1610, 'jr': 1611, 'moon': 1612, 'joan': 1613, 'crowd': 1614, '000': 1615, 'soft': 1616, 'frighten': 1617, 'kate': 1618, 'hundr': 1619, 'dick': 1620, 'nick': 1621, 'dan': 1622, 'radio': 1623, 'simon': 1624, 'dozen': 1625, 'somebodi': 1626, 'andrew': 1627, 'academi': 1628, 'thousand': 1629, 'shakespear': 1630, 'loss': 1631, 'sum': 1632, 'vehicl': 1633, 'quot': 1634, 'root': 1635, 'account': 1636, 'convent': 1637, 'behavior': 1638, '1970': 1639, 'leg': 1640, 'regular': 1641, 'gold': 1642, 'compet': 1643, 'worker': 1644, 'pretenti': 1645, 'demand': 1646, 'lynch': 1647, 'notabl': 1648, 'privat': 1649, 'explos': 1650, 'japan': 1651, 'interpret': 1652, 'candi': 1653, 'stretch': 1654, 'debut': 1655, 'constant': 1656, 'tarzan': 1657, 'prais': 1658, 'spi': 1659, 'revolv': 1660, 'translat': 1661, 'sea': 1662, 'threaten': 1663, 'ass': 1664, 'sat': 1665, 'technolog': 1666, 'failur': 1667, 'franc': 1668, 'jesu': 1669, 'quiet': 1670, 'aid': 1671, 'toy': 1672, 'kevin': 1673, 'higher': 1674, 'met': 1675, 'punch': 1676, 'interact': 1677, 'abandon': 1678, 'mike': 1679, 'vh': 1680, 'separ': 1681, 'confront': 1682, 'bet': 1683, 'command': 1684, 'gotten': 1685, 'belong': 1686, 'techniqu': 1687, 'site': 1688, 'recal': 1689, 'servic': 1690, 'stunt': 1691, 'foot': 1692, 'cabl': 1693, 'freak': 1694, 'bug': 1695, 'capabl': 1696, 'fu': 1697, 'african': 1698, 'jimmi': 1699, 'bright': 1700, 'fat': 1701, 'succeed': 1702, 'boat': 1703, 'stock': 1704, 'presid': 1705, 'clark': 1706, 'structur': 1707, 'gene': 1708, 'spanish': 1709, 'paper': 1710, 'kidnap': 1711, 'belief': 1712, 'whilst': 1713, 'factor': 1714, 'witti': 1715, 'complic': 1716, 'attend': 1717, 'tree': 1718, 'realism': 1719, 'educ': 1720, 'bob': 1721, 'realis': 1722, 'assist': 1723, 'finest': 1724, 'santa': 1725, 'broken': 1726, 'observ': 1727, 'up': 1728, 'determin': 1729, 'smoke': 1730, 'depart': 1731, 'v': 1732, 'lewi': 1733, 'fame': 1734, 'domin': 1735, 'rubbish': 1736, 'oper': 1737, 'hat': 1738, 'routin': 1739, 'hook': 1740, 'kinda': 1741, 'foreign': 1742, 'safe': 1743, 'advanc': 1744, 'morgan': 1745, 'lone': 1746, 'numer': 1747, 'rank': 1748, 'washington': 1749, 'rose': 1750, 'werewolf': 1751, 'civil': 1752, 'shape': 1753, 'vs': 1754, 'shallow': 1755, 'morn': 1756, 'gari': 1757, 'kong': 1758, 'accomplish': 1759, 'ordinari': 1760, 'winner': 1761, 'virtual': 1762, 'grab': 1763, 'peac': 1764, 'whenev': 1765, 'h': 1766, 'offens': 1767, 'luck': 1768, 'patient': 1769, 'welcom': 1770, 'unfunni': 1771, 'contriv': 1772, 'complain': 1773, 'activ': 1774, 'bigger': 1775, 'dimension': 1776, 'pretend': 1777, 'trek': 1778, 'con': 1779, 'dri': 1780, 'cain': 1781, 'flash': 1782, 'lesbian': 1783, 'wake': 1784, 'eric': 1785, 'code': 1786, 'guard': 1787, 'manipul': 1788, 'dancer': 1789, 'corrupt': 1790, 'statu': 1791, 'albert': 1792, 'signific': 1793, 'sourc': 1794, 'context': 1795, 'gain': 1796, 'awkward': 1797, 'speech': 1798, 'corni': 1799, 'psycho': 1800, 'anthoni': 1801, 'sean': 1802, 'clip': 1803, '13': 1804, 'theatric': 1805, 'advic': 1806, 'reli': 1807, 'curiou': 1808, 'w': 1809, 'priest': 1810, 'religion': 1811, 'addict': 1812, 'flow': 1813, 'secur': 1814, 'jennif': 1815, 'asian': 1816, 'skin': 1817, 'howard': 1818, 'specif': 1819, 'organ': 1820, 'comfort': 1821, 'promot': 1822, 'core': 1823, 'golden': 1824, 'luke': 1825, 'lucki': 1826, 'cheat': 1827, 'cash': 1828, 'dislik': 1829, 'lower': 1830, 'associ': 1831, 'spell': 1832, 'balanc': 1833, 'contribut': 1834, 'frequent': 1835, 'devic': 1836, 'frankli': 1837, 'degre': 1838, 'wing': 1839, 'regret': 1840, 'lake': 1841, 'forgiv': 1842, 'print': 1843, 'sake': 1844, 'thoma': 1845, 'mass': 1846, 'betti': 1847, 'unexpect': 1848, 'crack': 1849, 'gordon': 1850, 'grown': 1851, 'amateur': 1852, 'unfold': 1853, 'depend': 1854, 'invit': 1855, 'construct': 1856, 'categori': 1857, 'honor': 1858, 'walter': 1859, 'matur': 1860, 'intellectu': 1861, 'grew': 1862, 'condit': 1863, 'anna': 1864, 'sole': 1865, 'veteran': 1866, 'mirror': 1867, 'sudden': 1868, 'spectacular': 1869, 'demonstr': 1870, 'robin': 1871, 'card': 1872, 'overli': 1873, 'freedom': 1874, 'grip': 1875, 'gift': 1876, 'liner': 1877, 'experienc': 1878, 'meanwhil': 1879, 'theori': 1880, 'colour': 1881, 'crappi': 1882, 'sheriff': 1883, 'circumst': 1884, 'unabl': 1885, 'subtitl': 1886, 'section': 1887, 'brilliantli': 1888, 'drew': 1889, 'oliv': 1890, 'sheer': 1891, 'path': 1892, 'cook': 1893, 'pile': 1894, 'parker': 1895, 'laughter': 1896, 'matt': 1897, 'altern': 1898, 'hall': 1899, 'relief': 1900, 'treatment': 1901, 'accident': 1902, 'lawyer': 1903, 'wander': 1904, 'sinatra': 1905, 'defin': 1906, 'captiv': 1907, 'hank': 1908, 'dragon': 1909, 'halloween': 1910, 'gratuit': 1911, 'moor': 1912, 'kung': 1913, 'unintent': 1914, 'k': 1915, 'jacki': 1916, 'wound': 1917, 'broadway': 1918, 'cowboy': 1919, 'barbara': 1920, 'wayn': 1921, 'spoof': 1922, 'surreal': 1923, 'canadian': 1924, 'statement': 1925, 'winter': 1926, 'fare': 1927, 'compos': 1928, 'gonna': 1929, 'fish': 1930, 'treasur': 1931, 'cheer': 1932, 'sensit': 1933, 'unrealist': 1934, 'emerg': 1935, 'woodi': 1936, 'victor': 1937, 'ran': 1938, 'sympathet': 1939, 'neighbor': 1940, 'driven': 1941, 'menac': 1942, 'glass': 1943, 'topic': 1944, 'overlook': 1945, 'expos': 1946, 'authent': 1947, 'handsom': 1948, 'michel': 1949, 'gross': 1950, 'ancient': 1951, 'chief': 1952, 'built': 1953, 'nevertheless': 1954, 'pleasant': 1955, 'comedian': 1956, 'stranger': 1957, 'russel': 1958, 'feet': 1959, 'network': 1960, 'contemporari': 1961, 'cinderella': 1962, 'blockbust': 1963, 'endless': 1964, 'gori': 1965, 'miser': 1966, 'earn': 1967, 'letter': 1968, 'underr': 1969, 'consider': 1970, 'brook': 1971, 'solv': 1972, 'switch': 1973, 'joseph': 1974, 'convict': 1975, 'edward': 1976, 'bullet': 1977, 'victoria': 1978, 'virgin': 1979, '0': 1980, 'scenario': 1981, 'scale': 1982, 'chosen': 1983, 'cynic': 1984, 'alex': 1985, 'curs': 1986, 'gut': 1987, 'com': 1988, 'sword': 1989, 'outrag': 1990, 'substanc': 1991, 'driver': 1992, 'juli': 1993, 'wrap': 1994, 'screenwrit': 1995, 'uk': 1996, 'monkey': 1997, 'proper': 1998, 'remov': 1999, 'court': 2000, 'bird': 2001, 'par': 2002, 'indic': 2003, 'consequ': 2004, 'grave': 2005, 'rental': 2006, 'nanci': 2007, 'inevit': 2008, 'advertis': 2009, 'roy': 2010, 'naiv': 2011, 'loser': 2012, 'slap': 2013, 'bridg': 2014, 'brave': 2015, 'invis': 2016, 'germani': 2017, 'fatal': 2018, 'le': 2019, 'loui': 2020, 'provok': 2021, 'anger': 2022, 'footbal': 2023, 'ador': 2024, 'alcohol': 2025, 'anderson': 2026, 'chan': 2027, 'ryan': 2028, 'willi': 2029, 'stumbl': 2030, 'professor': 2031, 'sharp': 2032, 'australian': 2033, 'patrick': 2034, '1930': 2035, 'assassin': 2036, 'bat': 2037, 'heck': 2038, 'strongli': 2039, 'lousi': 2040, 'eight': 2041, 'saturday': 2042, 'amateurish': 2043, 'deni': 2044, 'liber': 2045, 'ape': 2046, 'refresh': 2047, 'trilog': 2048, 'cell': 2049, 'sin': 2050, 'justifi': 2051, 'resid': 2052, 'vagu': 2053, 'san': 2054, 'reput': 2055, 'sympathi': 2056, 'mini': 2057, 'indi': 2058, 'creator': 2059, 'defeat': 2060, 'terrifi': 2061, 'task': 2062, 'prevent': 2063, 'expert': 2064, 'tabl': 2065, 'endur': 2066, 'tediou': 2067, 'employ': 2068, 'offend': 2069, 'imit': 2070, 'trial': 2071, 'che': 2072, 'rival': 2073, 'basebal': 2074, 'dig': 2075, 'complaint': 2076, 'beach': 2077, 'fairi': 2078, 'weekend': 2079, 'pitch': 2080, 'europ': 2081, 'max': 2082, 'risk': 2083, 'format': 2084, 'murphi': 2085, 'purchas': 2086, 'glimps': 2087, 'nois': 2088, 'tini': 2089, 'titan': 2090, 'hype': 2091, 'powel': 2092, 'harsh': 2093, 'reminisc': 2094, 'bite': 2095, 'till': 2096, '14': 2097, 'strip': 2098, 'asleep': 2099, 'prime': 2100, 'north': 2101, 'fals': 2102, 'destruct': 2103, 'africa': 2104, 'revel': 2105, 'descript': 2106, 'texa': 2107, 'sitcom': 2108, 'uninterest': 2109, 'inner': 2110, 'excess': 2111, 'arrest': 2112, 'semi': 2113, 'spin': 2114, 'surfac': 2115, 'hitchcock': 2116, 'controversi': 2117, 'massiv': 2118, 'argu': 2119, 'makeup': 2120, 'maintain': 2121, 'dinosaur': 2122, 'twin': 2123, 'expens': 2124, 'kim': 2125, 'reject': 2126, 'stare': 2127, 'ideal': 2128, 'melodrama': 2129, 'insist': 2130, 'ludicr': 2131, 'press': 2132, 'forest': 2133, 'erot': 2134, 'host': 2135, 'ala': 2136, 'nail': 2137, 'subplot': 2138, 'atroci': 2139, 'supernatur': 2140, 'ga': 2141, 'columbo': 2142, 'presum': 2143, 'cant': 2144, 'identifi': 2145, 'dude': 2146, 'notch': 2147, 'method': 2148, 'guest': 2149, 'forgett': 2150, 'crude': 2151, 'plagu': 2152, 'closer': 2153, 'character': 2154, 'ear': 2155, 'lion': 2156, 'beast': 2157, 'border': 2158, 'princess': 2159, 'landscap': 2160, 'foster': 2161, 'storytel': 2162, 'bound': 2163, 'jungl': 2164, 'pacino': 2165, 'urban': 2166, 'birth': 2167, 'accus': 2168, 'aunt': 2169, 'damag': 2170, 'previous': 2171, 'guid': 2172, 'chose': 2173, 'emma': 2174, 'doll': 2175, 'propaganda': 2176, 'thirti': 2177, 'nude': 2178, 'jess': 2179, 'pet': 2180, 'mate': 2181, 'mainstream': 2182, 'whoever': 2183, 'warrior': 2184, '25': 2185, 'exact': 2186, 'deadli': 2187, 'upset': 2188, 'poster': 2189, 'merit': 2190, 'size': 2191, 'friday': 2192, 'gritti': 2193, 'cooper': 2194, 'latest': 2195, 'wilson': 2196, '1990': 2197, 'buff': 2198, 'blend': 2199, 'contest': 2200, 'sun': 2201, 'settl': 2202, 'citizen': 2203, 'ton': 2204, 'popul': 2205, 'warner': 2206, 'rough': 2207, 'corps': 2208, 'contact': 2209, 'widow': 2210, 'rat': 2211, 'select': 2212, 'bu': 2213, 'alic': 2214, 'mgm': 2215, 'pitt': 2216, 'overcom': 2217, 'environ': 2218, 'metal': 2219, 'lift': 2220, 'particip': 2221, 'ted': 2222, 'revolut': 2223, 'link': 2224, 'guilti': 2225, '1960': 2226, 'prostitut': 2227, 'exagger': 2228, 'corpor': 2229, 'corner': 2230, 'moron': 2231, 'afternoon': 2232, 'matrix': 2233, 'accompani': 2234, 'johnson': 2235, 'sincer': 2236, 'friendli': 2237, 'instal': 2238, 'doom': 2239, 'leagu': 2240, 'multipl': 2241, 'hood': 2242, 'holm': 2243, 'clair': 2244, 'advis': 2245, 'junk': 2246, 'defend': 2247, 'hip': 2248, 'irish': 2249, 'examin': 2250, 'grim': 2251, 'sunday': 2252, 'campi': 2253, 'blah': 2254, 'string': 2255, 'lugosi': 2256, 'aka': 2257, 'rachel': 2258, 'tight': 2259, 'shake': 2260, 'shut': 2261, 'icon': 2262, 'pro': 2263, 'confid': 2264, 'varieti': 2265, 'attach': 2266, 'goal': 2267, 'denni': 2268, 'medic': 2269, 'sullivan': 2270, 'mexican': 2271, 'jaw': 2272, 'directli': 2273, 'breast': 2274, 'sentenc': 2275, 'sarah': 2276, 'truck': 2277, 'dean': 2278, 'terrorist': 2279, 'courag': 2280, 'bourn': 2281, 'prior': 2282, 'legendari': 2283, 'duke': 2284, 'vietnam': 2285, 'nose': 2286, 'proceed': 2287, 'un': 2288, 'hong': 2289, 'behav': 2290, 'donald': 2291, 'split': 2292, 'entri': 2293, 'yell': 2294, 'lifetim': 2295, 'buri': 2296, 'forth': 2297, 'confess': 2298, 'everywher': 2299, 'unconvinc': 2300, 'crush': 2301, 'swim': 2302, 'concentr': 2303, 'borrow': 2304, 'stolen': 2305, 'gather': 2306, 'jerk': 2307, 'turkey': 2308, 'deliveri': 2309, 'pan': 2310, 'julia': 2311, 'california': 2312, 'spite': 2313, 'lip': 2314, 'flight': 2315, 'offici': 2316, 'quest': 2317, 'reward': 2318, 'china': 2319, 'downright': 2320, 'proud': 2321, 'freeman': 2322, 'hoffman': 2323, 'encourag': 2324, 'betray': 2325, 'fade': 2326, 'sink': 2327, 'lazi': 2328, 'worthwhil': 2329, 'fabul': 2330, 'jon': 2331, 'jail': 2332, 'notori': 2333, 'inept': 2334, 'sir': 2335, 'lisa': 2336, 'relev': 2337, 'bell': 2338, 'survivor': 2339, 'storm': 2340, 'imageri': 2341, 'susan': 2342, 'cousin': 2343, 'retard': 2344, 'teeth': 2345, 'shower': 2346, 'bag': 2347, 'branagh': 2348, 'toler': 2349, 'quirki': 2350, 'summari': 2351, 'hugh': 2352, 'alright': 2353, 'facial': 2354, 'mexico': 2355, 'finger': 2356, 'trade': 2357, 'tremend': 2358, 'stab': 2359, 'shark': 2360, 'bride': 2361, 'pose': 2362, 'ha': 2363, 'hyster': 2364, 'von': 2365, 'blown': 2366, 'bitter': 2367, 'christ': 2368, 'afterward': 2369, 'larri': 2370, 'address': 2371, 'cruel': 2372, 'bone': 2373, 'ron': 2374, 'scheme': 2375, 'ned': 2376, 'pursu': 2377, 'snake': 2378, 'screw': 2379, 'tour': 2380, 'beg': 2381, 'thumb': 2382, 'swear': 2383, 'feed': 2384, 'traci': 2385, 'distinct': 2386, 'occas': 2387, 'photo': 2388, 'obscur': 2389, 'chair': 2390, 'raw': 2391, 'mechan': 2392, 'stomach': 2393, 'resist': 2394, 'heavili': 2395, 'argument': 2396, 'necessarili': 2397, 'holiday': 2398, 'sidney': 2399, 'gruesom': 2400, 'chain': 2401, 'render': 2402, 'southern': 2403, 'cabin': 2404, 'hardi': 2405, 'indulg': 2406, 'satan': 2407, 'india': 2408, 'philip': 2409, 'understood': 2410, 'racist': 2411, 'pregnant': 2412, 'outfit': 2413, 'lay': 2414, 'fourth': 2415, 'tongu': 2416, 'forgot': 2417, 'integr': 2418, 'belov': 2419, 'obnoxi': 2420, 'stalk': 2421, 'midnight': 2422, 'inhabit': 2423, '17': 2424, 'magazin': 2425, 'slapstick': 2426, 'carol': 2427, 'garden': 2428, 'restor': 2429, 'ticket': 2430, 'deeper': 2431, 'devot': 2432, 'brad': 2433, 'lincoln': 2434, 'incid': 2435, 'shoe': 2436, 'elizabeth': 2437, 'benefit': 2438, 'underground': 2439, 'anticip': 2440, 'disbelief': 2441, 'sandler': 2442, 'guarante': 2443, 'maria': 2444, 'divorc': 2445, 'lili': 2446, 'amazingli': 2447, 'mildli': 2448, 'slave': 2449, 'cring': 2450, 'explod': 2451, 'greater': 2452, 'capit': 2453, 'creation': 2454, 'bbc': 2455, 'princip': 2456, 'funnier': 2457, 'halfway': 2458, 'lesli': 2459, 'extraordinari': 2460, 'introduct': 2461, 'transfer': 2462, 'overwhelm': 2463, 'extent': 2464, 'tap': 2465, 'text': 2466, 'punish': 2467, 'enhanc': 2468, 'advantag': 2469, 'wreck': 2470, 'horrif': 2471, 'lane': 2472, 'deliber': 2473, 'error': 2474, 'plant': 2475, 'jessica': 2476, 'lo': 2477, 'east': 2478, 'preview': 2479, 'dynam': 2480, 'sophist': 2481, 'appli': 2482, 'miller': 2483, 'basi': 2484, 'ensu': 2485, 'vincent': 2486, 'miscast': 2487, '2000': 2488, 'vacat': 2489, 'homosexu': 2490, 'bollywood': 2491, 'measur': 2492, 'mansion': 2493, 'uncomfort': 2494, 'elev': 2495, 'extend': 2496, 'spoken': 2497, 'reed': 2498, 'sleazi': 2499, 'steel': 2500, 'via': 2501, 'overact': 2502, 'conceiv': 2503, 'breathtak': 2504, 'blair': 2505, 'beer': 2506, 'mous': 2507, 'goofi': 2508, 'fix': 2509, 'assign': 2510, 'cathol': 2511, 'savag': 2512, 'alter': 2513, 'daili': 2514, 'hippi': 2515, 'dentist': 2516, 'melt': 2517, 'stanley': 2518, 'inspector': 2519, 'properli': 2520, 'sacrific': 2521, 'burt': 2522, 'nowaday': 2523, 'oppos': 2524, 'carpent': 2525, 'succe': 2526, 'subsequ': 2527, 'everyday': 2528, 'massacr': 2529, 'neck': 2530, 'circl': 2531, 'block': 2532, 'laura': 2533, 'christi': 2534, 'access': 2535, 'fay': 2536, 'lesser': 2537, 'portrait': 2538, 'pool': 2539, 'fallen': 2540, 'mob': 2541, 'concert': 2542, 'grey': 2543, 'seagal': 2544, 'chees': 2545, 'sinist': 2546, 'react': 2547, 'jewish': 2548, 'relax': 2549, 'usa': 2550, 'isol': 2551, 'jake': 2552, 'competit': 2553, 'spiritu': 2554, 'nonetheless': 2555, 'creep': 2556, 'appal': 2557, 'nine': 2558, '2006': 2559, 'chop': 2560, 'stink': 2561, 'ironi': 2562, 'suitabl': 2563, 'lyric': 2564, 'immens': 2565, 'retir': 2566, 'sold': 2567, 'user': 2568, 'nut': 2569, 'showcas': 2570, 'shirt': 2571, 'spring': 2572, 'rage': 2573, 'adopt': 2574, 'reduc': 2575, 'luci': 2576, 'navi': 2577, 'franchis': 2578, 'needless': 2579, 'bath': 2580, 'zone': 2581, 'asham': 2582, 'jay': 2583, 'bulli': 2584, 'nurs': 2585, 'stanwyck': 2586, 'uninspir': 2587, 'per': 2588, 'digit': 2589, 'illustr': 2590, 'broadcast': 2591, 'amongst': 2592, '2001': 2593, 'laid': 2594, 'sutherland': 2595, 'oddli': 2596, 'upper': 2597, '1940': 2598, 'fulfil': 2599, 'disguis': 2600, 'baker': 2601, 'brando': 2602, 'throat': 2603, 'stylish': 2604, 'aspir': 2605, 'em': 2606, 'endear': 2607, 'pride': 2608, '18': 2609, 'impli': 2610, 'nobl': 2611, 'neighborhood': 2612, 'pound': 2613, 'wwii': 2614, 'wanna': 2615, 'thief': 2616, 'cinematograph': 2617, 'albeit': 2618, 'dinner': 2619, 'diseas': 2620, 'distribut': 2621, 'coher': 2622, 'tens': 2623, 'shoulder': 2624, 'shift': 2625, 'bett': 2626, '16': 2627, 'bo': 2628, 'rochest': 2629, 'dawn': 2630, 'prop': 2631, 'silenc': 2632, 'surf': 2633, 'shout': 2634, 'snow': 2635, 'contract': 2636, 'function': 2637, 'rebel': 2638, 'forti': 2639, 'knife': 2640, 'matthau': 2641, 'wash': 2642, 'poignant': 2643, 'derek': 2644, 'henc': 2645, 'cancel': 2646, 'reunion': 2647, 'chuck': 2648, 'height': 2649, 'heat': 2650, 'mindless': 2651, 'eeri': 2652, 'elvira': 2653, 'horrend': 2654, 'proof': 2655, 'silver': 2656, 'duti': 2657, 'instinct': 2658, 'internet': 2659, 'widmark': 2660, 'cannib': 2661, 'mill': 2662, 'spielberg': 2663, 'torn': 2664, 'glori': 2665, 'incoher': 2666, 'greatli': 2667, 'elvi': 2668, 'neat': 2669, 'premier': 2670, 'repetit': 2671, 'alik': 2672, 'absorb': 2673, 'etern': 2674, 'pie': 2675, 'musician': 2676, 'innov': 2677, 'infam': 2678, 'burton': 2679, 'redempt': 2680, 'lovabl': 2681, 'horrifi': 2682, 'blank': 2683, 'diamond': 2684, 'crisi': 2685, 'wealthi': 2686, 'bang': 2687, 'trite': 2688, 'itali': 2689, 'announc': 2690, 'fbi': 2691, 'racism': 2692, 'homag': 2693, 'precis': 2694, 'britain': 2695, 'nelson': 2696, 'flop': 2697, 'wilder': 2698, 'dedic': 2699, 'chaplin': 2700, 'resolut': 2701, 'ensembl': 2702, 'streisand': 2703, 'helen': 2704, 'pat': 2705, 'happili': 2706, 'parallel': 2707, 'hammer': 2708, 'disagre': 2709, 'cube': 2710, 'oil': 2711, 'broke': 2712, 'mar': 2713, 'triumph': 2714, 'carter': 2715, 'conclud': 2716, 'plastic': 2717, 'st': 2718, 'factori': 2719, 'own': 2720, 'march': 2721, 'chuckl': 2722, 'weight': 2723, 'row': 2724, 'bush': 2725, 'climb': 2726, 'rocket': 2727, 'fighter': 2728, 'vega': 2729, 'spare': 2730, 'lust': 2731, 'mst3k': 2732, 'dump': 2733, 'unforgett': 2734, 'thug': 2735, 'wherea': 2736, 'enorm': 2737, 'boot': 2738, 'sensibl': 2739, 'luca': 2740, 'dane': 2741, 'kurt': 2742, 'meaning': 2743, 'stress': 2744, 'threat': 2745, 'difficulti': 2746, 'butt': 2747, 'caricatur': 2748, 'brand': 2749, 'dear': 2750, 'engin': 2751, 'arnold': 2752, 'fifti': 2753, 'rap': 2754, 'adequ': 2755, 'bobbi': 2756, 'karloff': 2757, 'secretari': 2758, 'ralph': 2759, 'swing': 2760, 'fest': 2761, 'arrog': 2762, 'elabor': 2763, 'journalist': 2764, 'polish': 2765, 'ego': 2766, 'hamlet': 2767, 'homeless': 2768, 'flynn': 2769, 'barri': 2770, 'induc': 2771, 'resort': 2772, 'puppet': 2773, 'simpson': 2774, 'unbear': 2775, 'spike': 2776, 'fanci': 2777, 'conspiraci': 2778, 'float': 2779, 'arrang': 2780, 'grate': 2781, 'tool': 2782, 'basement': 2783, 'boll': 2784, 'pig': 2785, 'phillip': 2786, 'cruis': 2787, 'exercis': 2788, 'choreograph': 2789, 'tribut': 2790, 'guilt': 2791, 'muppet': 2792, 'fianc': 2793, 'toilet': 2794, 'editor': 2795, 'document': 2796, 'item': 2797, 'layer': 2798, 'medium': 2799, 'puzzl': 2800, 'ward': 2801, 'ham': 2802, 'korean': 2803, 'scarecrow': 2804, 'file': 2805, '24': 2806, 'babe': 2807, 'tower': 2808, 'slip': 2809, 'stan': 2810, 'transit': 2811, 'philosoph': 2812, 'spark': 2813, 'denzel': 2814, 'territori': 2815, 'inexplic': 2816, 'librari': 2817, 'slaughter': 2818, 'orient': 2819, 'doc': 2820, 'persona': 2821, 'glover': 2822, 'assur': 2823, 'larger': 2824, 'minim': 2825, 'portion': 2826, 'superfici': 2827, 'catherin': 2828, 'financi': 2829, 'dorothi': 2830, 'pg': 2831, 'walken': 2832, 'wolf': 2833, 'boredom': 2834, 'ban': 2835, 'jet': 2836, 'shi': 2837, 'curti': 2838, 'owe': 2839, 'sneak': 2840, 'jeremi': 2841, 'multi': 2842, 'profound': 2843, 'eleph': 2844, 'metaphor': 2845, 'ambigu': 2846, 'hudson': 2847, 'cusack': 2848, 'backdrop': 2849, 'whale': 2850, 'birthday': 2851, '2005': 2852, 'rave': 2853, 'implaus': 2854, 'elsewher': 2855, 'union': 2856, 'stiff': 2857, 'hack': 2858, 'gadget': 2859, 'ultra': 2860, 'notion': 2861, 'viru': 2862, 'newspap': 2863, 'urg': 2864, 'bibl': 2865, 'canada': 2866, 'pad': 2867, 'eastwood': 2868, 'distanc': 2869, 'deriv': 2870, 'slight': 2871, 'squar': 2872, '1st': 2873, 'eva': 2874, 'hawk': 2875, 'superhero': 2876, 'afford': 2877, 'disc': 2878, 'poison': 2879, 'lloyd': 2880, 'reader': 2881, 'huh': 2882, 'spread': 2883, 'health': 2884, 'charisma': 2885, 'essenc': 2886, 'button': 2887, 'restaur': 2888, 'drown': 2889, 'sadist': 2890, 'skit': 2891, 'montag': 2892, 'heston': 2893, 'cure': 2894, 'estat': 2895, 'peak': 2896, 'companion': 2897, 'lab': 2898, 'muslim': 2899, 'maniac': 2900, 'invest': 2901, 'fetch': 2902, 'scoobi': 2903, 'gradual': 2904, 'godfath': 2905, 'dealt': 2906, 'subtleti': 2907, 'ritter': 2908, 'kane': 2909, 'countless': 2910, 'miik': 2911, 'cup': 2912, 'gothic': 2913, 'alli': 2914, 'tea': 2915, 'servant': 2916, 'heroic': 2917, 'briefli': 2918, 'elect': 2919, 'electr': 2920, 'charismat': 2921, 'iii': 2922, 'salli': 2923, 'resourc': 2924, 'cole': 2925, 'nuanc': 2926, 'wannab': 2927, 'grandmoth': 2928, 'toss': 2929, 'neil': 2930, 'admittedli': 2931, 'reel': 2932, 'ingredi': 2933, 'tender': 2934, 'bud': 2935, 'mild': 2936, 'pit': 2937, 'poverti': 2938, 'stronger': 2939, 'kubrick': 2940, 'gate': 2941, 'punk': 2942, 'reev': 2943, 'stood': 2944, 'mafia': 2945, 'dawson': 2946, 'shall': 2947, 'carrey': 2948, 'label': 2949, 'pauli': 2950, 'easier': 2951, 'cox': 2952, 'useless': 2953, 'smash': 2954, 'cardboard': 2955, 'burst': 2956, 'tag': 2957, 'outcom': 2958, 'fond': 2959, 'terri': 2960, 'ian': 2961, 'updat': 2962, 'smooth': 2963, 'assault': 2964, 'bakshi': 2965, 'astair': 2966, 'divers': 2967, 'vulner': 2968, 'exchang': 2969, 'coincid': 2970, 'sketch': 2971, 'vari': 2972, '2002': 2973, 'samurai': 2974, 'increasingli': 2975, 'rex': 2976, 'melodramat': 2977, 'fist': 2978, 'resolv': 2979, 'qualifi': 2980, 'insert': 2981, 'conveni': 2982, 'tame': 2983, 'scratch': 2984, 'templ': 2985, 'suspend': 2986, 'luckili': 2987, 'brillianc': 2988, 'reynold': 2989, 'be': 2990, 'blast': 2991, 'hamilton': 2992, 'gotta': 2993, 'matthew': 2994, 'pin': 2995, 'nuclear': 2996, 'soprano': 2997, 'meat': 2998, 'strictli': 2999, 'farm': 3000, 'coach': 3001, 'ambiti': 3002, 'seventi': 3003, 'jami': 3004, 'walker': 3005, 'fisher': 3006, 'spooki': 3007, 'instantli': 3008, 'recreat': 3009, 'timeless': 3010, 'closet': 3011, 'ninja': 3012, 'kudo': 3013, 'eccentr': 3014, 'joey': 3015, 'discoveri': 3016, 'monk': 3017, 'empir': 3018, 'grasp': 3019, 'butcher': 3020, 'convolut': 3021, 'struck': 3022, 'clock': 3023, 'brosnan': 3024, 'cave': 3025, 'revers': 3026, 'worthless': 3027, 'sidekick': 3028, 'fifteen': 3029, 'norman': 3030, 'mitchel': 3031, 'gray': 3032, 'seller': 3033, 'importantli': 3034, 'sloppi': 3035, 'declar': 3036, 'bleak': 3037, 'selfish': 3038, 'partli': 3039, 'clown': 3040, 'inconsist': 3041, 'pal': 3042, 'miracl': 3043, 'evok': 3044, 'cliff': 3045, 'communist': 3046, 'wipe': 3047, 'eighti': 3048, 'stoog': 3049, '45': 3050, 'flawless': 3051, 'farc': 3052, 'chew': 3053, 'piano': 3054, 'cheek': 3055, 'destin': 3056, 'australia': 3057, 'enthusiast': 3058, 'debat': 3059, 'superbl': 3060, 'lifestyl': 3061, 'ho': 3062, 'seed': 3063, 'psychiatrist': 3064, 'aforement': 3065, 'websit': 3066, 'pressur': 3067, 'akshay': 3068, 'wrestl': 3069, 'dire': 3070, 'incompet': 3071, 'dash': 3072, 'soviet': 3073, 'bash': 3074, 'drivel': 3075, 'wick': 3076, 'directori': 3077, 'slice': 3078, 'abc': 3079, 'kitchen': 3080, 'anni': 3081, 'splatter': 3082, 'regardless': 3083, 'emili': 3084, 'cia': 3085, 'ken': 3086, 'cameron': 3087, 'increas': 3088, 'beaten': 3089, 'distant': 3090, 'seduc': 3091, 'recov': 3092, 'helicopt': 3093, 'duo': 3094, 'artifici': 3095, 'dave': 3096, 'flower': 3097, 'curios': 3098, 'doo': 3099, 'suppli': 3100, 'boil': 3101, 'jar': 3102, 'glow': 3103, 'pleasantli': 3104, 'cagney': 3105, 'mann': 3106, 'chapter': 3107, 'judi': 3108, 'blob': 3109, 'prize': 3110, 'lou': 3111, 'splendid': 3112, 'psychot': 3113, 'eleg': 3114, 'goldberg': 3115, 'perri': 3116, 'ranger': 3117, 'panic': 3118, 'favour': 3119, 'combat': 3120, 'glenn': 3121, 'craig': 3122, 'hop': 3123, 'drunken': 3124, 'laurel': 3125, 'francisco': 3126, 'ellen': 3127, 'turner': 3128, 'web': 3129, 'craven': 3130, 'slightest': 3131, 'hatr': 3132, 'flip': 3133, 'gandhi': 3134, 'rid': 3135, '20th': 3136, 'philosophi': 3137, 'shortli': 3138, 'fx': 3139, 'alexand': 3140, 'graduat': 3141, 'wizard': 3142, 'modesti': 3143, 'ruth': 3144, 'greek': 3145, 'falk': 3146, 'plausibl': 3147, 'gentl': 3148, 'min': 3149, 'manhattan': 3150, 'futurist': 3151, 'legal': 3152, 'unpleas': 3153, 'fund': 3154, 'tall': 3155, 'dracula': 3156, 'jealou': 3157, 'ocean': 3158, 'preciou': 3159, 'lend': 3160, 'holi': 3161, 'knight': 3162, 'felix': 3163, 'harm': 3164, 'we': 3165, 'scientif': 3166, 'explicit': 3167, 'childish': 3168, 'overdon': 3169, 'digniti': 3170, 'bless': 3171, 'mock': 3172, 'tank': 3173, 'nod': 3174, 'ami': 3175, 'reviv': 3176, 'forbidden': 3177, 'giallo': 3178, 'thread': 3179, 'thick': 3180, 'awe': 3181, '2004': 3182, 'pirat': 3183, 'margaret': 3184, 'yesterday': 3185, 'verhoeven': 3186, 'eve': 3187, 'unwatch': 3188, 'fever': 3189, 'torment': 3190, 'repeatedli': 3191, '99': 3192, 'nerv': 3193, 'broad': 3194, 'elderli': 3195, 'mel': 3196, 'awaken': 3197, 'publish': 3198, 'timothi': 3199, 'stiller': 3200, 'griffith': 3201, 'roman': 3202, 'romero': 3203, 'ah': 3204, 'launch': 3205, 'absenc': 3206, 'lean': 3207, 'acclaim': 3208, 'rivet': 3209, 'automat': 3210, 'eas': 3211, 'kay': 3212, 'ambit': 3213, 'custom': 3214, 'uniform': 3215, 'politician': 3216, 'bin': 3217, 'royal': 3218, 'purpl': 3219, 'tomato': 3220, 'homicid': 3221, 'phrase': 3222, 'termin': 3223, 'bathroom': 3224, 'crook': 3225, 'darker': 3226, 'antic': 3227, 'pulp': 3228, 'foul': 3229, 'pierc': 3230, 'wallac': 3231, 'sunshin': 3232, 'gabriel': 3233, 'stinker': 3234, 'warren': 3235, 'transport': 3236, 'album': 3237, '2003': 3238, 'prom': 3239, 'revolutionari': 3240, 'sixti': 3241, 'packag': 3242, 'choreographi': 3243, 'evolv': 3244, 'q': 3245, 'kenneth': 3246, 'hollow': 3247, 'contrari': 3248, 'pray': 3249, 'brazil': 3250, 'awak': 3251, 'juvenil': 3252, 'li': 3253, 'eyr': 3254, 'ought': 3255, 'saint': 3256, 'horrid': 3257, 'viciou': 3258, 'donna': 3259, 'rambo': 3260, 'coloni': 3261, 'marin': 3262, 'karen': 3263, 'stole': 3264, 'ireland': 3265, 'overr': 3266, 'nerd': 3267, 'boast': 3268, 'dose': 3269, 'twelv': 3270, 'option': 3271, 'mildr': 3272, 'ramon': 3273, 'mummi': 3274, 'defi': 3275, 'conserv': 3276, 'blade': 3277, 'beatti': 3278, 'kapoor': 3279, 'candid': 3280, 'trio': 3281, 'protest': 3282, 'collabor': 3283, 'global': 3284, 'natali': 3285, 'flame': 3286, 'detract': 3287, 'confirm': 3288, 'jazz': 3289, 'astonish': 3290, 'altman': 3291, 'funer': 3292, 'fulci': 3293, 'kirk': 3294, 'blake': 3295, 'yellow': 3296, 'nicholson': 3297, 'whip': 3298, 'bull': 3299, 'spit': 3300, 'leap': 3301, 'mystic': 3302, 'shade': 3303, 'bottl': 3304, 'enterpris': 3305, 'audio': 3306, 'destini': 3307, 'racial': 3308, 'delici': 3309, 'tommi': 3310, 'bedroom': 3311, 'meaningless': 3312, 'reunit': 3313, 'visibl': 3314, 'inherit': 3315, 'todd': 3316, 'threw': 3317, 'fonda': 3318, 'vivid': 3319, 'adolesc': 3320, 'harder': 3321, 'altogeth': 3322, 'neo': 3323, 'swedish': 3324, 'popcorn': 3325, 'enchant': 3326, 'merci': 3327, 'pseudo': 3328, 'staff': 3329, 'befriend': 3330, 'leonard': 3331, 'decor': 3332, 'synopsi': 3333, 'reserv': 3334, 'respond': 3335, 'exhibit': 3336, 'kennedi': 3337, 'fanat': 3338, 'wire': 3339, 'lawrenc': 3340, 'uneven': 3341, 'crocodil': 3342, 'roommat': 3343, 'jew': 3344, 'tip': 3345, 'moodi': 3346, 'bust': 3347, 'edi': 3348, 'suspici': 3349, 'ruthless': 3350, 'lemmon': 3351, 'atlanti': 3352, 'await': 3353, 'voight': 3354, 'madonna': 3355, 'voyag': 3356, 'bradi': 3357, 'abysm': 3358, 'centr': 3359, 'bold': 3360, 'clint': 3361, 'ventur': 3362, 'dimens': 3363, '2007': 3364, 'incident': 3365, 'holli': 3366, 'bargain': 3367, 'clumsi': 3368, 'audit': 3369, 'garner': 3370, 'carl': 3371, 'unsettl': 3372, 'chao': 3373, 'palma': 3374, 'rural': 3375, 'tiger': 3376, 'timon': 3377, 'cari': 3378, '2nd': 3379, 'daddi': 3380, 'ant': 3381, 'lit': 3382, 'echo': 3383, 'versu': 3384, 'poetic': 3385, 'elimin': 3386, 'hart': 3387, 'cuba': 3388, 'characterist': 3389, 'neglect': 3390, 'mall': 3391, 'nearbi': 3392, 'trail': 3393, 'immigr': 3394, 'wealth': 3395, 'troop': 3396, 'humili': 3397, 'imperson': 3398, 'acknowledg': 3399, 'cd': 3400, 'repuls': 3401, 'domest': 3402, 'mickey': 3403, 'celluloid': 3404, 'paus': 3405, 'collaps': 3406, 'pun': 3407, 'prejudic': 3408, 'mistaken': 3409, 'homer': 3410, 'saga': 3411, 'solo': 3412, 'jeffrey': 3413, 'marshal': 3414, 'infect': 3415, 'assembl': 3416, 'inan': 3417, 'coffe': 3418, 'interrupt': 3419, 'inappropri': 3420, 'harvey': 3421, 'apolog': 3422, 'undoubtedli': 3423, 'sore': 3424, 'hbo': 3425, 'pant': 3426, 'promin': 3427, 'milk': 3428, 'gear': 3429, 'tribe': 3430, 'ginger': 3431, 'cake': 3432, 'olivi': 3433, 'coat': 3434, 'leon': 3435, 'equip': 3436, '1996': 3437, 'chest': 3438, 'colleagu': 3439, 'maggi': 3440, 'devast': 3441, 'jenni': 3442, 'aveng': 3443, 'brooklyn': 3444, 'embrac': 3445, 'solut': 3446, 'primari': 3447, 'consum': 3448, 'instant': 3449, 'polanski': 3450, 'furthermor': 3451, 'pen': 3452, 'trace': 3453, 'humbl': 3454, 'highest': 3455, 'florida': 3456, 'exot': 3457, 'retain': 3458, 'colonel': 3459, 'institut': 3460, 'pot': 3461, 'airplan': 3462, 'vulgar': 3463, 'smaller': 3464, 'ya': 3465, 'illog': 3466, 'outer': 3467, 'rick': 3468, 'sale': 3469, 'seduct': 3470, 'linda': 3471, 'cope': 3472, 'strain': 3473, '1999': 3474, 'poke': 3475, '3rd': 3476, 'principl': 3477, 'dian': 3478, 'descend': 3479, 'godzilla': 3480, 'disabl': 3481, 'dutch': 3482, 'wive': 3483, 'gender': 3484, 'bowl': 3485, 'secondli': 3486, 'glamor': 3487, 'cue': 3488, 'mixtur': 3489, 'hal': 3490, 'lol': 3491, 'yard': 3492, 'blatant': 3493, 'dive': 3494, 'dud': 3495, 'beneath': 3496, 'predecessor': 3497, 'devoid': 3498, 'inferior': 3499, 'gloriou': 3500, 'primarili': 3501, 'scope': 3502, 'vast': 3503, 'bubbl': 3504, 'rabbit': 3505, 'gundam': 3506, 'shelf': 3507, 'shirley': 3508, 'invas': 3509, 'senseless': 3510, 'et': 3511, 'myer': 3512, 'museum': 3513, 'domino': 3514, 'alfr': 3515, 'countrysid': 3516, 'alert': 3517, 'trademark': 3518, 'disjoint': 3519, 'z': 3520, 'pearl': 3521, 'grinch': 3522, 'aggress': 3523, 'hideou': 3524, 'simplist': 3525, 'arab': 3526, 'casual': 3527, 'streep': 3528, 'april': 3529, 'talki': 3530, 'breed': 3531, 'garbo': 3532, 'hardcor': 3533, 'boom': 3534, 'unhappi': 3535, 'rendit': 3536, 'uwe': 3537, 'illeg': 3538, 'hopeless': 3539, 'robberi': 3540, 'defens': 3541, 'sh': 3542, 'stellar': 3543, 'obtain': 3544, 'stir': 3545, 'acid': 3546, 'disgrac': 3547, 'applaud': 3548, 'slide': 3549, 'vanish': 3550, 'mail': 3551, 'loyal': 3552, 'stack': 3553, 'experiment': 3554, 'mayor': 3555, 'oz': 3556, 'robinson': 3557, 'khan': 3558, 'maci': 3559, 'recruit': 3560, 'topless': 3561, 'dismiss': 3562, 'dicken': 3563, 'diana': 3564, 'declin': 3565, 'amanda': 3566, 'tenant': 3567, 'spider': 3568, 'incomprehens': 3569, 'soccer': 3570, 'blew': 3571, 'psychic': 3572, 'wont': 3573, 'craze': 3574, 'rifl': 3575, 'span': 3576, 'fri': 3577, 'scroog': 3578, 'grandfath': 3579, 'berlin': 3580, 'emphasi': 3581, 'tempt': 3582, 'counter': 3583, 'hartley': 3584, 'shaw': 3585, 'goer': 3586, 'riot': 3587, 'ration': 3588, 'sibl': 3589, 'resurrect': 3590, 'sympath': 3591, 'justin': 3592, 'wet': 3593, 'bitch': 3594, 'parad': 3595, 'shed': 3596, 'porno': 3597, 'trashi': 3598, 'revolt': 3599, 'lumet': 3600, 'intim': 3601, 'faster': 3602, 'niro': 3603, 'woo': 3604, 'ethnic': 3605, 'wendi': 3606, 'steam': 3607, '00': 3608, 'partial': 3609, 'region': 3610, 'commend': 3611, 'choru': 3612, 'biographi': 3613, 'jonathan': 3614, 'enlighten': 3615, 'slick': 3616, 'wheel': 3617, 'unreal': 3618, 'honesti': 3619, 'patriot': 3620, 'rider': 3621, 'dealer': 3622, 'andr': 3623, 'immort': 3624, 'nephew': 3625, 'hesit': 3626, 'ballet': 3627, 'weakest': 3628, 'mario': 3629, 'eager': 3630, 'gap': 3631, 'ensur': 3632, 'feminist': 3633, 'hopper': 3634, 'worm': 3635, 'lena': 3636, 'farmer': 3637, 'morri': 3638, 'confin': 3639, 'vice': 3640, 'sappi': 3641, 'repress': 3642, 'hung': 3643, 'victori': 3644, 'charlott': 3645, 'skull': 3646, 'similarli': 3647, 'properti': 3648, 'kingdom': 3649, 'psychopath': 3650, 'prequel': 3651, 'leo': 3652, 'snap': 3653, 'mutant': 3654, 'util': 3655, 'safeti': 3656, 'composit': 3657, 'sandra': 3658, 'wore': 3659, 'franco': 3660, 'nostalg': 3661, 'owen': 3662, 'blunt': 3663, 'macarthur': 3664, 'drum': 3665, 'thru': 3666, 'exit': 3667, 'acquir': 3668, 'recycl': 3669, 'kyle': 3670, 'farrel': 3671, 'nervou': 3672, 'campbel': 3673, 'heartbreak': 3674, 'cg': 3675, 'tail': 3676, 'bonu': 3677, 'dalton': 3678, 'tad': 3679, 'del': 3680, 'repli': 3681, 'hyde': 3682, 'valuabl': 3683, 'miseri': 3684, 'snl': 3685, 'rocki': 3686, 'strand': 3687, 'whoopi': 3688, 'rambl': 3689, 'pattern': 3690, 'compens': 3691, 'bow': 3692, 'bumbl': 3693, 'drain': 3694, 'dust': 3695, 'bergman': 3696, '1972': 3697, 'compass': 3698, 'despair': 3699, 'deed': 3700, 'speci': 3701, 'latin': 3702, 'rope': 3703, 'montana': 3704, 'emperor': 3705, 'downhil': 3706, 'rapist': 3707, 'radic': 3708, '35': 3709, 'pour': 3710, 'oppress': 3711, 'gimmick': 3712, 'roth': 3713, 'carradin': 3714, 'wacki': 3715, 'contempl': 3716, 'orson': 3717, 'chess': 3718, 'tonight': 3719, 'mistress': 3720, 'rotten': 3721, 'percept': 3722, 'bleed': 3723, 'gal': 3724, 'romp': 3725, 'slug': 3726, 'martian': 3727, 'olli': 3728, 'airport': 3729, 'da': 3730, 'heal': 3731, 'programm': 3732, 'edgar': 3733, 'pervert': 3734, 'attorney': 3735, 'dazzl': 3736, 'mislead': 3737, 'preach': 3738, 'shelley': 3739, 'banal': 3740, 'tackl': 3741, 'arc': 3742, 'arguabl': 3743, '1983': 3744, 'slash': 3745, 'unpredict': 3746, 'pervers': 3747, 'melodi': 3748, 'pursuit': 3749, 'belt': 3750, 'stilt': 3751, 'champion': 3752, 'tooth': 3753, 'paltrow': 3754, 'taught': 3755, 'vengeanc': 3756, 'tiresom': 3757, 'chicken': 3758, 'maid': 3759, 'marti': 3760, 'passeng': 3761, 'mesmer': 3762, 'duval': 3763, 'raymond': 3764, 'vocal': 3765, 'bela': 3766, 'orang': 3767, 'franki': 3768, 'cleverli': 3769, 'gambl': 3770, 'uplift': 3771, 'dixon': 3772, 'poem': 3773, 'closest': 3774, 'plight': 3775, 'rubi': 3776, 'conneri': 3777, 'virginia': 3778, 'graham': 3779, 'sensat': 3780, 'employe': 3781, 'bay': 3782, 'monologu': 3783, 'whine': 3784, 'clone': 3785, 'secretli': 3786, 'convincingli': 3787, 'calm': 3788, 'engross': 3789, 'numb': 3790, 'suffic': 3791, 'climact': 3792, 'yawn': 3793, 'quarter': 3794, 'pokemon': 3795, 'paranoia': 3796, 'profan': 3797, 'habit': 3798, 'mute': 3799, 'inject': 3800, 'swallow': 3801, 'volum': 3802, 'gerard': 3803, 'crystal': 3804, 'extens': 3805, 'abraham': 3806, 'iran': 3807, '1968': 3808, 'sirk': 3809, 'amitabh': 3810, 'scottish': 3811, 'giggl': 3812, 'outing': 3813, 'tube': 3814, 'lundgren': 3815, 'junior': 3816, 'richardson': 3817, 'lowest': 3818, 'bend': 3819, 'frankenstein': 3820, 'franci': 3821, 'septemb': 3822, 'meander': 3823, 'backward': 3824, 'dispos': 3825, 'grotesqu': 3826, 'abort': 3827, 'linger': 3828, 'chicago': 3829, 'expand': 3830, 'surpass': 3831, 'ethan': 3832, 'poetri': 3833, 'plod': 3834, 'im': 3835, 'profess': 3836, 'underst': 3837, 'austen': 3838, 'nichola': 3839, 'trend': 3840, 'fed': 3841, 'earl': 3842, 'taxi': 3843, 'spock': 3844, 'descent': 3845, 'rant': 3846, 'sue': 3847, 'dysfunct': 3848, 'waitress': 3849, 'der': 3850, 'literatur': 3851, 'myth': 3852, 'nostalgia': 3853, 'econom': 3854, 'spoke': 3855, 'compliment': 3856, 'cannon': 3857, 'simplic': 3858, 'instrument': 3859, 'lure': 3860, 'catchi': 3861, 'mundan': 3862, 'stallon': 3863, 'hum': 3864, 'eugen': 3865, 'tourist': 3866, 'muddl': 3867, 'rubber': 3868, 'greedi': 3869, 'household': 3870, 'dictat': 3871, 'louis': 3872, 'mortal': 3873, 'coast': 3874, 'alongsid': 3875, 'firstli': 3876, 'phantom': 3877, 'stale': 3878, 'dement': 3879, 'hello': 3880, 'recognis': 3881, 'map': 3882, 'lang': 3883, 'recognit': 3884, 'deaf': 3885, 'irrelev': 3886, 'crucial': 3887, 'molli': 3888, 'omen': 3889, 'insur': 3890, 'flee': 3891, 'occupi': 3892, 'furi': 3893, 'mankind': 3894, 'damon': 3895, 'equival': 3896, 'phoni': 3897, 'bacal': 3898, 'duck': 3899, 'randi': 3900, 'june': 3901, 'eaten': 3902, 'cent': 3903, 'carel': 3904, 'sissi': 3905, 'drake': 3906, 'freez': 3907, 'loyalti': 3908, 'twilight': 3909, 'biko': 3910, 'grayson': 3911, 'heel': 3912, 'likewis': 3913, 'lengthi': 3914, 'damm': 3915, 'bump': 3916, 'ashley': 3917, 'newli': 3918, 'dreari': 3919, 'wisdom': 3920, 'labor': 3921, 'buffalo': 3922, 'onlin': 3923, 'rooney': 3924, 'distinguish': 3925, 'reign': 3926, '1973': 3927, 'cyborg': 3928, 'daisi': 3929, 'rude': 3930, 'bike': 3931, 'blackmail': 3932, 'antwon': 3933, 'analysi': 3934, 'provoc': 3935, 'interior': 3936, 'attribut': 3937, 'baddi': 3938, 'proce': 3939, 'pink': 3940, 'butler': 3941, 'approv': 3942, 'startl': 3943, 'incorpor': 3944, 'basketbal': 3945, 'emphas': 3946, 'inher': 3947, 'barrymor': 3948, 'sailor': 3949, 'unorigin': 3950, 'vein': 3951, 'worn': 3952, 'keith': 3953, 'exposur': 3954, 'prey': 3955, 'ridden': 3956, 'chronicl': 3957, 'nineti': 3958, 'tunnel': 3959, 'boxer': 3960, 'nicol': 3961, 'fleet': 3962, 'belushi': 3963, 'condemn': 3964, 'er': 3965, 'elm': 3966, 'mormon': 3967, 'degrad': 3968, 'millionair': 3969, 'indiffer': 3970, 'underli': 3971, 'stalker': 3972, 'othello': 3973, 'drift': 3974, 'improvis': 3975, 'simmon': 3976, 'substitut': 3977, 'carla': 3978, 'unrel': 3979, 'predat': 3980, 'mighti': 3981, 'barrel': 3982, 'walsh': 3983, 'undeni': 3984, 'meyer': 3985, 'bunni': 3986, 'meg': 3987, 'robbin': 3988, 'julian': 3989, 'hypnot': 3990, 'novak': 3991, 'edgi': 3992, 'exquisit': 3993, 'nyc': 3994, 'hay': 3995, 'agenda': 3996, 'palac': 3997, 'marion': 3998, 'roof': 3999, 'errol': 4000, 'alison': 4001, 'firm': 4002, 'unawar': 4003, 'greed': 4004, 'vital': 4005, 'enthusiasm': 4006, 'disord': 4007, 'priceless': 4008, '3d': 4009, 'dolph': 4010, 'lampoon': 4011, 'watson': 4012, 'shove': 4013, 'alarm': 4014, 'warmth': 4015, 'reid': 4016, 'rukh': 4017, 'mtv': 4018, 'zizek': 4019, '13th': 4020, 'coup': 4021, 'profit': 4022, '1933': 4023, 'what': 4024, 'spain': 4025, 'angela': 4026, 'israel': 4027, 'pamela': 4028, 'ponder': 4029, 'glanc': 4030, 'unleash': 4031, 'minimum': 4032, 'drip': 4033, 'beatl': 4034, 'showdown': 4035, 'simultan': 4036, 'randomli': 4037, 'valentin': 4038, 'crown': 4039, 'gestur': 4040, 'thompson': 4041, 'nun': 4042, 'cassidi': 4043, 'eastern': 4044, 'petti': 4045, 'campaign': 4046, 'session': 4047, 'distort': 4048, 'testament': 4049, 'orlean': 4050, 'preserv': 4051, 'peril': 4052, 'sergeant': 4053, 'peck': 4054, 'iraq': 4055, 'championship': 4056, '1984': 4057, 'restrain': 4058, 'brenda': 4059, 'reson': 4060, 'empathi': 4061, 'wig': 4062, 'exposit': 4063, 'travesti': 4064, 'buster': 4065, 'cream': 4066, 'scotland': 4067, 'realm': 4068, 'calib': 4069, 'bro': 4070, 'miyazaki': 4071, 'perpetu': 4072, 'quinn': 4073, 'crow': 4074, 'gentleman': 4075, 'han': 4076, 'kurosawa': 4077, 'shootout': 4078, 'sabrina': 4079, 'stroke': 4080, 'contradict': 4081, 'cooki': 4082, 'regist': 4083, 'valley': 4084, 'crawl': 4085, 'mon': 4086, 'climat': 4087, 'represent': 4088, 'rout': 4089, 'unimagin': 4090, 'din': 4091, 'stake': 4092, 'jan': 4093, 'fido': 4094, 'painter': 4095, 'compromis': 4096, 'josh': 4097, 'passabl': 4098, 'perceiv': 4099, 'sucker': 4100, 'greg': 4101, 'ustinov': 4102, 'abomin': 4103, 'distress': 4104, 'warrant': 4105, 'traumat': 4106, 'derang': 4107, 'wax': 4108, 'tacki': 4109, 'darren': 4110, 'geek': 4111, 'shoddi': 4112, 'unseen': 4113, 'baldwin': 4114, 'monoton': 4115, 'dana': 4116, 'censor': 4117, 'pole': 4118, 'businessman': 4119, 'unsatisfi': 4120, 'spacey': 4121, 'crawford': 4122, 'stargat': 4123, 'meryl': 4124, 'mclaglen': 4125, 'fuller': 4126, 'pretens': 4127, '1997': 4128, 'shaki': 4129, 'demis': 4130, 'delic': 4131, 'absent': 4132, '1987': 4133, 'ross': 4134, 'femm': 4135, 'sammi': 4136, 'cloud': 4137, 'soderbergh': 4138, 'verbal': 4139, 'exclus': 4140, 'nathan': 4141, 'correctli': 4142, 'accuraci': 4143, 'furiou': 4144, 'polici': 4145, 'anchor': 4146, 'fenc': 4147, 'valid': 4148, 'uncov': 4149, 'tech': 4150, 'click': 4151, 'norm': 4152, 'dee': 4153, 'primit': 4154, 'unravel': 4155, 'judgment': 4156, 'tarantino': 4157, 'austin': 4158, 'reluct': 4159, 'clash': 4160, 'expedit': 4161, 'jewel': 4162, 'seal': 4163, 'wholli': 4164, 'kumar': 4165, 'fog': 4166, '1993': 4167, 'sid': 4168, 'deceas': 4169, 'deniro': 4170, 'antonioni': 4171, 'sheet': 4172, 'sustain': 4173, 'dreck': 4174, 'temper': 4175, 'sand': 4176, '3000': 4177, 'logan': 4178, 'fabric': 4179, 'unfair': 4180, 'slam': 4181, 'clerk': 4182, 'fought': 4183, 'vanc': 4184, 'conduct': 4185, 'sunni': 4186, 'pocket': 4187, 'tax': 4188, 'roller': 4189, 'crippl': 4190, 'wretch': 4191, 'trait': 4192, '1995': 4193, '2008': 4194, 'alec': 4195, 'nicola': 4196, 'darn': 4197, 'behold': 4198, 'ritual': 4199, '1971': 4200, 'malon': 4201, 'fart': 4202, 'debt': 4203, 'seldom': 4204, 'mode': 4205, 'shanghai': 4206, 'enforc': 4207, 'hallucin': 4208, 'patienc': 4209, 'joel': 4210, 'murray': 4211, 'wang': 4212, 'bake': 4213, 'outlin': 4214, 'shell': 4215, 'bridget': 4216, 'schedul': 4217, 'soup': 4218, 'despis': 4219, 'stuart': 4220, 'clau': 4221, 'helpless': 4222, 'technicolor': 4223, 'squad': 4224, 'divid': 4225, 'guitar': 4226, 'conscious': 4227, 'grief': 4228, 'bias': 4229, 'legaci': 4230, 'tactic': 4231, 'pete': 4232, 'penni': 4233, 'fundament': 4234, 'canyon': 4235, 'critiqu': 4236, 'exhaust': 4237, 'robber': 4238, 'preposter': 4239, 'phil': 4240, 'sweep': 4241, 'stark': 4242, 'runner': 4243, 'isabel': 4244, 'scriptwrit': 4245, 'preston': 4246, 'rita': 4247, 'kansa': 4248, 'agenc': 4249, 'jacket': 4250, 'vomit': 4251, 'unexpectedli': 4252, 'lacklust': 4253, 'alley': 4254, 'sniper': 4255, 'marc': 4256, 'delv': 4257, 'boyl': 4258, 'sentinel': 4259, 'implic': 4260, 'connor': 4261, 'cigarett': 4262, 'consciou': 4263, 'flair': 4264, 'invad': 4265, 'propos': 4266, 'drove': 4267, 'rear': 4268, 'newman': 4269, 'jodi': 4270, 'rehash': 4271, 'restrict': 4272, 'inabl': 4273, 'culmin': 4274, 'sugar': 4275, 'passag': 4276, 'downey': 4277, 'liberti': 4278, 'bloom': 4279, 'palanc': 4280, 'gregori': 4281, 'russia': 4282, 'alicia': 4283, 'rampag': 4284, 'wrench': 4285, 'pale': 4286, 'tendenc': 4287, 'lush': 4288, 'bacon': 4289, '1936': 4290, 'awhil': 4291, 'karl': 4292, 'chainsaw': 4293, 'kolchak': 4294, 'cap': 4295, 'tripe': 4296, 'rehears': 4297, 'arrow': 4298, 'ladder': 4299, 'asylum': 4300, 'improb': 4301, '22': 4302, 'horn': 4303, 'delet': 4304, 'yeti': 4305, 'feat': 4306, 'mccoy': 4307, 'aesthet': 4308, 'vet': 4309, 'sharon': 4310, 'rod': 4311, 'foxx': 4312, 'behaviour': 4313, 'financ': 4314, 'wildli': 4315, 'tomorrow': 4316, 'fright': 4317, 'amazon': 4318, 'sung': 4319, 'minu': 4320, 'hungri': 4321, 'prank': 4322, 'elit': 4323, 'spice': 4324, 'newcom': 4325, 'hackney': 4326, 'paramount': 4327, 'visitor': 4328, 'underneath': 4329, 'rumor': 4330, 'suspicion': 4331, 'suffici': 4332, 'basing': 4333, 'coaster': 4334, 'filler': 4335, 'tasteless': 4336, 'hulk': 4337, 'globe': 4338, '1978': 4339, 'scoop': 4340, 'aristocrat': 4341, 'loneli': 4342, '1988': 4343, '1920': 4344, 'paradis': 4345, 'wagner': 4346, 'weav': 4347, 'el': 4348, '19th': 4349, 'lurk': 4350, 'stream': 4351, 'rhythm': 4352, 'conscienc': 4353, 'thunderbird': 4354, 'shortcom': 4355, 'lectur': 4356, 'standout': 4357, 'couch': 4358, 'naughti': 4359, 'en': 4360, 'smell': 4361, 'beverli': 4362, 'chavez': 4363, 'impos': 4364, 'immers': 4365, 'secondari': 4366, 'ingeni': 4367, 'straightforward': 4368, '75': 4369, 'worship': 4370, '1939': 4371, 'penn': 4372, 'heist': 4373, 'cancer': 4374, '1989': 4375, 'grudg': 4376, 'brit': 4377, 'entranc': 4378, 'ram': 4379, 'quietli': 4380, 'inmat': 4381, 'hopkin': 4382, 'rub': 4383, 'abrupt': 4384, 'choppi': 4385, 'literari': 4386, 'teas': 4387, 'bread': 4388, 'curli': 4389, 'dirt': 4390, 'leigh': 4391, 'atroc': 4392, 'counterpart': 4393, 'tierney': 4394, 'recogniz': 4395, 'paxton': 4396, 'minist': 4397, 'springer': 4398, 'chamberlain': 4399, 'posey': 4400, 'iv': 4401, 'wwe': 4402, 'clan': 4403, 'sublim': 4404, '1986': 4405, 'convert': 4406, 'enthral': 4407, 'attenborough': 4408, 'heartfelt': 4409, 'entitl': 4410, 'ace': 4411, 'missil': 4412, 'duel': 4413, 'cattl': 4414, 'skeptic': 4415, 'injuri': 4416, 'misguid': 4417, 'morbid': 4418, 'quaid': 4419, 'watcher': 4420, 'sassi': 4421, 'nemesi': 4422, 'net': 4423, 'bernard': 4424, 'variat': 4425, 'policeman': 4426, 'laurenc': 4427, 'yearn': 4428, 'esther': 4429, 'nolan': 4430, 'lindsay': 4431, 'geni': 4432, 'ratso': 4433, 'moreov': 4434, 'transcend': 4435, 'kidman': 4436, 'poe': 4437, 'uncut': 4438, 'spiral': 4439, 'tyler': 4440, 'out': 4441, 'reliabl': 4442, 'kitti': 4443, 'steadi': 4444, 'grin': 4445, 'mytholog': 4446, 'graini': 4447, '1979': 4448, 'cruelti': 4449, 'setup': 4450, 'bean': 4451, 'diari': 4452, 'youngest': 4453, 'artsi': 4454, 'brood': 4455, 'bye': 4456, 'vader': 4457, 'obstacl': 4458, 'rosemari': 4459, 'hopelessli': 4460, 'enabl': 4461, 'dont': 4462, 'facil': 4463, 'buzz': 4464, 'characteris': 4465, 'moder': 4466, 'puppi': 4467, 'egg': 4468, 'unexplain': 4469, 'hk': 4470, 'carlito': 4471, 'exterior': 4472, 'bewar': 4473, 'hammi': 4474, 'clueless': 4475, 'baffl': 4476, 'heap': 4477, 'kline': 4478, 'gina': 4479, 'athlet': 4480, 'spontan': 4481, 'acquaint': 4482, 'effici': 4483, '1969': 4484, 'fuel': 4485, 'martha': 4486, 'bronson': 4487, 'sweat': 4488, 'niec': 4489, 'despic': 4490, 'narrow': 4491, 'disastr': 4492, 'weather': 4493, 'preming': 4494, 'christin': 4495, 'decept': 4496, 'gillian': 4497, 'underworld': 4498, 'oblig': 4499, 'hain': 4500, 'patricia': 4501, 'brendan': 4502, 'bounc': 4503, 'preachi': 4504, 'hepburn': 4505, 'shatter': 4506, 'loath': 4507, 'taboo': 4508, 'biker': 4509, 'suprem': 4510, 'tick': 4511, 'circu': 4512, 'lester': 4513, 'trigger': 4514, 'dilemma': 4515, 'loi': 4516, 'mayhem': 4517, 'scar': 4518, 'rome': 4519, 'viewpoint': 4520, '19': 4521, 'astound': 4522, 'injur': 4523, 'uh': 4524, 'housewif': 4525, 'analyz': 4526, 'goof': 4527, 'mermaid': 4528, '73': 4529, 'sooner': 4530, 'harmless': 4531, 'outlaw': 4532, 'fontain': 4533, 'candl': 4534, 'headach': 4535, 'insipid': 4536, 'dandi': 4537, 'renaiss': 4538, 'angst': 4539, 'virtu': 4540, 'sleepwalk': 4541, 'enlist': 4542, 'overlong': 4543, 'slimi': 4544, 'fluff': 4545, 'ariel': 4546, 'tripl': 4547, 'foolish': 4548, 'salt': 4549, 'macho': 4550, 'intric': 4551, 'bent': 4552, 'glorifi': 4553, 'ebert': 4554, 'cassavet': 4555, 'dish': 4556, 'stimul': 4557, 'steer': 4558, 'hooker': 4559, 'stair': 4560, 'zoom': 4561, 'spade': 4562, 'hokey': 4563, 'filth': 4564, 'dismal': 4565, 'camcord': 4566, 'immatur': 4567, 'scorses': 4568, 'gere': 4569, 'sox': 4570, 'boston': 4571, 'hostag': 4572, 'contempt': 4573, 'amor': 4574, 'idol': 4575, 'claustrophob': 4576, 'oldest': 4577, 'corbett': 4578, 'redund': 4579, 'phenomenon': 4580, 'surgeri': 4581, 'whore': 4582, 'guin': 4583, '1981': 4584, 'dwarf': 4585, 'conquer': 4586, 'remad': 4587, 'strongest': 4588, 'mount': 4589, 'corman': 4590, 'assert': 4591, 'harold': 4592, 'cohen': 4593, 'margin': 4594, 'zane': 4595, 'muscl': 4596, 'keen': 4597, 'cush': 4598, 'faint': 4599, 'trivia': 4600, 'flag': 4601, 'cow': 4602, 'shield': 4603, 'widescreen': 4604, 'perman': 4605, 'radiat': 4606, 'joker': 4607, '1976': 4608, 'antagonist': 4609, 'frantic': 4610, 'down': 4611, 'beard': 4612, 'obligatori': 4613, 'astronaut': 4614, 'mutual': 4615, 'messi': 4616, 'gasp': 4617, 'flirt': 4618, 'proport': 4619, 'shred': 4620, 'nolt': 4621, 'alvin': 4622, 'preced': 4623, 'naschi': 4624, 'spree': 4625, 'flashi': 4626, 'gabl': 4627, 'transplant': 4628, 'rhyme': 4629, 'fascist': 4630, 'schlock': 4631, 'spinal': 4632, 'instruct': 4633, 'claud': 4634, 'triangl': 4635, 'boob': 4636, 'scandal': 4637, 'resum': 4638, 'neurot': 4639, 'wield': 4640, 'divin': 4641, 'someday': 4642, 'sensual': 4643, 'departur': 4644, 'bachelor': 4645, 'repris': 4646, 'strive': 4647, 'flock': 4648, '28': 4649, 'inflict': 4650, 'barn': 4651, 'mobil': 4652, 'interestingli': 4653, 'discern': 4654, 'ritchi': 4655, 'aborigin': 4656, 'persuad': 4657, 'bitten': 4658, 'deer': 4659, 'vaniti': 4660, '1945': 4661, 'info': 4662, 'off': 4663, '95': 4664, 'brush': 4665, 'danish': 4666, 'mol': 4667, 'archiv': 4668, 'fishburn': 4669, 'carey': 4670, 'www': 4671, 'raj': 4672, 'hara': 4673, 'bate': 4674, 'pacif': 4675, 'neill': 4676, 'dylan': 4677, 'kathryn': 4678, 'undermin': 4679, 'prophet': 4680, 'banter': 4681, 'recit': 4682, 'vibrant': 4683, 'clad': 4684, 'submit': 4685, 'earnest': 4686, 'miracul': 4687, 'rot': 4688, 'dim': 4689, 'cher': 4690, 'loretta': 4691, 'biblic': 4692, 'jade': 4693, 'anton': 4694, 'casino': 4695, 'mobster': 4696, 'axe': 4697, 'fragil': 4698, 'heartwarm': 4699, 'dame': 4700, 'melissa': 4701, 'ish': 4702, 'cycl': 4703, 'carlo': 4704, 'artwork': 4705, 'colin': 4706, 'harrison': 4707, 'frontier': 4708, 'hug': 4709, 'timberlak': 4710, 'cb': 4711, 'proclaim': 4712, 'luka': 4713, 'parson': 4714, 'pixar': 4715, 'senior': 4716, 'hapless': 4717, 'cliffhang': 4718, 'hilar': 4719, 'helm': 4720, 'traffic': 4721, 'europa': 4722, 'wendigo': 4723, 'pickford': 4724, 'toronto': 4725, 'jo': 4726, 'legitim': 4727, 'foil': 4728, 'estrang': 4729, 'milo': 4730, 'wardrob': 4731, 'lui': 4732, 'redneck': 4733, 'breakfast': 4734, 'akin': 4735, 'token': 4736, 'eli': 4737, 'antholog': 4738, 'orphan': 4739, 'bikini': 4740, 'cerebr': 4741, 'vanessa': 4742, 'northern': 4743, 'illus': 4744, 'jordan': 4745, 'winchest': 4746, 'electron': 4747, 'marlon': 4748, 'feast': 4749, 'static': 4750, 'pc': 4751, 'holocaust': 4752, 'articl': 4753, 'uma': 4754, 'misfortun': 4755, 'flavor': 4756, 'aris': 4757, 'sicken': 4758, 'vile': 4759, 'isra': 4760, 'choke': 4761, 'shepherd': 4762, 'venom': 4763, 'rooki': 4764, 'blatantli': 4765, 'bondag': 4766, 'razor': 4767, 'nope': 4768, 'http': 4769, 'mathieu': 4770, 'trier': 4771, 'mason': 4772, 'alexandr': 4773, 'lucil': 4774, 'seedi': 4775, 'smack': 4776, 'audrey': 4777, 'fifth': 4778, 'turd': 4779, 'deem': 4780, 'dudley': 4781, 'boyer': 4782, 'leather': 4783, 'cartoonish': 4784, 'comprehend': 4785, 'nightclub': 4786, 'swept': 4787, 'clinic': 4788, 'wrestler': 4789, 'styliz': 4790, 'psych': 4791, 'feminin': 4792, 'peer': 4793, 'howl': 4794, 'ceremoni': 4795, 'oppon': 4796, 'highway': 4797, 'tack': 4798, 'linear': 4799, 'ideolog': 4800, 'retriev': 4801, 'shorter': 4802, 'charlton': 4803, 'glare': 4804, 'huston': 4805, 'abund': 4806, 'magician': 4807, 'outdat': 4808, 'gunga': 4809, 'affleck': 4810, 'knightley': 4811, 'frog': 4812, 'disregard': 4813, 'gilbert': 4814, 'plate': 4815, 'newer': 4816, 'potter': 4817, 'cuban': 4818, 'compris': 4819, 'snatch': 4820, 'breakdown': 4821, 'braveheart': 4822, 'collector': 4823, 'lighter': 4824, '1994': 4825, '4th': 4826, 'corn': 4827, 'toe': 4828, 'tara': 4829, 'bastard': 4830, '1991': 4831, 'lifeless': 4832, 'conrad': 4833, 'sleaz': 4834, 'boo': 4835, 'lavish': 4836, 'spine': 4837, 'chip': 4838, 'whack': 4839, 'greet': 4840, 'monument': 4841, 'mitch': 4842, 'cemeteri': 4843, 'uniformli': 4844, 'moe': 4845, 'senat': 4846, 'energet': 4847, 'durat': 4848, 'goldsworthi': 4849, 'client': 4850, 'bogu': 4851, 'btw': 4852, 'spawn': 4853, 'deliver': 4854, 'einstein': 4855, 'summar': 4856, 'evolut': 4857, 'phenomen': 4858, 'salman': 4859, 'capot': 4860, 'cecil': 4861, 'jam': 4862, 'pronounc': 4863, 'embark': 4864, 'constitut': 4865, 'neatli': 4866, 'replay': 4867, 'sorrow': 4868, 'appl': 4869, 'healthi': 4870, 'undertak': 4871, 'bori': 4872, 'kent': 4873, 'historian': 4874, 'eleven': 4875, 'ol': 4876, 'undead': 4877, 'jare': 4878, 'jedi': 4879, 'inaccuraci': 4880, 'trauma': 4881, 'lex': 4882, 'nina': 4883, 'luxuri': 4884, 'judd': 4885, 'gilliam': 4886, 'clara': 4887, '1974': 4888, 'ie': 4889, '1977': 4890, 'kazan': 4891, 'randolph': 4892, 'mcqueen': 4893, 'armstrong': 4894, 'alleg': 4895, 'jule': 4896, 'fluid': 4897, 'signal': 4898, 'outright': 4899, 'firmli': 4900, 'wtf': 4901, 'bulk': 4902, 'spectacl': 4903, 'occup': 4904, 'belli': 4905, 'liu': 4906, 'evelyn': 4907, 'creek': 4908, 'truman': 4909, 'knee': 4910, 'miami': 4911, 'walt': 4912, 'conan': 4913, 'subtli': 4914, 'inclus': 4915, 'kiddi': 4916, 'relentless': 4917, 'lauren': 4918, 'ash': 4919, 'carmen': 4920, 'lanc': 4921, 'palm': 4922, 'propheci': 4923, 'pioneer': 4924, 'unsuspect': 4925, '1985': 4926, 'rosario': 4927, 'forgiven': 4928, 'aussi': 4929, 'abound': 4930, 'sacrif': 4931, 'goldblum': 4932, 'spray': 4933, 'tokyo': 4934, 'unattract': 4935, 'galaxi': 4936, 'comprehens': 4937, 'vignett': 4938, 'comb': 4939, 'curtain': 4940, 'blur': 4941, 'poker': 4942, 'porter': 4943, 'bait': 4944, 'congratul': 4945, 'id': 4946, 'pepper': 4947, 'roar': 4948, 'groan': 4949, 'cape': 4950, 'mum': 4951, 'meal': 4952, 'genet': 4953, 'basket': 4954, 'decapit': 4955, 'antonio': 4956, 'paula': 4957, 'fruit': 4958, 'vain': 4959, 'inaccur': 4960, 'sidewalk': 4961, 'miniseri': 4962, 'bsg': 4963, 'sophi': 4964, '21st': 4965, 'sparkl': 4966, 'weari': 4967, 'epitom': 4968, 'frontal': 4969, 'detach': 4970, 'handicap': 4971, 'optimist': 4972, 'growth': 4973, 'turtl': 4974, 'playboy': 4975, 'weaker': 4976, 'vastli': 4977, 'bach': 4978, 'mice': 4979, 'jill': 4980, 'ingrid': 4981, 'hackman': 4982, 'rapidli': 4983, 'substanti': 4984, 'omin': 4985, 'bravo': 4986, 'modest': 4987, 'asset': 4988, 'drone': 4989, 'ghetto': 4990, 'masterson': 4991, 'assort': 4992, 'scariest': 4993, 'monti': 4994, 'cypher': 4995, 'verg': 4996, 'incorrect': 4997, 'profil': 4998, 'motorcycl': 4999}\n"
     ]
    }
   ],
   "source": [
    "print(word_dict)"
   ]
  },
  {
   "cell_type": "markdown",
   "metadata": {},
   "source": [
    "**Question:** What are the five most frequently appearing (tokenized) words in the training set? Does it makes sense that these words appear frequently in the training set?"
   ]
  },
  {
   "cell_type": "markdown",
   "metadata": {},
   "source": [
    "# **Answer:**"
   ]
  },
  {
   "cell_type": "code",
   "execution_count": 18,
   "metadata": {
    "scrolled": true
   },
   "outputs": [
    {
     "name": "stdout",
     "output_type": "stream",
     "text": [
      "['movi', 'film', 'one', 'like', 'time', 'good']\n"
     ]
    }
   ],
   "source": [
    "# TODO: Use this space to determine the five most frequently appearing words in the training set.\n",
    "top_five = []\n",
    "for i in range(6):\n",
    "    top = list(word_dict)[i]\n",
    "    top_five.append(top)\n",
    "print(top_five)\n",
    "    "
   ]
  },
  {
   "cell_type": "code",
   "execution_count": 19,
   "metadata": {},
   "outputs": [
    {
     "data": {
      "text/plain": [
       "['movi', 'film', 'one', 'like', 'time', 'good']"
      ]
     },
     "execution_count": 19,
     "metadata": {},
     "output_type": "execute_result"
    }
   ],
   "source": [
    "list(word_dict)[0:6]"
   ]
  },
  {
   "cell_type": "markdown",
   "metadata": {},
   "source": [
    "### Save `word_dict`\n",
    "\n",
    "Later on when we construct an endpoint which processes a submitted review we will need to make use of the `word_dict` which we have created. As such, we will save it to a file now for future use."
   ]
  },
  {
   "cell_type": "code",
   "execution_count": 20,
   "metadata": {},
   "outputs": [],
   "source": [
    "data_dir = '../data/pytorch' # The folder we will use for storing data\n",
    "if not os.path.exists(data_dir): # Make sure that the folder exists\n",
    "    os.makedirs(data_dir)"
   ]
  },
  {
   "cell_type": "code",
   "execution_count": 21,
   "metadata": {},
   "outputs": [],
   "source": [
    "with open(os.path.join(data_dir, 'word_dict.pkl'), \"wb\") as f:\n",
    "    pickle.dump(word_dict, f)"
   ]
  },
  {
   "cell_type": "markdown",
   "metadata": {},
   "source": [
    "### Transform the reviews\n",
    "\n",
    "Now that we have our word dictionary which allows us to transform the words appearing in the reviews into integers, it is time to make use of it and convert our reviews to their integer sequence representation, making sure to pad or truncate to a fixed length, which in our case is `500`."
   ]
  },
  {
   "cell_type": "code",
   "execution_count": 22,
   "metadata": {},
   "outputs": [],
   "source": [
    "def convert_and_pad(word_dict, sentence, pad=500):\n",
    "    NOWORD = 0 # We will use 0 to represent the 'no word' category\n",
    "    INFREQ = 1 # and we use 1 to represent the infrequent words, i.e., words not appearing in word_dict\n",
    "    \n",
    "    working_sentence = [NOWORD] * pad\n",
    "    \n",
    "    for word_index, word in enumerate(sentence[:pad]):\n",
    "        if word in word_dict:\n",
    "            working_sentence[word_index] = word_dict[word]\n",
    "        else:\n",
    "            working_sentence[word_index] = INFREQ\n",
    "            \n",
    "    return working_sentence, min(len(sentence), pad)\n",
    "\n",
    "def convert_and_pad_data(word_dict, data, pad=500):\n",
    "    result = []\n",
    "    lengths = []\n",
    "    \n",
    "    for sentence in data:\n",
    "        converted, leng = convert_and_pad(word_dict, sentence, pad)\n",
    "        result.append(converted)\n",
    "        lengths.append(leng)\n",
    "        \n",
    "    return np.array(result), np.array(lengths)"
   ]
  },
  {
   "cell_type": "code",
   "execution_count": 23,
   "metadata": {},
   "outputs": [],
   "source": [
    "train_X, train_X_len = convert_and_pad_data(word_dict, train_X)\n",
    "test_X, test_X_len = convert_and_pad_data(word_dict, test_X)"
   ]
  },
  {
   "cell_type": "markdown",
   "metadata": {},
   "source": [
    "As a quick check to make sure that things are working as intended, check to see what one of the reviews in the training set looks like after having been processeed. Does this look reasonable? What is the length of a review in the training set?"
   ]
  },
  {
   "cell_type": "code",
   "execution_count": 24,
   "metadata": {},
   "outputs": [
    {
     "data": {
      "text/plain": [
       "array([ 224,  872,  101,    6,  634, 1480,  634,  305,    1,  182,  125,\n",
       "        211,   13,  117,    1,  223, 1056,   24,  615,  496,  251, 2471,\n",
       "         32,   14,   24,   85,  184,    1,  217,    9, 2188,   12,   93,\n",
       "          6,  166,  122,  634, 1480,  676,  872,  101, 2432, 2308,   66,\n",
       "        559,    5,    1,    1,  164,  555, 1135,   35,    3, 3872,    1,\n",
       "        447,   21,   58, 1152,  125,    1,    1,   78, 2000,    2,  256,\n",
       "       4473,    0,    0,    0,    0,    0,    0,    0,    0,    0,    0,\n",
       "          0,    0,    0,    0,    0,    0,    0,    0,    0,    0,    0,\n",
       "          0,    0,    0,    0,    0,    0,    0,    0,    0,    0,    0,\n",
       "          0,    0,    0,    0,    0,    0,    0,    0,    0,    0,    0,\n",
       "          0,    0,    0,    0,    0,    0,    0,    0,    0,    0,    0,\n",
       "          0,    0,    0,    0,    0,    0,    0,    0,    0,    0,    0,\n",
       "          0,    0,    0,    0,    0,    0,    0,    0,    0,    0,    0,\n",
       "          0,    0,    0,    0,    0,    0,    0,    0,    0,    0,    0,\n",
       "          0,    0,    0,    0,    0,    0,    0,    0,    0,    0,    0,\n",
       "          0,    0,    0,    0,    0,    0,    0,    0,    0,    0,    0,\n",
       "          0,    0,    0,    0,    0,    0,    0,    0,    0,    0,    0,\n",
       "          0,    0,    0,    0,    0,    0,    0,    0,    0,    0,    0,\n",
       "          0,    0,    0,    0,    0,    0,    0,    0,    0,    0,    0,\n",
       "          0,    0,    0,    0,    0,    0,    0,    0,    0,    0,    0,\n",
       "          0,    0,    0,    0,    0,    0,    0,    0,    0,    0,    0,\n",
       "          0,    0,    0,    0,    0,    0,    0,    0,    0,    0,    0,\n",
       "          0,    0,    0,    0,    0,    0,    0,    0,    0,    0,    0,\n",
       "          0,    0,    0,    0,    0,    0,    0,    0,    0,    0,    0,\n",
       "          0,    0,    0,    0,    0,    0,    0,    0,    0,    0,    0,\n",
       "          0,    0,    0,    0,    0,    0,    0,    0,    0,    0,    0,\n",
       "          0,    0,    0,    0,    0,    0,    0,    0,    0,    0,    0,\n",
       "          0,    0,    0,    0,    0,    0,    0,    0,    0,    0,    0,\n",
       "          0,    0,    0,    0,    0,    0,    0,    0,    0,    0,    0,\n",
       "          0,    0,    0,    0,    0,    0,    0,    0,    0,    0,    0,\n",
       "          0,    0,    0,    0,    0,    0,    0,    0,    0,    0,    0,\n",
       "          0,    0,    0,    0,    0,    0,    0,    0,    0,    0,    0,\n",
       "          0,    0,    0,    0,    0,    0,    0,    0,    0,    0,    0,\n",
       "          0,    0,    0,    0,    0,    0,    0,    0,    0,    0,    0,\n",
       "          0,    0,    0,    0,    0,    0,    0,    0,    0,    0,    0,\n",
       "          0,    0,    0,    0,    0,    0,    0,    0,    0,    0,    0,\n",
       "          0,    0,    0,    0,    0,    0,    0,    0,    0,    0,    0,\n",
       "          0,    0,    0,    0,    0,    0,    0,    0,    0,    0,    0,\n",
       "          0,    0,    0,    0,    0,    0,    0,    0,    0,    0,    0,\n",
       "          0,    0,    0,    0,    0,    0,    0,    0,    0,    0,    0,\n",
       "          0,    0,    0,    0,    0,    0,    0,    0,    0,    0,    0,\n",
       "          0,    0,    0,    0,    0,    0,    0,    0,    0,    0,    0,\n",
       "          0,    0,    0,    0,    0,    0,    0,    0,    0,    0,    0,\n",
       "          0,    0,    0,    0,    0,    0,    0,    0,    0,    0,    0,\n",
       "          0,    0,    0,    0,    0,    0,    0,    0,    0,    0,    0,\n",
       "          0,    0,    0,    0,    0])"
      ]
     },
     "execution_count": 24,
     "metadata": {},
     "output_type": "execute_result"
    }
   ],
   "source": [
    "# Use this cell to examine one of the processed reviews to make sure everything is working as intended.\n",
    "\n",
    "train_X[9]"
   ]
  },
  {
   "cell_type": "markdown",
   "metadata": {},
   "source": [
    "**Question:** In the cells above we use the `preprocess_data` and `convert_and_pad_data` methods to process both the training and testing set. Why or why not might this be a problem?"
   ]
  },
  {
   "cell_type": "markdown",
   "metadata": {},
   "source": [
    "# **Answer:**\n",
    "\n",
    "__preprocess_data__ function convert all the review into list of words. I think that is fine. No problem with that.\n",
    "the main probelm is that when we use __convert_and_pad_data__ function. The function pad or truncate review to a fixed length. In that case there are chance that we might lost information. Also it make sense that we need fixed length of word to feed many to one model of recurrent neural network. "
   ]
  },
  {
   "cell_type": "markdown",
   "metadata": {},
   "source": [
    "### My Question:\n",
    "feeding words (review) that output only positive or negative seems like many to one Architecture of RNN. Do we always need to fixed the number of input words? or are there any architecture that can handle arbitrary number of input words?"
   ]
  },
  {
   "cell_type": "markdown",
   "metadata": {},
   "source": [
    "## Step 3: Upload the data to S3\n",
    "\n",
    "As in the XGBoost notebook, we will need to upload the training dataset to S3 in order for our training code to access it. For now we will save it locally and we will upload to S3 later on.\n",
    "\n",
    "### Save the processed training dataset locally\n",
    "\n",
    "It is important to note the format of the data that we are saving as we will need to know it when we write the training code. In our case, each row of the dataset has the form `label`, `length`, `review[500]` where `review[500]` is a sequence of `500` integers representing the words in the review."
   ]
  },
  {
   "cell_type": "code",
   "execution_count": 25,
   "metadata": {},
   "outputs": [],
   "source": [
    "import pandas as pd\n",
    "    \n",
    "pd.concat([pd.DataFrame(train_y), pd.DataFrame(train_X_len), pd.DataFrame(train_X)], axis=1) \\\n",
    "        .to_csv(os.path.join(data_dir, 'train.csv'), header=False, index=False)"
   ]
  },
  {
   "cell_type": "markdown",
   "metadata": {},
   "source": [
    "### Uploading the training data\n",
    "\n",
    "\n",
    "Next, we need to upload the training data to the SageMaker default S3 bucket so that we can provide access to it while training our model."
   ]
  },
  {
   "cell_type": "code",
   "execution_count": 26,
   "metadata": {},
   "outputs": [],
   "source": [
    "import sagemaker\n",
    "\n",
    "sagemaker_session = sagemaker.Session()\n",
    "\n",
    "bucket = sagemaker_session.default_bucket()\n",
    "prefix = 'sagemaker/sentiment_rnn'\n",
    "\n",
    "role = sagemaker.get_execution_role()"
   ]
  },
  {
   "cell_type": "code",
   "execution_count": 27,
   "metadata": {},
   "outputs": [],
   "source": [
    "input_data = sagemaker_session.upload_data(path=data_dir, bucket=bucket, key_prefix=prefix)"
   ]
  },
  {
   "cell_type": "markdown",
   "metadata": {},
   "source": [
    "**NOTE:** The cell above uploads the entire contents of our data directory. This includes the `word_dict.pkl` file. This is fortunate as we will need this later on when we create an endpoint that accepts an arbitrary review. For now, we will just take note of the fact that it resides in the data directory (and so also in the S3 training bucket) and that we will need to make sure it gets saved in the model directory."
   ]
  },
  {
   "cell_type": "markdown",
   "metadata": {},
   "source": [
    "## Step 4: Build and Train the PyTorch Model\n",
    "\n",
    "In the XGBoost notebook we discussed what a model is in the SageMaker framework. In particular, a model comprises three objects\n",
    "\n",
    " - Model Artifacts,\n",
    " - Training Code, and\n",
    " - Inference Code,\n",
    " \n",
    "each of which interact with one another. In the XGBoost example we used training and inference code that was provided by Amazon. Here we will still be using containers provided by Amazon with the added benefit of being able to include our own custom code.\n",
    "\n",
    "We will start by implementing our own neural network in PyTorch along with a training script. For the purposes of this project we have provided the necessary model object in the `model.py` file, inside of the `train` folder. You can see the provided implementation by running the cell below."
   ]
  },
  {
   "cell_type": "code",
   "execution_count": 28,
   "metadata": {},
   "outputs": [
    {
     "name": "stdout",
     "output_type": "stream",
     "text": [
      "\u001b[34mimport\u001b[39;49;00m \u001b[04m\u001b[36mtorch.nn\u001b[39;49;00m \u001b[34mas\u001b[39;49;00m \u001b[04m\u001b[36mnn\u001b[39;49;00m\r\n",
      "\r\n",
      "\u001b[34mclass\u001b[39;49;00m \u001b[04m\u001b[32mLSTMClassifier\u001b[39;49;00m(nn.Module):\r\n",
      "    \u001b[33m\"\"\"\u001b[39;49;00m\r\n",
      "\u001b[33m    This is the simple RNN model we will be using to perform Sentiment Analysis.\u001b[39;49;00m\r\n",
      "\u001b[33m    \"\"\"\u001b[39;49;00m\r\n",
      "\r\n",
      "    \u001b[34mdef\u001b[39;49;00m \u001b[32m__init__\u001b[39;49;00m(\u001b[36mself\u001b[39;49;00m, embedding_dim, hidden_dim, vocab_size):\r\n",
      "        \u001b[33m\"\"\"\u001b[39;49;00m\r\n",
      "\u001b[33m        Initialize the model by settingg up the various layers.\u001b[39;49;00m\r\n",
      "\u001b[33m        \"\"\"\u001b[39;49;00m\r\n",
      "        \u001b[36msuper\u001b[39;49;00m(LSTMClassifier, \u001b[36mself\u001b[39;49;00m).\u001b[32m__init__\u001b[39;49;00m()\r\n",
      "\r\n",
      "        \u001b[36mself\u001b[39;49;00m.embedding = nn.Embedding(vocab_size, embedding_dim, padding_idx=\u001b[34m0\u001b[39;49;00m)\r\n",
      "        \u001b[36mself\u001b[39;49;00m.lstm = nn.LSTM(embedding_dim, hidden_dim)\r\n",
      "        \u001b[36mself\u001b[39;49;00m.dense = nn.Linear(in_features=hidden_dim, out_features=\u001b[34m1\u001b[39;49;00m)\r\n",
      "        \u001b[36mself\u001b[39;49;00m.sig = nn.Sigmoid()\r\n",
      "        \r\n",
      "        \u001b[36mself\u001b[39;49;00m.word_dict = \u001b[36mNone\u001b[39;49;00m\r\n",
      "\r\n",
      "    \u001b[34mdef\u001b[39;49;00m \u001b[32mforward\u001b[39;49;00m(\u001b[36mself\u001b[39;49;00m, x):\r\n",
      "        \u001b[33m\"\"\"\u001b[39;49;00m\r\n",
      "\u001b[33m        Perform a forward pass of our model on some input.\u001b[39;49;00m\r\n",
      "\u001b[33m        \"\"\"\u001b[39;49;00m\r\n",
      "        x = x.t()\r\n",
      "        lengths = x[\u001b[34m0\u001b[39;49;00m,:]\r\n",
      "        reviews = x[\u001b[34m1\u001b[39;49;00m:,:]\r\n",
      "        embeds = \u001b[36mself\u001b[39;49;00m.embedding(reviews)\r\n",
      "        lstm_out, _ = \u001b[36mself\u001b[39;49;00m.lstm(embeds)\r\n",
      "        out = \u001b[36mself\u001b[39;49;00m.dense(lstm_out)\r\n",
      "        out = out[lengths - \u001b[34m1\u001b[39;49;00m, \u001b[36mrange\u001b[39;49;00m(\u001b[36mlen\u001b[39;49;00m(lengths))]\r\n",
      "        \u001b[34mreturn\u001b[39;49;00m \u001b[36mself\u001b[39;49;00m.sig(out.squeeze())\r\n"
     ]
    }
   ],
   "source": [
    "!pygmentize train/model.py"
   ]
  },
  {
   "cell_type": "markdown",
   "metadata": {},
   "source": [
    "The important takeaway from the implementation provided is that there are three parameters that we may wish to tweak to improve the performance of our model. These are the embedding dimension, the hidden dimension and the size of the vocabulary. We will likely want to make these parameters configurable in the training script so that if we wish to modify them we do not need to modify the script itself. We will see how to do this later on. To start we will write some of the training code in the notebook so that we can more easily diagnose any issues that arise.\n",
    "\n",
    "First we will load a small portion of the training data set to use as a sample. It would be very time consuming to try and train the model completely in the notebook as we do not have access to a gpu and the compute instance that we are using is not particularly powerful. However, we can work on a small bit of the data to get a feel for how our training script is behaving."
   ]
  },
  {
   "cell_type": "code",
   "execution_count": 29,
   "metadata": {},
   "outputs": [],
   "source": [
    "import torch\n",
    "import torch.utils.data\n",
    "\n",
    "# Read in only the first 250 rows\n",
    "train_sample = pd.read_csv(os.path.join(data_dir, 'train.csv'), header=None, names=None, nrows=250)\n",
    "\n",
    "# Turn the input pandas dataframe into tensors\n",
    "train_sample_y = torch.from_numpy(train_sample[[0]].values).float().squeeze()\n",
    "train_sample_X = torch.from_numpy(train_sample.drop([0], axis=1).values).long()\n",
    "\n",
    "# Build the dataset\n",
    "train_sample_ds = torch.utils.data.TensorDataset(train_sample_X, train_sample_y)\n",
    "# Build the dataloader\n",
    "train_sample_dl = torch.utils.data.DataLoader(train_sample_ds, batch_size=50)"
   ]
  },
  {
   "cell_type": "markdown",
   "metadata": {},
   "source": [
    "### (TODO) Writing the training method\n",
    "\n",
    "Next we need to write the training code itself. This should be very similar to training methods that you have written before to train PyTorch models. We will leave any difficult aspects such as model saving / loading and parameter loading until a little later."
   ]
  },
  {
   "cell_type": "code",
   "execution_count": 30,
   "metadata": {},
   "outputs": [],
   "source": [
    "def train(model, train_loader, epochs, optimizer, loss_fn, device):\n",
    "    for epoch in range(1, epochs + 1):\n",
    "        model.train()\n",
    "        total_loss = 0\n",
    "        for batch in train_loader:         \n",
    "            batch_X, batch_y = batch\n",
    "            \n",
    "            batch_X = batch_X.to(device)\n",
    "            batch_y = batch_y.to(device)\n",
    "            \n",
    "            # TODO: Complete this train method to train the model provided.\n",
    "            \n",
    "            model.zero_grad()\n",
    "            \n",
    "            output = model(batch_X)\n",
    "            \n",
    "            loss = loss_fn(output, batch_y)\n",
    "            loss.backward()\n",
    "            optimizer.step()\n",
    "            total_loss += loss.data.item()\n",
    "        print(\"Epoch: {}, BCELoss: {}\".format(epoch, total_loss / len(train_loader)))"
   ]
  },
  {
   "cell_type": "markdown",
   "metadata": {},
   "source": [
    "Supposing we have the training method above, we will test that it is working by writing a bit of code in the notebook that executes our training method on the small sample training set that we loaded earlier. The reason for doing this in the notebook is so that we have an opportunity to fix any errors that arise early when they are easier to diagnose."
   ]
  },
  {
   "cell_type": "code",
   "execution_count": 31,
   "metadata": {},
   "outputs": [
    {
     "name": "stdout",
     "output_type": "stream",
     "text": [
      "Epoch: 1, BCELoss: 0.6891537189483643\n",
      "Epoch: 2, BCELoss: 0.6797872185707092\n",
      "Epoch: 3, BCELoss: 0.6727007985115051\n",
      "Epoch: 4, BCELoss: 0.6656069874763488\n",
      "Epoch: 5, BCELoss: 0.6574773073196412\n"
     ]
    }
   ],
   "source": [
    "import torch.optim as optim\n",
    "from train.model import LSTMClassifier\n",
    "\n",
    "device = torch.device(\"cuda\" if torch.cuda.is_available() else \"cpu\")\n",
    "model = LSTMClassifier(32, 100, 5000).to(device)\n",
    "optimizer = optim.Adam(model.parameters())\n",
    "loss_fn = torch.nn.BCELoss()\n",
    "\n",
    "train(model, train_sample_dl, 5, optimizer, loss_fn, device)"
   ]
  },
  {
   "cell_type": "markdown",
   "metadata": {},
   "source": [
    "In order to construct a PyTorch model using SageMaker we must provide SageMaker with a training script. We may optionally include a directory which will be copied to the container and from which our training code will be run. When the training container is executed it will check the uploaded directory (if there is one) for a `requirements.txt` file and install any required Python libraries, after which the training script will be run."
   ]
  },
  {
   "cell_type": "markdown",
   "metadata": {},
   "source": [
    "### (TODO) Training the model\n",
    "\n",
    "When a PyTorch model is constructed in SageMaker, an entry point must be specified. This is the Python file which will be executed when the model is trained. Inside of the `train` directory is a file called `train.py` which has been provided and which contains most of the necessary code to train our model. The only thing that is missing is the implementation of the `train()` method which you wrote earlier in this notebook.\n",
    "\n",
    "**TODO**: Copy the `train()` method written above and paste it into the `train/train.py` file where required.\n",
    "\n",
    "The way that SageMaker passes hyperparameters to the training script is by way of arguments. These arguments can then be parsed and used in the training script. To see how this is done take a look at the provided `train/train.py` file."
   ]
  },
  {
   "cell_type": "code",
   "execution_count": 32,
   "metadata": {},
   "outputs": [],
   "source": [
    "from sagemaker.pytorch import PyTorch\n",
    "\n",
    "estimator = PyTorch(entry_point=\"train.py\",\n",
    "                    source_dir=\"train\",\n",
    "                    role=role,\n",
    "                    framework_version='0.4.0',\n",
    "                    train_instance_count=1,\n",
    "                    train_instance_type='ml.p2.xlarge',\n",
    "                    hyperparameters={\n",
    "                        'epochs': 10,\n",
    "                        'hidden_dim': 200,\n",
    "                    })"
   ]
  },
  {
   "cell_type": "code",
   "execution_count": 33,
   "metadata": {
    "scrolled": false
   },
   "outputs": [
    {
     "name": "stdout",
     "output_type": "stream",
     "text": [
      "2019-06-18 16:22:31 Starting - Starting the training job...\n",
      "2019-06-18 16:22:35 Starting - Launching requested ML instances......\n",
      "2019-06-18 16:23:43 Starting - Preparing the instances for training......\n",
      "2019-06-18 16:24:55 Downloading - Downloading input data...\n",
      "2019-06-18 16:25:24 Training - Downloading the training image...\n",
      "2019-06-18 16:25:56 Training - Training image download completed. Training in progress..\n",
      "\u001b[31mbash: cannot set terminal process group (-1): Inappropriate ioctl for device\u001b[0m\n",
      "\u001b[31mbash: no job control in this shell\u001b[0m\n",
      "\u001b[31m2019-06-18 16:25:57,254 sagemaker-containers INFO     Imported framework sagemaker_pytorch_container.training\u001b[0m\n",
      "\u001b[31m2019-06-18 16:25:57,278 sagemaker_pytorch_container.training INFO     Block until all host DNS lookups succeed.\u001b[0m\n",
      "\u001b[31m2019-06-18 16:25:57,281 sagemaker_pytorch_container.training INFO     Invoking user training script.\u001b[0m\n",
      "\u001b[31m2019-06-18 16:25:57,499 sagemaker-containers INFO     Module train does not provide a setup.py. \u001b[0m\n",
      "\u001b[31mGenerating setup.py\u001b[0m\n",
      "\u001b[31m2019-06-18 16:25:57,499 sagemaker-containers INFO     Generating setup.cfg\u001b[0m\n",
      "\u001b[31m2019-06-18 16:25:57,499 sagemaker-containers INFO     Generating MANIFEST.in\u001b[0m\n",
      "\u001b[31m2019-06-18 16:25:57,499 sagemaker-containers INFO     Installing module with the following command:\u001b[0m\n",
      "\u001b[31m/usr/bin/python -m pip install -U . -r requirements.txt\u001b[0m\n",
      "\u001b[31mProcessing /opt/ml/code\u001b[0m\n",
      "\u001b[31mCollecting pandas (from -r requirements.txt (line 1))\n",
      "  Downloading https://files.pythonhosted.org/packages/74/24/0cdbf8907e1e3bc5a8da03345c23cbed7044330bb8f73bb12e711a640a00/pandas-0.24.2-cp35-cp35m-manylinux1_x86_64.whl (10.0MB)\u001b[0m\n",
      "\u001b[31mCollecting numpy (from -r requirements.txt (line 2))\u001b[0m\n",
      "\u001b[31m  Downloading https://files.pythonhosted.org/packages/bb/ef/d5a21cbc094d3f4d5b5336494dbcc9550b70c766a8345513c7c24ed18418/numpy-1.16.4-cp35-cp35m-manylinux1_x86_64.whl (17.2MB)\u001b[0m\n",
      "\u001b[31mCollecting nltk (from -r requirements.txt (line 3))\u001b[0m\n",
      "\u001b[31m  Downloading https://files.pythonhosted.org/packages/8d/5d/825889810b85c303c8559a3fd74d451d80cf3585a851f2103e69576bf583/nltk-3.4.3.zip (1.4MB)\u001b[0m\n",
      "\u001b[31mCollecting beautifulsoup4 (from -r requirements.txt (line 4))\n",
      "  Downloading https://files.pythonhosted.org/packages/1d/5d/3260694a59df0ec52f8b4883f5d23b130bc237602a1411fa670eae12351e/beautifulsoup4-4.7.1-py3-none-any.whl (94kB)\u001b[0m\n",
      "\u001b[31mCollecting html5lib (from -r requirements.txt (line 5))\n",
      "  Downloading https://files.pythonhosted.org/packages/a5/62/bbd2be0e7943ec8504b517e62bab011b4946e1258842bc159e5dfde15b96/html5lib-1.0.1-py2.py3-none-any.whl (117kB)\u001b[0m\n",
      "\u001b[31mRequirement already satisfied, skipping upgrade: python-dateutil>=2.5.0 in /usr/local/lib/python3.5/dist-packages (from pandas->-r requirements.txt (line 1)) (2.7.5)\u001b[0m\n",
      "\u001b[31mCollecting pytz>=2011k (from pandas->-r requirements.txt (line 1))\n",
      "  Downloading https://files.pythonhosted.org/packages/3d/73/fe30c2daaaa0713420d0382b16fbb761409f532c56bdcc514bf7b6262bb6/pytz-2019.1-py2.py3-none-any.whl (510kB)\u001b[0m\n",
      "\u001b[31mRequirement already satisfied, skipping upgrade: six in /usr/local/lib/python3.5/dist-packages (from nltk->-r requirements.txt (line 3)) (1.11.0)\u001b[0m\n",
      "\u001b[31mCollecting soupsieve>=1.2 (from beautifulsoup4->-r requirements.txt (line 4))\n",
      "  Downloading https://files.pythonhosted.org/packages/b9/a5/7ea40d0f8676bde6e464a6435a48bc5db09b1a8f4f06d41dd997b8f3c616/soupsieve-1.9.1-py2.py3-none-any.whl\u001b[0m\n",
      "\u001b[31mCollecting webencodings (from html5lib->-r requirements.txt (line 5))\n",
      "  Downloading https://files.pythonhosted.org/packages/f4/24/2a3e3df732393fed8b3ebf2ec078f05546de641fe1b667ee316ec1dcf3b7/webencodings-0.5.1-py2.py3-none-any.whl\u001b[0m\n",
      "\u001b[31mBuilding wheels for collected packages: nltk, train\n",
      "  Running setup.py bdist_wheel for nltk: started\n",
      "  Running setup.py bdist_wheel for nltk: finished with status 'done'\n",
      "  Stored in directory: /root/.cache/pip/wheels/54/40/b7/c56ad418e6cd4d9e1e594b5e138d1ca6eec11a6ee3d464e5bb\n",
      "  Running setup.py bdist_wheel for train: started\u001b[0m\n",
      "\u001b[31m  Running setup.py bdist_wheel for train: finished with status 'done'\n",
      "  Stored in directory: /tmp/pip-ephem-wheel-cache-1qigs7sm/wheels/35/24/16/37574d11bf9bde50616c67372a334f94fa8356bc7164af8ca3\u001b[0m\n",
      "\u001b[31mSuccessfully built nltk train\u001b[0m\n",
      "\u001b[31mInstalling collected packages: numpy, pytz, pandas, nltk, soupsieve, beautifulsoup4, webencodings, html5lib, train\n",
      "  Found existing installation: numpy 1.15.4\n",
      "    Uninstalling numpy-1.15.4:\u001b[0m\n",
      "\u001b[31m      Successfully uninstalled numpy-1.15.4\u001b[0m\n",
      "\u001b[31mSuccessfully installed beautifulsoup4-4.7.1 html5lib-1.0.1 nltk-3.4.3 numpy-1.16.4 pandas-0.24.2 pytz-2019.1 soupsieve-1.9.1 train-1.0.0 webencodings-0.5.1\u001b[0m\n",
      "\u001b[31mYou are using pip version 18.1, however version 19.1.1 is available.\u001b[0m\n",
      "\u001b[31mYou should consider upgrading via the 'pip install --upgrade pip' command.\u001b[0m\n",
      "\u001b[31m2019-06-18 16:26:09,187 sagemaker-containers INFO     Invoking user script\n",
      "\u001b[0m\n",
      "\u001b[31mTraining Env:\n",
      "\u001b[0m\n",
      "\u001b[31m{\n",
      "    \"user_entry_point\": \"train.py\",\n",
      "    \"module_name\": \"train\",\n",
      "    \"module_dir\": \"s3://sagemaker-us-east-2-445973004830/sagemaker-pytorch-2019-06-18-16-22-31-109/source/sourcedir.tar.gz\",\n",
      "    \"output_intermediate_dir\": \"/opt/ml/output/intermediate\",\n",
      "    \"resource_config\": {\n",
      "        \"current_host\": \"algo-1\",\n",
      "        \"network_interface_name\": \"eth0\",\n",
      "        \"hosts\": [\n",
      "            \"algo-1\"\n",
      "        ]\n",
      "    },\n",
      "    \"hyperparameters\": {\n",
      "        \"hidden_dim\": 200,\n",
      "        \"epochs\": 10\n",
      "    },\n",
      "    \"framework_module\": \"sagemaker_pytorch_container.training:main\",\n",
      "    \"num_gpus\": 1,\n",
      "    \"input_dir\": \"/opt/ml/input\",\n",
      "    \"input_config_dir\": \"/opt/ml/input/config\",\n",
      "    \"log_level\": 20,\n",
      "    \"num_cpus\": 4,\n",
      "    \"hosts\": [\n",
      "        \"algo-1\"\n",
      "    ],\n",
      "    \"network_interface_name\": \"eth0\",\n",
      "    \"job_name\": \"sagemaker-pytorch-2019-06-18-16-22-31-109\",\n",
      "    \"output_dir\": \"/opt/ml/output\",\n",
      "    \"channel_input_dirs\": {\n",
      "        \"training\": \"/opt/ml/input/data/training\"\n",
      "    },\n",
      "    \"input_data_config\": {\n",
      "        \"training\": {\n",
      "            \"RecordWrapperType\": \"None\",\n",
      "            \"TrainingInputMode\": \"File\",\n",
      "            \"S3DistributionType\": \"FullyReplicated\"\n",
      "        }\n",
      "    },\n",
      "    \"output_data_dir\": \"/opt/ml/output/data\",\n",
      "    \"model_dir\": \"/opt/ml/model\",\n",
      "    \"additional_framework_parameters\": {},\n",
      "    \"current_host\": \"algo-1\"\u001b[0m\n",
      "\u001b[31m}\n",
      "\u001b[0m\n",
      "\u001b[31mEnvironment variables:\n",
      "\u001b[0m\n",
      "\u001b[31mSM_FRAMEWORK_PARAMS={}\u001b[0m\n",
      "\u001b[31mSM_NETWORK_INTERFACE_NAME=eth0\u001b[0m\n",
      "\u001b[31mSM_OUTPUT_DIR=/opt/ml/output\u001b[0m\n",
      "\u001b[31mSM_NUM_CPUS=4\u001b[0m\n",
      "\u001b[31mSM_MODEL_DIR=/opt/ml/model\u001b[0m\n",
      "\u001b[31mSM_HOSTS=[\"algo-1\"]\u001b[0m\n",
      "\u001b[31mSM_HP_EPOCHS=10\u001b[0m\n",
      "\u001b[31mSM_HPS={\"epochs\":10,\"hidden_dim\":200}\u001b[0m\n",
      "\u001b[31mSM_OUTPUT_DATA_DIR=/opt/ml/output/data\u001b[0m\n",
      "\u001b[31mSM_LOG_LEVEL=20\u001b[0m\n",
      "\u001b[31mSM_HP_HIDDEN_DIM=200\u001b[0m\n",
      "\u001b[31mSM_CHANNELS=[\"training\"]\u001b[0m\n",
      "\u001b[31mPYTHONPATH=/usr/local/bin:/usr/lib/python35.zip:/usr/lib/python3.5:/usr/lib/python3.5/plat-x86_64-linux-gnu:/usr/lib/python3.5/lib-dynload:/usr/local/lib/python3.5/dist-packages:/usr/lib/python3/dist-packages\u001b[0m\n",
      "\u001b[31mSM_NUM_GPUS=1\u001b[0m\n",
      "\u001b[31mSM_USER_ENTRY_POINT=train.py\u001b[0m\n",
      "\u001b[31mSM_MODULE_DIR=s3://sagemaker-us-east-2-445973004830/sagemaker-pytorch-2019-06-18-16-22-31-109/source/sourcedir.tar.gz\u001b[0m\n",
      "\u001b[31mSM_TRAINING_ENV={\"additional_framework_parameters\":{},\"channel_input_dirs\":{\"training\":\"/opt/ml/input/data/training\"},\"current_host\":\"algo-1\",\"framework_module\":\"sagemaker_pytorch_container.training:main\",\"hosts\":[\"algo-1\"],\"hyperparameters\":{\"epochs\":10,\"hidden_dim\":200},\"input_config_dir\":\"/opt/ml/input/config\",\"input_data_config\":{\"training\":{\"RecordWrapperType\":\"None\",\"S3DistributionType\":\"FullyReplicated\",\"TrainingInputMode\":\"File\"}},\"input_dir\":\"/opt/ml/input\",\"job_name\":\"sagemaker-pytorch-2019-06-18-16-22-31-109\",\"log_level\":20,\"model_dir\":\"/opt/ml/model\",\"module_dir\":\"s3://sagemaker-us-east-2-445973004830/sagemaker-pytorch-2019-06-18-16-22-31-109/source/sourcedir.tar.gz\",\"module_name\":\"train\",\"network_interface_name\":\"eth0\",\"num_cpus\":4,\"num_gpus\":1,\"output_data_dir\":\"/opt/ml/output/data\",\"output_dir\":\"/opt/ml/output\",\"output_intermediate_dir\":\"/opt/ml/output/intermediate\",\"resource_config\":{\"current_host\":\"algo-1\",\"hosts\":[\"algo-1\"],\"network_interface_name\":\"eth0\"},\"user_entry_point\":\"train.py\"}\u001b[0m\n",
      "\u001b[31mSM_CURRENT_HOST=algo-1\u001b[0m\n",
      "\u001b[31mSM_INPUT_DATA_CONFIG={\"training\":{\"RecordWrapperType\":\"None\",\"S3DistributionType\":\"FullyReplicated\",\"TrainingInputMode\":\"File\"}}\u001b[0m\n",
      "\u001b[31mSM_RESOURCE_CONFIG={\"current_host\":\"algo-1\",\"hosts\":[\"algo-1\"],\"network_interface_name\":\"eth0\"}\u001b[0m\n",
      "\u001b[31mSM_INPUT_DIR=/opt/ml/input\u001b[0m\n",
      "\u001b[31mSM_USER_ARGS=[\"--epochs\",\"10\",\"--hidden_dim\",\"200\"]\u001b[0m\n",
      "\u001b[31mSM_FRAMEWORK_MODULE=sagemaker_pytorch_container.training:main\u001b[0m\n",
      "\u001b[31mSM_MODULE_NAME=train\u001b[0m\n",
      "\u001b[31mSM_OUTPUT_INTERMEDIATE_DIR=/opt/ml/output/intermediate\u001b[0m\n",
      "\u001b[31mSM_CHANNEL_TRAINING=/opt/ml/input/data/training\u001b[0m\n",
      "\u001b[31mSM_INPUT_CONFIG_DIR=/opt/ml/input/config\n",
      "\u001b[0m\n",
      "\u001b[31mInvoking script with the following command:\n",
      "\u001b[0m\n",
      "\u001b[31m/usr/bin/python -m train --epochs 10 --hidden_dim 200\n",
      "\n",
      "\u001b[0m\n",
      "\u001b[31mUsing device cuda.\u001b[0m\n",
      "\u001b[31mGet train data loader.\u001b[0m\n"
     ]
    },
    {
     "name": "stdout",
     "output_type": "stream",
     "text": [
      "\u001b[31mModel loaded with embedding_dim 32, hidden_dim 200, vocab_size 5000.\u001b[0m\n",
      "\u001b[31mEpoch: 1, BCELoss: 0.6720700495097102\u001b[0m\n",
      "\u001b[31mEpoch: 2, BCELoss: 0.6309006627725096\u001b[0m\n",
      "\u001b[31mEpoch: 3, BCELoss: 0.5295300027545617\u001b[0m\n",
      "\u001b[31mEpoch: 4, BCELoss: 0.45276456706377927\u001b[0m\n",
      "\u001b[31mEpoch: 5, BCELoss: 0.4374625658502384\u001b[0m\n",
      "\u001b[31mEpoch: 6, BCELoss: 0.3701039686494944\u001b[0m\n",
      "\u001b[31mEpoch: 7, BCELoss: 0.34624310415618276\u001b[0m\n",
      "\u001b[31mEpoch: 8, BCELoss: 0.32482826101536655\u001b[0m\n",
      "\u001b[31mEpoch: 9, BCELoss: 0.2983653630529131\u001b[0m\n",
      "\u001b[31mEpoch: 10, BCELoss: 0.27635033824005906\u001b[0m\n",
      "\u001b[31m2019-06-18 16:29:11,341 sagemaker-containers INFO     Reporting training SUCCESS\u001b[0m\n",
      "\n",
      "2019-06-18 16:29:19 Uploading - Uploading generated training model\n",
      "2019-06-18 16:29:19 Completed - Training job completed\n",
      "Billable seconds: 265\n"
     ]
    }
   ],
   "source": [
    "estimator.fit({'training': input_data})"
   ]
  },
  {
   "cell_type": "markdown",
   "metadata": {},
   "source": [
    "## Step 5: Testing the model\n",
    "\n",
    "As mentioned at the top of this notebook, we will be testing this model by first deploying it and then sending the testing data to the deployed endpoint. We will do this so that we can make sure that the deployed model is working correctly.\n",
    "\n",
    "## Step 6: Deploy the model for testing\n",
    "\n",
    "Now that we have trained our model, we would like to test it to see how it performs. Currently our model takes input of the form `review_length, review[500]` where `review[500]` is a sequence of `500` integers which describe the words present in the review, encoded using `word_dict`. Fortunately for us, SageMaker provides built-in inference code for models with simple inputs such as this.\n",
    "\n",
    "There is one thing that we need to provide, however, and that is a function which loads the saved model. This function must be called `model_fn()` and takes as its only parameter a path to the directory where the model artifacts are stored. This function must also be present in the python file which we specified as the entry point. In our case the model loading function has been provided and so no changes need to be made.\n",
    "\n",
    "**NOTE**: When the built-in inference code is run it must import the `model_fn()` method from the `train.py` file. This is why the training code is wrapped in a main guard ( ie, `if __name__ == '__main__':` )\n",
    "\n",
    "Since we don't need to change anything in the code that was uploaded during training, we can simply deploy the current model as-is.\n",
    "\n",
    "**NOTE:** When deploying a model you are asking SageMaker to launch an compute instance that will wait for data to be sent to it. As a result, this compute instance will continue to run until *you* shut it down. This is important to know since the cost of a deployed endpoint depends on how long it has been running for.\n",
    "\n",
    "In other words **If you are no longer using a deployed endpoint, shut it down!**\n",
    "\n",
    "**TODO:** Deploy the trained model."
   ]
  },
  {
   "cell_type": "code",
   "execution_count": 34,
   "metadata": {},
   "outputs": [
    {
     "name": "stdout",
     "output_type": "stream",
     "text": [
      "---------------------------------------------------------------------------------------------------!"
     ]
    }
   ],
   "source": [
    "# TODO: Deploy the trained model\n",
    "\n",
    "predictor = estimator.deploy(initial_instance_count=1, instance_type='ml.p2.xlarge')"
   ]
  },
  {
   "cell_type": "markdown",
   "metadata": {},
   "source": [
    "## Step 7 - Use the model for testing\n",
    "\n",
    "Once deployed, we can read in the test data and send it off to our deployed model to get some results. Once we collect all of the results we can determine how accurate our model is."
   ]
  },
  {
   "cell_type": "code",
   "execution_count": 35,
   "metadata": {},
   "outputs": [],
   "source": [
    "test_X = pd.concat([pd.DataFrame(test_X_len), pd.DataFrame(test_X)], axis=1)"
   ]
  },
  {
   "cell_type": "code",
   "execution_count": 36,
   "metadata": {},
   "outputs": [],
   "source": [
    "# We split the data into chunks and send each chunk seperately, accumulating the results.\n",
    "\n",
    "def predict(data, rows=512):\n",
    "    split_array = np.array_split(data, int(data.shape[0] / float(rows) + 1))\n",
    "    predictions = np.array([])\n",
    "    for array in split_array:\n",
    "        predictions = np.append(predictions, predictor.predict(array))\n",
    "    \n",
    "    return predictions"
   ]
  },
  {
   "cell_type": "code",
   "execution_count": 37,
   "metadata": {},
   "outputs": [],
   "source": [
    "predictions = predict(test_X.values)\n",
    "predictions = [round(num) for num in predictions]"
   ]
  },
  {
   "cell_type": "code",
   "execution_count": 38,
   "metadata": {},
   "outputs": [
    {
     "data": {
      "text/plain": [
       "0.85136"
      ]
     },
     "execution_count": 38,
     "metadata": {},
     "output_type": "execute_result"
    }
   ],
   "source": [
    "from sklearn.metrics import accuracy_score\n",
    "accuracy_score(test_y, predictions)"
   ]
  },
  {
   "cell_type": "markdown",
   "metadata": {},
   "source": [
    " **Question:** How does this model compare to the XGBoost model you created earlier? Why might these two models perform differently on this dataset? Which do *you* think is better for sentiment analysis?"
   ]
  },
  {
   "cell_type": "markdown",
   "metadata": {},
   "source": [
    "# **Answer:**\n",
    "\n",
    "accuracy when using XGBoost was 0.85484 when I run my notebook (in the video it shows 0.87) and accuracy when using RNN was 0.85136. In my case accuracy was not much difference. Normally, Neural network do better job when dataset is big. XGBoost also a powerful algorithm. I would say if dataset is big try RNN and if dataset is samll try XGBoost.\n",
    "\n"
   ]
  },
  {
   "cell_type": "markdown",
   "metadata": {},
   "source": [
    "### my question:\n",
    "\n",
    "Are there any paper or source that shows comaprison of  algorithms for sentiment analysis?"
   ]
  },
  {
   "cell_type": "markdown",
   "metadata": {},
   "source": [
    "### (TODO) More testing\n",
    "\n",
    "We now have a trained model which has been deployed and which we can send processed reviews to and which returns the predicted sentiment. However, ultimately we would like to be able to send our model an unprocessed review. That is, we would like to send the review itself as a string. For example, suppose we wish to send the following review to our model."
   ]
  },
  {
   "cell_type": "code",
   "execution_count": 39,
   "metadata": {},
   "outputs": [],
   "source": [
    "test_review = 'The simplest pleasures in life are the best, and this film is one of them. Combining a rather basic storyline of love and adventure this movie transcends the usual weekend fair with wit and unmitigated charm.'"
   ]
  },
  {
   "cell_type": "markdown",
   "metadata": {},
   "source": [
    "The question we now need to answer is, how do we send this review to our model?\n",
    "\n",
    "Recall in the first section of this notebook we did a bunch of data processing to the IMDb dataset. In particular, we did two specific things to the provided reviews.\n",
    " - Removed any html tags and stemmed the input\n",
    " - Encoded the review as a sequence of integers using `word_dict`\n",
    " \n",
    "In order process the review we will need to repeat these two steps.\n",
    "\n",
    "**TODO**: Using the `review_to_words` and `convert_and_pad` methods from section one, convert `test_review` into a numpy array `test_data` suitable to send to our model. Remember that our model expects input of the form `review_length, review[500]`."
   ]
  },
  {
   "cell_type": "code",
   "execution_count": 40,
   "metadata": {},
   "outputs": [],
   "source": [
    "# TODO: Convert test_review into a form usable by the model and save the results in test_data\n",
    "test_data = review_to_words(test_review)"
   ]
  },
  {
   "cell_type": "code",
   "execution_count": 41,
   "metadata": {
    "scrolled": true
   },
   "outputs": [
    {
     "data": {
      "text/plain": [
       "['simplest',\n",
       " 'pleasur',\n",
       " 'life',\n",
       " 'best',\n",
       " 'film',\n",
       " 'one',\n",
       " 'combin',\n",
       " 'rather',\n",
       " 'basic',\n",
       " 'storylin',\n",
       " 'love',\n",
       " 'adventur',\n",
       " 'movi',\n",
       " 'transcend',\n",
       " 'usual',\n",
       " 'weekend',\n",
       " 'fair',\n",
       " 'wit',\n",
       " 'unmitig',\n",
       " 'charm']"
      ]
     },
     "execution_count": 41,
     "metadata": {},
     "output_type": "execute_result"
    }
   ],
   "source": [
    "test_data"
   ]
  },
  {
   "cell_type": "code",
   "execution_count": 42,
   "metadata": {},
   "outputs": [],
   "source": [
    "test_data, test_data_len = convert_and_pad(word_dict, test_data)"
   ]
  },
  {
   "cell_type": "code",
   "execution_count": 43,
   "metadata": {},
   "outputs": [
    {
     "data": {
      "text/plain": [
       "array([[  20,    1, 1374,   50,   53,    3,    4,  878,  173,  392,  682,\n",
       "          29,  724,    2, 4435,  275, 2079, 1060,  760,    1,  581,    0,\n",
       "           0,    0,    0,    0,    0,    0,    0,    0,    0,    0,    0,\n",
       "           0,    0,    0,    0,    0,    0,    0,    0,    0,    0,    0,\n",
       "           0,    0,    0,    0,    0,    0,    0,    0,    0,    0,    0,\n",
       "           0,    0,    0,    0,    0,    0,    0,    0,    0,    0,    0,\n",
       "           0,    0,    0,    0,    0,    0,    0,    0,    0,    0,    0,\n",
       "           0,    0,    0,    0,    0,    0,    0,    0,    0,    0,    0,\n",
       "           0,    0,    0,    0,    0,    0,    0,    0,    0,    0,    0,\n",
       "           0,    0,    0,    0,    0,    0,    0,    0,    0,    0,    0,\n",
       "           0,    0,    0,    0,    0,    0,    0,    0,    0,    0,    0,\n",
       "           0,    0,    0,    0,    0,    0,    0,    0,    0,    0,    0,\n",
       "           0,    0,    0,    0,    0,    0,    0,    0,    0,    0,    0,\n",
       "           0,    0,    0,    0,    0,    0,    0,    0,    0,    0,    0,\n",
       "           0,    0,    0,    0,    0,    0,    0,    0,    0,    0,    0,\n",
       "           0,    0,    0,    0,    0,    0,    0,    0,    0,    0,    0,\n",
       "           0,    0,    0,    0,    0,    0,    0,    0,    0,    0,    0,\n",
       "           0,    0,    0,    0,    0,    0,    0,    0,    0,    0,    0,\n",
       "           0,    0,    0,    0,    0,    0,    0,    0,    0,    0,    0,\n",
       "           0,    0,    0,    0,    0,    0,    0,    0,    0,    0,    0,\n",
       "           0,    0,    0,    0,    0,    0,    0,    0,    0,    0,    0,\n",
       "           0,    0,    0,    0,    0,    0,    0,    0,    0,    0,    0,\n",
       "           0,    0,    0,    0,    0,    0,    0,    0,    0,    0,    0,\n",
       "           0,    0,    0,    0,    0,    0,    0,    0,    0,    0,    0,\n",
       "           0,    0,    0,    0,    0,    0,    0,    0,    0,    0,    0,\n",
       "           0,    0,    0,    0,    0,    0,    0,    0,    0,    0,    0,\n",
       "           0,    0,    0,    0,    0,    0,    0,    0,    0,    0,    0,\n",
       "           0,    0,    0,    0,    0,    0,    0,    0,    0,    0,    0,\n",
       "           0,    0,    0,    0,    0,    0,    0,    0,    0,    0,    0,\n",
       "           0,    0,    0,    0,    0,    0,    0,    0,    0,    0,    0,\n",
       "           0,    0,    0,    0,    0,    0,    0,    0,    0,    0,    0,\n",
       "           0,    0,    0,    0,    0,    0,    0,    0,    0,    0,    0,\n",
       "           0,    0,    0,    0,    0,    0,    0,    0,    0,    0,    0,\n",
       "           0,    0,    0,    0,    0,    0,    0,    0,    0,    0,    0,\n",
       "           0,    0,    0,    0,    0,    0,    0,    0,    0,    0,    0,\n",
       "           0,    0,    0,    0,    0,    0,    0,    0,    0,    0,    0,\n",
       "           0,    0,    0,    0,    0,    0,    0,    0,    0,    0,    0,\n",
       "           0,    0,    0,    0,    0,    0,    0,    0,    0,    0,    0,\n",
       "           0,    0,    0,    0,    0,    0,    0,    0,    0,    0,    0,\n",
       "           0,    0,    0,    0,    0,    0,    0,    0,    0,    0,    0,\n",
       "           0,    0,    0,    0,    0,    0,    0,    0,    0,    0,    0,\n",
       "           0,    0,    0,    0,    0,    0,    0,    0,    0,    0,    0,\n",
       "           0,    0,    0,    0,    0,    0,    0,    0,    0,    0,    0,\n",
       "           0,    0,    0,    0,    0,    0,    0,    0,    0,    0,    0,\n",
       "           0,    0,    0,    0,    0,    0,    0,    0,    0,    0,    0,\n",
       "           0,    0,    0,    0,    0,    0]])"
      ]
     },
     "execution_count": 43,
     "metadata": {},
     "output_type": "execute_result"
    }
   ],
   "source": [
    "test_data_pack = np.hstack((test_data_len, test_data))\n",
    "test_data_pack = test_data_pack.reshape(1, -1)\n",
    "test_data_pack"
   ]
  },
  {
   "cell_type": "code",
   "execution_count": 44,
   "metadata": {},
   "outputs": [
    {
     "data": {
      "text/plain": [
       "[1,\n",
       " 1374,\n",
       " 50,\n",
       " 53,\n",
       " 3,\n",
       " 4,\n",
       " 878,\n",
       " 173,\n",
       " 392,\n",
       " 682,\n",
       " 29,\n",
       " 724,\n",
       " 2,\n",
       " 4435,\n",
       " 275,\n",
       " 2079,\n",
       " 1060,\n",
       " 760,\n",
       " 1,\n",
       " 581,\n",
       " 0,\n",
       " 0,\n",
       " 0,\n",
       " 0,\n",
       " 0,\n",
       " 0,\n",
       " 0,\n",
       " 0,\n",
       " 0,\n",
       " 0,\n",
       " 0,\n",
       " 0,\n",
       " 0,\n",
       " 0,\n",
       " 0,\n",
       " 0,\n",
       " 0,\n",
       " 0,\n",
       " 0,\n",
       " 0,\n",
       " 0,\n",
       " 0,\n",
       " 0,\n",
       " 0,\n",
       " 0,\n",
       " 0,\n",
       " 0,\n",
       " 0,\n",
       " 0,\n",
       " 0,\n",
       " 0,\n",
       " 0,\n",
       " 0,\n",
       " 0,\n",
       " 0,\n",
       " 0,\n",
       " 0,\n",
       " 0,\n",
       " 0,\n",
       " 0,\n",
       " 0,\n",
       " 0,\n",
       " 0,\n",
       " 0,\n",
       " 0,\n",
       " 0,\n",
       " 0,\n",
       " 0,\n",
       " 0,\n",
       " 0,\n",
       " 0,\n",
       " 0,\n",
       " 0,\n",
       " 0,\n",
       " 0,\n",
       " 0,\n",
       " 0,\n",
       " 0,\n",
       " 0,\n",
       " 0,\n",
       " 0,\n",
       " 0,\n",
       " 0,\n",
       " 0,\n",
       " 0,\n",
       " 0,\n",
       " 0,\n",
       " 0,\n",
       " 0,\n",
       " 0,\n",
       " 0,\n",
       " 0,\n",
       " 0,\n",
       " 0,\n",
       " 0,\n",
       " 0,\n",
       " 0,\n",
       " 0,\n",
       " 0,\n",
       " 0,\n",
       " 0,\n",
       " 0,\n",
       " 0,\n",
       " 0,\n",
       " 0,\n",
       " 0,\n",
       " 0,\n",
       " 0,\n",
       " 0,\n",
       " 0,\n",
       " 0,\n",
       " 0,\n",
       " 0,\n",
       " 0,\n",
       " 0,\n",
       " 0,\n",
       " 0,\n",
       " 0,\n",
       " 0,\n",
       " 0,\n",
       " 0,\n",
       " 0,\n",
       " 0,\n",
       " 0,\n",
       " 0,\n",
       " 0,\n",
       " 0,\n",
       " 0,\n",
       " 0,\n",
       " 0,\n",
       " 0,\n",
       " 0,\n",
       " 0,\n",
       " 0,\n",
       " 0,\n",
       " 0,\n",
       " 0,\n",
       " 0,\n",
       " 0,\n",
       " 0,\n",
       " 0,\n",
       " 0,\n",
       " 0,\n",
       " 0,\n",
       " 0,\n",
       " 0,\n",
       " 0,\n",
       " 0,\n",
       " 0,\n",
       " 0,\n",
       " 0,\n",
       " 0,\n",
       " 0,\n",
       " 0,\n",
       " 0,\n",
       " 0,\n",
       " 0,\n",
       " 0,\n",
       " 0,\n",
       " 0,\n",
       " 0,\n",
       " 0,\n",
       " 0,\n",
       " 0,\n",
       " 0,\n",
       " 0,\n",
       " 0,\n",
       " 0,\n",
       " 0,\n",
       " 0,\n",
       " 0,\n",
       " 0,\n",
       " 0,\n",
       " 0,\n",
       " 0,\n",
       " 0,\n",
       " 0,\n",
       " 0,\n",
       " 0,\n",
       " 0,\n",
       " 0,\n",
       " 0,\n",
       " 0,\n",
       " 0,\n",
       " 0,\n",
       " 0,\n",
       " 0,\n",
       " 0,\n",
       " 0,\n",
       " 0,\n",
       " 0,\n",
       " 0,\n",
       " 0,\n",
       " 0,\n",
       " 0,\n",
       " 0,\n",
       " 0,\n",
       " 0,\n",
       " 0,\n",
       " 0,\n",
       " 0,\n",
       " 0,\n",
       " 0,\n",
       " 0,\n",
       " 0,\n",
       " 0,\n",
       " 0,\n",
       " 0,\n",
       " 0,\n",
       " 0,\n",
       " 0,\n",
       " 0,\n",
       " 0,\n",
       " 0,\n",
       " 0,\n",
       " 0,\n",
       " 0,\n",
       " 0,\n",
       " 0,\n",
       " 0,\n",
       " 0,\n",
       " 0,\n",
       " 0,\n",
       " 0,\n",
       " 0,\n",
       " 0,\n",
       " 0,\n",
       " 0,\n",
       " 0,\n",
       " 0,\n",
       " 0,\n",
       " 0,\n",
       " 0,\n",
       " 0,\n",
       " 0,\n",
       " 0,\n",
       " 0,\n",
       " 0,\n",
       " 0,\n",
       " 0,\n",
       " 0,\n",
       " 0,\n",
       " 0,\n",
       " 0,\n",
       " 0,\n",
       " 0,\n",
       " 0,\n",
       " 0,\n",
       " 0,\n",
       " 0,\n",
       " 0,\n",
       " 0,\n",
       " 0,\n",
       " 0,\n",
       " 0,\n",
       " 0,\n",
       " 0,\n",
       " 0,\n",
       " 0,\n",
       " 0,\n",
       " 0,\n",
       " 0,\n",
       " 0,\n",
       " 0,\n",
       " 0,\n",
       " 0,\n",
       " 0,\n",
       " 0,\n",
       " 0,\n",
       " 0,\n",
       " 0,\n",
       " 0,\n",
       " 0,\n",
       " 0,\n",
       " 0,\n",
       " 0,\n",
       " 0,\n",
       " 0,\n",
       " 0,\n",
       " 0,\n",
       " 0,\n",
       " 0,\n",
       " 0,\n",
       " 0,\n",
       " 0,\n",
       " 0,\n",
       " 0,\n",
       " 0,\n",
       " 0,\n",
       " 0,\n",
       " 0,\n",
       " 0,\n",
       " 0,\n",
       " 0,\n",
       " 0,\n",
       " 0,\n",
       " 0,\n",
       " 0,\n",
       " 0,\n",
       " 0,\n",
       " 0,\n",
       " 0,\n",
       " 0,\n",
       " 0,\n",
       " 0,\n",
       " 0,\n",
       " 0,\n",
       " 0,\n",
       " 0,\n",
       " 0,\n",
       " 0,\n",
       " 0,\n",
       " 0,\n",
       " 0,\n",
       " 0,\n",
       " 0,\n",
       " 0,\n",
       " 0,\n",
       " 0,\n",
       " 0,\n",
       " 0,\n",
       " 0,\n",
       " 0,\n",
       " 0,\n",
       " 0,\n",
       " 0,\n",
       " 0,\n",
       " 0,\n",
       " 0,\n",
       " 0,\n",
       " 0,\n",
       " 0,\n",
       " 0,\n",
       " 0,\n",
       " 0,\n",
       " 0,\n",
       " 0,\n",
       " 0,\n",
       " 0,\n",
       " 0,\n",
       " 0,\n",
       " 0,\n",
       " 0,\n",
       " 0,\n",
       " 0,\n",
       " 0,\n",
       " 0,\n",
       " 0,\n",
       " 0,\n",
       " 0,\n",
       " 0,\n",
       " 0,\n",
       " 0,\n",
       " 0,\n",
       " 0,\n",
       " 0,\n",
       " 0,\n",
       " 0,\n",
       " 0,\n",
       " 0,\n",
       " 0,\n",
       " 0,\n",
       " 0,\n",
       " 0,\n",
       " 0,\n",
       " 0,\n",
       " 0,\n",
       " 0,\n",
       " 0,\n",
       " 0,\n",
       " 0,\n",
       " 0,\n",
       " 0,\n",
       " 0,\n",
       " 0,\n",
       " 0,\n",
       " 0,\n",
       " 0,\n",
       " 0,\n",
       " 0,\n",
       " 0,\n",
       " 0,\n",
       " 0,\n",
       " 0,\n",
       " 0,\n",
       " 0,\n",
       " 0,\n",
       " 0,\n",
       " 0,\n",
       " 0,\n",
       " 0,\n",
       " 0,\n",
       " 0,\n",
       " 0,\n",
       " 0,\n",
       " 0,\n",
       " 0,\n",
       " 0,\n",
       " 0,\n",
       " 0,\n",
       " 0,\n",
       " 0,\n",
       " 0,\n",
       " 0,\n",
       " 0,\n",
       " 0,\n",
       " 0,\n",
       " 0,\n",
       " 0,\n",
       " 0,\n",
       " 0,\n",
       " 0,\n",
       " 0,\n",
       " 0,\n",
       " 0,\n",
       " 0,\n",
       " 0,\n",
       " 0,\n",
       " 0,\n",
       " 0,\n",
       " 0,\n",
       " 0,\n",
       " 0,\n",
       " 0,\n",
       " 0,\n",
       " 0,\n",
       " 0,\n",
       " 0,\n",
       " 0,\n",
       " 0,\n",
       " 0,\n",
       " 0,\n",
       " 0,\n",
       " 0,\n",
       " 0,\n",
       " 0,\n",
       " 0,\n",
       " 0,\n",
       " 0,\n",
       " 0,\n",
       " 0,\n",
       " 0,\n",
       " 0,\n",
       " 0,\n",
       " 0,\n",
       " 0,\n",
       " 0,\n",
       " 0,\n",
       " 0,\n",
       " 0,\n",
       " 0,\n",
       " 0,\n",
       " 0,\n",
       " 0,\n",
       " 0,\n",
       " 0,\n",
       " 0,\n",
       " 0,\n",
       " 0,\n",
       " 0,\n",
       " 0,\n",
       " 0,\n",
       " 0,\n",
       " 0,\n",
       " 0,\n",
       " 0,\n",
       " 0,\n",
       " 0,\n",
       " 0,\n",
       " 0,\n",
       " 0,\n",
       " 0,\n",
       " 0,\n",
       " 0,\n",
       " 0,\n",
       " 0,\n",
       " 0,\n",
       " 0,\n",
       " 0,\n",
       " 0,\n",
       " 0,\n",
       " 0,\n",
       " 0,\n",
       " 0,\n",
       " 0,\n",
       " 0,\n",
       " 0,\n",
       " 0,\n",
       " 0,\n",
       " 0,\n",
       " 0,\n",
       " 0,\n",
       " 0,\n",
       " 0,\n",
       " 0,\n",
       " 0,\n",
       " 0,\n",
       " 0,\n",
       " 0,\n",
       " 0]"
      ]
     },
     "execution_count": 44,
     "metadata": {},
     "output_type": "execute_result"
    }
   ],
   "source": [
    "test_data"
   ]
  },
  {
   "cell_type": "code",
   "execution_count": 45,
   "metadata": {},
   "outputs": [
    {
     "data": {
      "text/plain": [
       "20"
      ]
     },
     "execution_count": 45,
     "metadata": {},
     "output_type": "execute_result"
    }
   ],
   "source": [
    "test_data_len"
   ]
  },
  {
   "cell_type": "code",
   "execution_count": 46,
   "metadata": {},
   "outputs": [
    {
     "data": {
      "text/plain": [
       "array([[   1, 1374,   50,   53,    3,    4,  878,  173,  392,  682,   29,\n",
       "         724,    2, 4435,  275, 2079, 1060,  760,    1,  581,    0,    0,\n",
       "           0,    0,    0,    0,    0,    0,    0,    0,    0,    0,    0,\n",
       "           0,    0,    0,    0,    0,    0,    0,    0,    0,    0,    0,\n",
       "           0,    0,    0,    0,    0,    0,    0,    0,    0,    0,    0,\n",
       "           0,    0,    0,    0,    0,    0,    0,    0,    0,    0,    0,\n",
       "           0,    0,    0,    0,    0,    0,    0,    0,    0,    0,    0,\n",
       "           0,    0,    0,    0,    0,    0,    0,    0,    0,    0,    0,\n",
       "           0,    0,    0,    0,    0,    0,    0,    0,    0,    0,    0,\n",
       "           0,    0,    0,    0,    0,    0,    0,    0,    0,    0,    0,\n",
       "           0,    0,    0,    0,    0,    0,    0,    0,    0,    0,    0,\n",
       "           0,    0,    0,    0,    0,    0,    0,    0,    0,    0,    0,\n",
       "           0,    0,    0,    0,    0,    0,    0,    0,    0,    0,    0,\n",
       "           0,    0,    0,    0,    0,    0,    0,    0,    0,    0,    0,\n",
       "           0,    0,    0,    0,    0,    0,    0,    0,    0,    0,    0,\n",
       "           0,    0,    0,    0,    0,    0,    0,    0,    0,    0,    0,\n",
       "           0,    0,    0,    0,    0,    0,    0,    0,    0,    0,    0,\n",
       "           0,    0,    0,    0,    0,    0,    0,    0,    0,    0,    0,\n",
       "           0,    0,    0,    0,    0,    0,    0,    0,    0,    0,    0,\n",
       "           0,    0,    0,    0,    0,    0,    0,    0,    0,    0,    0,\n",
       "           0,    0,    0,    0,    0,    0,    0,    0,    0,    0,    0,\n",
       "           0,    0,    0,    0,    0,    0,    0,    0,    0,    0,    0,\n",
       "           0,    0,    0,    0,    0,    0,    0,    0,    0,    0,    0,\n",
       "           0,    0,    0,    0,    0,    0,    0,    0,    0,    0,    0,\n",
       "           0,    0,    0,    0,    0,    0,    0,    0,    0,    0,    0,\n",
       "           0,    0,    0,    0,    0,    0,    0,    0,    0,    0,    0,\n",
       "           0,    0,    0,    0,    0,    0,    0,    0,    0,    0,    0,\n",
       "           0,    0,    0,    0,    0,    0,    0,    0,    0,    0,    0,\n",
       "           0,    0,    0,    0,    0,    0,    0,    0,    0,    0,    0,\n",
       "           0,    0,    0,    0,    0,    0,    0,    0,    0,    0,    0,\n",
       "           0,    0,    0,    0,    0,    0,    0,    0,    0,    0,    0,\n",
       "           0,    0,    0,    0,    0,    0,    0,    0,    0,    0,    0,\n",
       "           0,    0,    0,    0,    0,    0,    0,    0,    0,    0,    0,\n",
       "           0,    0,    0,    0,    0,    0,    0,    0,    0,    0,    0,\n",
       "           0,    0,    0,    0,    0,    0,    0,    0,    0,    0,    0,\n",
       "           0,    0,    0,    0,    0,    0,    0,    0,    0,    0,    0,\n",
       "           0,    0,    0,    0,    0,    0,    0,    0,    0,    0,    0,\n",
       "           0,    0,    0,    0,    0,    0,    0,    0,    0,    0,    0,\n",
       "           0,    0,    0,    0,    0,    0,    0,    0,    0,    0,    0,\n",
       "           0,    0,    0,    0,    0,    0,    0,    0,    0,    0,    0,\n",
       "           0,    0,    0,    0,    0,    0,    0,    0,    0,    0,    0,\n",
       "           0,    0,    0,    0,    0,    0,    0,    0,    0,    0,    0,\n",
       "           0,    0,    0,    0,    0,    0,    0,    0,    0,    0,    0,\n",
       "           0,    0,    0,    0,    0,    0,    0,    0,    0,    0,    0,\n",
       "           0,    0,    0,    0,    0,    0,    0,    0,    0,    0,    0,\n",
       "           0,    0,    0,    0,    0]])"
      ]
     },
     "execution_count": 46,
     "metadata": {},
     "output_type": "execute_result"
    }
   ],
   "source": [
    "test_data = np.reshape(test_data, (1, -1))\n",
    "test_data"
   ]
  },
  {
   "cell_type": "markdown",
   "metadata": {},
   "source": [
    "Now that we have processed the review, we can send the resulting array to our model to predict the sentiment of the review."
   ]
  },
  {
   "cell_type": "code",
   "execution_count": 47,
   "metadata": {
    "scrolled": true
   },
   "outputs": [
    {
     "data": {
      "text/plain": [
       "array([[20]])"
      ]
     },
     "execution_count": 47,
     "metadata": {},
     "output_type": "execute_result"
    }
   ],
   "source": [
    "test_data_len = np.reshape(np.array(test_data_len), (1, -1))\n",
    "test_data_len"
   ]
  },
  {
   "cell_type": "code",
   "execution_count": 48,
   "metadata": {
    "scrolled": true
   },
   "outputs": [
    {
     "data": {
      "text/html": [
       "<div>\n",
       "<style scoped>\n",
       "    .dataframe tbody tr th:only-of-type {\n",
       "        vertical-align: middle;\n",
       "    }\n",
       "\n",
       "    .dataframe tbody tr th {\n",
       "        vertical-align: top;\n",
       "    }\n",
       "\n",
       "    .dataframe thead th {\n",
       "        text-align: right;\n",
       "    }\n",
       "</style>\n",
       "<table border=\"1\" class=\"dataframe\">\n",
       "  <thead>\n",
       "    <tr style=\"text-align: right;\">\n",
       "      <th></th>\n",
       "      <th>0</th>\n",
       "      <th>0</th>\n",
       "      <th>1</th>\n",
       "      <th>2</th>\n",
       "      <th>3</th>\n",
       "      <th>4</th>\n",
       "      <th>5</th>\n",
       "      <th>6</th>\n",
       "      <th>7</th>\n",
       "      <th>8</th>\n",
       "      <th>...</th>\n",
       "      <th>490</th>\n",
       "      <th>491</th>\n",
       "      <th>492</th>\n",
       "      <th>493</th>\n",
       "      <th>494</th>\n",
       "      <th>495</th>\n",
       "      <th>496</th>\n",
       "      <th>497</th>\n",
       "      <th>498</th>\n",
       "      <th>499</th>\n",
       "    </tr>\n",
       "  </thead>\n",
       "  <tbody>\n",
       "    <tr>\n",
       "      <th>0</th>\n",
       "      <td>20</td>\n",
       "      <td>1</td>\n",
       "      <td>1374</td>\n",
       "      <td>50</td>\n",
       "      <td>53</td>\n",
       "      <td>3</td>\n",
       "      <td>4</td>\n",
       "      <td>878</td>\n",
       "      <td>173</td>\n",
       "      <td>392</td>\n",
       "      <td>...</td>\n",
       "      <td>0</td>\n",
       "      <td>0</td>\n",
       "      <td>0</td>\n",
       "      <td>0</td>\n",
       "      <td>0</td>\n",
       "      <td>0</td>\n",
       "      <td>0</td>\n",
       "      <td>0</td>\n",
       "      <td>0</td>\n",
       "      <td>0</td>\n",
       "    </tr>\n",
       "  </tbody>\n",
       "</table>\n",
       "<p>1 rows × 501 columns</p>\n",
       "</div>"
      ],
      "text/plain": [
       "   0    0     1    2    3    4    5    6    7    8    ...  490  491  492  493  \\\n",
       "0   20    1  1374   50   53    3    4  878  173  392  ...    0    0    0    0   \n",
       "\n",
       "   494  495  496  497  498  499  \n",
       "0    0    0    0    0    0    0  \n",
       "\n",
       "[1 rows x 501 columns]"
      ]
     },
     "execution_count": 48,
     "metadata": {},
     "output_type": "execute_result"
    }
   ],
   "source": [
    "test_data = pd.concat([pd.DataFrame(test_data_len), pd.DataFrame(test_data)], axis=1)\n",
    "test_data"
   ]
  },
  {
   "cell_type": "code",
   "execution_count": 49,
   "metadata": {},
   "outputs": [
    {
     "data": {
      "text/plain": [
       "array(0.8890882, dtype=float32)"
      ]
     },
     "execution_count": 49,
     "metadata": {},
     "output_type": "execute_result"
    }
   ],
   "source": [
    "predictor.predict(test_data)"
   ]
  },
  {
   "cell_type": "markdown",
   "metadata": {},
   "source": [
    "Since the return value of our model is close to `1`, we can be certain that the review we submitted is positive."
   ]
  },
  {
   "cell_type": "markdown",
   "metadata": {},
   "source": [
    "### Delete the endpoint\n",
    "\n",
    "Of course, just like in the XGBoost notebook, once we've deployed an endpoint it continues to run until we tell it to shut down. Since we are done using our endpoint for now, we can delete it."
   ]
  },
  {
   "cell_type": "code",
   "execution_count": 50,
   "metadata": {},
   "outputs": [],
   "source": [
    "estimator.delete_endpoint()"
   ]
  },
  {
   "cell_type": "markdown",
   "metadata": {},
   "source": [
    "## Step 6 (again) - Deploy the model for the web app\n",
    "\n",
    "Now that we know that our model is working, it's time to create some custom inference code so that we can send the model a review which has not been processed and have it determine the sentiment of the review.\n",
    "\n",
    "As we saw above, by default the estimator which we created, when deployed, will use the entry script and directory which we provided when creating the model. However, since we now wish to accept a string as input and our model expects a processed review, we need to write some custom inference code.\n",
    "\n",
    "We will store the code that we write in the `serve` directory. Provided in this directory is the `model.py` file that we used to construct our model, a `utils.py` file which contains the `review_to_words` and `convert_and_pad` pre-processing functions which we used during the initial data processing, and `predict.py`, the file which will contain our custom inference code. Note also that `requirements.txt` is present which will tell SageMaker what Python libraries are required by our custom inference code.\n",
    "\n",
    "When deploying a PyTorch model in SageMaker, you are expected to provide four functions which the SageMaker inference container will use.\n",
    " - `model_fn`: This function is the same function that we used in the training script and it tells SageMaker how to load our model.\n",
    " - `input_fn`: This function receives the raw serialized input that has been sent to the model's endpoint and its job is to de-serialize and make the input available for the inference code.\n",
    " - `output_fn`: This function takes the output of the inference code and its job is to serialize this output and return it to the caller of the model's endpoint.\n",
    " - `predict_fn`: The heart of the inference script, this is where the actual prediction is done and is the function which you will need to complete.\n",
    "\n",
    "For the simple website that we are constructing during this project, the `input_fn` and `output_fn` methods are relatively straightforward. We only require being able to accept a string as input and we expect to return a single value as output. You might imagine though that in a more complex application the input or output may be image data or some other binary data which would require some effort to serialize.\n",
    "\n",
    "### (TODO) Writing inference code\n",
    "\n",
    "Before writing our custom inference code, we will begin by taking a look at the code which has been provided."
   ]
  },
  {
   "cell_type": "code",
   "execution_count": 65,
   "metadata": {
    "scrolled": false
   },
   "outputs": [
    {
     "name": "stdout",
     "output_type": "stream",
     "text": [
      "\u001b[34mimport\u001b[39;49;00m \u001b[04m\u001b[36margparse\u001b[39;49;00m\r\n",
      "\u001b[34mimport\u001b[39;49;00m \u001b[04m\u001b[36mjson\u001b[39;49;00m\r\n",
      "\u001b[34mimport\u001b[39;49;00m \u001b[04m\u001b[36mos\u001b[39;49;00m\r\n",
      "\u001b[34mimport\u001b[39;49;00m \u001b[04m\u001b[36mpickle\u001b[39;49;00m\r\n",
      "\u001b[34mimport\u001b[39;49;00m \u001b[04m\u001b[36msys\u001b[39;49;00m\r\n",
      "\u001b[34mimport\u001b[39;49;00m \u001b[04m\u001b[36msagemaker_containers\u001b[39;49;00m\r\n",
      "\u001b[34mimport\u001b[39;49;00m \u001b[04m\u001b[36mpandas\u001b[39;49;00m \u001b[34mas\u001b[39;49;00m \u001b[04m\u001b[36mpd\u001b[39;49;00m\r\n",
      "\u001b[34mimport\u001b[39;49;00m \u001b[04m\u001b[36mnumpy\u001b[39;49;00m \u001b[34mas\u001b[39;49;00m \u001b[04m\u001b[36mnp\u001b[39;49;00m\r\n",
      "\u001b[34mimport\u001b[39;49;00m \u001b[04m\u001b[36mtorch\u001b[39;49;00m\r\n",
      "\u001b[34mimport\u001b[39;49;00m \u001b[04m\u001b[36mtorch.nn\u001b[39;49;00m \u001b[34mas\u001b[39;49;00m \u001b[04m\u001b[36mnn\u001b[39;49;00m\r\n",
      "\u001b[34mimport\u001b[39;49;00m \u001b[04m\u001b[36mtorch.optim\u001b[39;49;00m \u001b[34mas\u001b[39;49;00m \u001b[04m\u001b[36moptim\u001b[39;49;00m\r\n",
      "\u001b[34mimport\u001b[39;49;00m \u001b[04m\u001b[36mtorch.utils.data\u001b[39;49;00m\r\n",
      "\r\n",
      "\u001b[34mfrom\u001b[39;49;00m \u001b[04m\u001b[36mmodel\u001b[39;49;00m \u001b[34mimport\u001b[39;49;00m LSTMClassifier\r\n",
      "\r\n",
      "\u001b[34mfrom\u001b[39;49;00m \u001b[04m\u001b[36mutils\u001b[39;49;00m \u001b[34mimport\u001b[39;49;00m review_to_words, convert_and_pad\r\n",
      "\r\n",
      "\u001b[34mdef\u001b[39;49;00m \u001b[32mmodel_fn\u001b[39;49;00m(model_dir):\r\n",
      "    \u001b[33m\"\"\"Load the PyTorch model from the `model_dir` directory.\"\"\"\u001b[39;49;00m\r\n",
      "    \u001b[34mprint\u001b[39;49;00m(\u001b[33m\"\u001b[39;49;00m\u001b[33mLoading model.\u001b[39;49;00m\u001b[33m\"\u001b[39;49;00m)\r\n",
      "\r\n",
      "    \u001b[37m# First, load the parameters used to create the model.\u001b[39;49;00m\r\n",
      "    model_info = {}\r\n",
      "    model_info_path = os.path.join(model_dir, \u001b[33m'\u001b[39;49;00m\u001b[33mmodel_info.pth\u001b[39;49;00m\u001b[33m'\u001b[39;49;00m)\r\n",
      "    \u001b[34mwith\u001b[39;49;00m \u001b[36mopen\u001b[39;49;00m(model_info_path, \u001b[33m'\u001b[39;49;00m\u001b[33mrb\u001b[39;49;00m\u001b[33m'\u001b[39;49;00m) \u001b[34mas\u001b[39;49;00m f:\r\n",
      "        model_info = torch.load(f)\r\n",
      "\r\n",
      "    \u001b[34mprint\u001b[39;49;00m(\u001b[33m\"\u001b[39;49;00m\u001b[33mmodel_info: {}\u001b[39;49;00m\u001b[33m\"\u001b[39;49;00m.format(model_info))\r\n",
      "\r\n",
      "    \u001b[37m# Determine the device and construct the model.\u001b[39;49;00m\r\n",
      "    device = torch.device(\u001b[33m\"\u001b[39;49;00m\u001b[33mcuda\u001b[39;49;00m\u001b[33m\"\u001b[39;49;00m \u001b[34mif\u001b[39;49;00m torch.cuda.is_available() \u001b[34melse\u001b[39;49;00m \u001b[33m\"\u001b[39;49;00m\u001b[33mcpu\u001b[39;49;00m\u001b[33m\"\u001b[39;49;00m)\r\n",
      "    model = LSTMClassifier(model_info[\u001b[33m'\u001b[39;49;00m\u001b[33membedding_dim\u001b[39;49;00m\u001b[33m'\u001b[39;49;00m], model_info[\u001b[33m'\u001b[39;49;00m\u001b[33mhidden_dim\u001b[39;49;00m\u001b[33m'\u001b[39;49;00m], model_info[\u001b[33m'\u001b[39;49;00m\u001b[33mvocab_size\u001b[39;49;00m\u001b[33m'\u001b[39;49;00m])\r\n",
      "\r\n",
      "    \u001b[37m# Load the store model parameters.\u001b[39;49;00m\r\n",
      "    model_path = os.path.join(model_dir, \u001b[33m'\u001b[39;49;00m\u001b[33mmodel.pth\u001b[39;49;00m\u001b[33m'\u001b[39;49;00m)\r\n",
      "    \u001b[34mwith\u001b[39;49;00m \u001b[36mopen\u001b[39;49;00m(model_path, \u001b[33m'\u001b[39;49;00m\u001b[33mrb\u001b[39;49;00m\u001b[33m'\u001b[39;49;00m) \u001b[34mas\u001b[39;49;00m f:\r\n",
      "        model.load_state_dict(torch.load(f))\r\n",
      "\r\n",
      "    \u001b[37m# Load the saved word_dict.\u001b[39;49;00m\r\n",
      "    word_dict_path = os.path.join(model_dir, \u001b[33m'\u001b[39;49;00m\u001b[33mword_dict.pkl\u001b[39;49;00m\u001b[33m'\u001b[39;49;00m)\r\n",
      "    \u001b[34mwith\u001b[39;49;00m \u001b[36mopen\u001b[39;49;00m(word_dict_path, \u001b[33m'\u001b[39;49;00m\u001b[33mrb\u001b[39;49;00m\u001b[33m'\u001b[39;49;00m) \u001b[34mas\u001b[39;49;00m f:\r\n",
      "        model.word_dict = pickle.load(f)\r\n",
      "\r\n",
      "    model.to(device).eval()\r\n",
      "\r\n",
      "    \u001b[34mprint\u001b[39;49;00m(\u001b[33m\"\u001b[39;49;00m\u001b[33mDone loading model.\u001b[39;49;00m\u001b[33m\"\u001b[39;49;00m)\r\n",
      "    \u001b[34mreturn\u001b[39;49;00m model\r\n",
      "\r\n",
      "\u001b[34mdef\u001b[39;49;00m \u001b[32minput_fn\u001b[39;49;00m(serialized_input_data, content_type):\r\n",
      "    \u001b[34mprint\u001b[39;49;00m(\u001b[33m'\u001b[39;49;00m\u001b[33mDeserializing the input data.\u001b[39;49;00m\u001b[33m'\u001b[39;49;00m)\r\n",
      "    \u001b[34mif\u001b[39;49;00m content_type == \u001b[33m'\u001b[39;49;00m\u001b[33mtext/plain\u001b[39;49;00m\u001b[33m'\u001b[39;49;00m:\r\n",
      "        data = serialized_input_data.decode(\u001b[33m'\u001b[39;49;00m\u001b[33mutf-8\u001b[39;49;00m\u001b[33m'\u001b[39;49;00m)\r\n",
      "        \u001b[34mreturn\u001b[39;49;00m data\r\n",
      "    \u001b[34mraise\u001b[39;49;00m \u001b[36mException\u001b[39;49;00m(\u001b[33m'\u001b[39;49;00m\u001b[33mRequested unsupported ContentType in content_type: \u001b[39;49;00m\u001b[33m'\u001b[39;49;00m + content_type)\r\n",
      "\r\n",
      "\u001b[34mdef\u001b[39;49;00m \u001b[32moutput_fn\u001b[39;49;00m(prediction_output, accept):\r\n",
      "    \u001b[34mprint\u001b[39;49;00m(\u001b[33m'\u001b[39;49;00m\u001b[33mSerializing the generated output.\u001b[39;49;00m\u001b[33m'\u001b[39;49;00m)\r\n",
      "    \u001b[34mreturn\u001b[39;49;00m \u001b[36mstr\u001b[39;49;00m(prediction_output)\r\n",
      "\r\n",
      "\u001b[34mdef\u001b[39;49;00m \u001b[32mpredict_fn\u001b[39;49;00m(input_data, model):\r\n",
      "    \u001b[34mprint\u001b[39;49;00m(\u001b[33m'\u001b[39;49;00m\u001b[33mInferring sentiment of input data.\u001b[39;49;00m\u001b[33m'\u001b[39;49;00m)\r\n",
      "\r\n",
      "    device = torch.device(\u001b[33m\"\u001b[39;49;00m\u001b[33mcuda\u001b[39;49;00m\u001b[33m\"\u001b[39;49;00m \u001b[34mif\u001b[39;49;00m torch.cuda.is_available() \u001b[34melse\u001b[39;49;00m \u001b[33m\"\u001b[39;49;00m\u001b[33mcpu\u001b[39;49;00m\u001b[33m\"\u001b[39;49;00m)\r\n",
      "    \r\n",
      "    \u001b[34mif\u001b[39;49;00m model.word_dict \u001b[35mis\u001b[39;49;00m \u001b[36mNone\u001b[39;49;00m:\r\n",
      "        \u001b[34mraise\u001b[39;49;00m \u001b[36mException\u001b[39;49;00m(\u001b[33m'\u001b[39;49;00m\u001b[33mModel has not been loaded properly, no word_dict.\u001b[39;49;00m\u001b[33m'\u001b[39;49;00m)\r\n",
      "    \r\n",
      "    \u001b[37m# TODO: Process input_data so that it is ready to be sent to our model.\u001b[39;49;00m\r\n",
      "    \u001b[37m#       You should produce two variables:\u001b[39;49;00m\r\n",
      "    \u001b[37m#         data_X   - A sequence of length 500 which represents the converted review\u001b[39;49;00m\r\n",
      "    \u001b[37m#         data_len - The length of the review\u001b[39;49;00m\r\n",
      "    data_X , data_len = convert_and_pad(model.word_dict, review_to_words(input_data), \u001b[34m500\u001b[39;49;00m)\r\n",
      "    \r\n",
      "\r\n",
      "    \u001b[37m# Using data_X and data_len we construct an appropriate input tensor. Remember\u001b[39;49;00m\r\n",
      "    \u001b[37m# that our model expects input data of the form 'len, review[500]'.\u001b[39;49;00m\r\n",
      "    data_pack = np.hstack((data_len, data_X))\r\n",
      "    data_pack = data_pack.reshape(\u001b[34m1\u001b[39;49;00m, -\u001b[34m1\u001b[39;49;00m)\r\n",
      "    \r\n",
      "    data = torch.from_numpy(data_pack)\r\n",
      "    data = data.to(device)\r\n",
      "\r\n",
      "    \u001b[37m# Make sure to put the model into evaluation mode\u001b[39;49;00m\r\n",
      "    model.eval()\r\n",
      "\r\n",
      "    \u001b[37m# TODO: Compute the result of applying the model to the input data. The variable `result` should\u001b[39;49;00m\r\n",
      "    \u001b[37m#       be a numpy array which contains a single integer which is either 1 or 0\u001b[39;49;00m\r\n",
      "    result = model(data)\r\n",
      "    result = \u001b[36mround\u001b[39;49;00m(result.item())\r\n",
      "    \r\n",
      "\r\n",
      "    \u001b[34mreturn\u001b[39;49;00m result\r\n"
     ]
    }
   ],
   "source": [
    "!pygmentize serve/predict.py"
   ]
  },
  {
   "cell_type": "markdown",
   "metadata": {},
   "source": [
    "As mentioned earlier, the `model_fn` method is the same as the one provided in the training code and the `input_fn` and `output_fn` methods are very simple and your task will be to complete the `predict_fn` method. Make sure that you save the completed file as `predict.py` in the `serve` directory.\n",
    "\n",
    "**TODO**: Complete the `predict_fn()` method in the `serve/predict.py` file."
   ]
  },
  {
   "cell_type": "markdown",
   "metadata": {},
   "source": [
    "### Deploying the model\n",
    "\n",
    "Now that the custom inference code has been written, we will create and deploy our model. To begin with, we need to construct a new PyTorchModel object which points to the model artifacts created during training and also points to the inference code that we wish to use. Then we can call the deploy method to launch the deployment container.\n",
    "\n",
    "**NOTE**: The default behaviour for a deployed PyTorch model is to assume that any input passed to the predictor is a `numpy` array. In our case we want to send a string so we need to construct a simple wrapper around the `RealTimePredictor` class to accomodate simple strings. In a more complicated situation you may want to provide a serialization object, for example if you wanted to sent image data."
   ]
  },
  {
   "cell_type": "code",
   "execution_count": 70,
   "metadata": {},
   "outputs": [
    {
     "name": "stdout",
     "output_type": "stream",
     "text": [
      "--------------------------------------------------------------------------------------------!"
     ]
    }
   ],
   "source": [
    "from sagemaker.predictor import RealTimePredictor\n",
    "from sagemaker.pytorch import PyTorchModel\n",
    "\n",
    "class StringPredictor(RealTimePredictor):\n",
    "    def __init__(self, endpoint_name, sagemaker_session):\n",
    "        super(StringPredictor, self).__init__(endpoint_name, sagemaker_session, content_type='text/plain')\n",
    "\n",
    "model = PyTorchModel(model_data=estimator.model_data,\n",
    "                     role = role,\n",
    "                     framework_version='0.4.0',\n",
    "                     entry_point='predict.py',\n",
    "                     source_dir='serve',\n",
    "                     predictor_cls=StringPredictor)\n",
    "predictor = model.deploy(initial_instance_count=1, instance_type='ml.m4.xlarge')"
   ]
  },
  {
   "cell_type": "markdown",
   "metadata": {},
   "source": [
    "### Testing the model\n",
    "\n",
    "Now that we have deployed our model with the custom inference code, we should test to see if everything is working. Here we test our model by loading the first `250` positive and negative reviews and send them to the endpoint, then collect the results. The reason for only sending some of the data is that the amount of time it takes for our model to process the input and then perform inference is quite long and so testing the entire data set would be prohibitive."
   ]
  },
  {
   "cell_type": "code",
   "execution_count": 71,
   "metadata": {},
   "outputs": [],
   "source": [
    "import glob\n",
    "\n",
    "def test_reviews(data_dir='../data/aclImdb', stop=250):\n",
    "    \n",
    "    results = []\n",
    "    ground = []\n",
    "    \n",
    "    # We make sure to test both positive and negative reviews    \n",
    "    for sentiment in ['pos', 'neg']:\n",
    "        \n",
    "        path = os.path.join(data_dir, 'test', sentiment, '*.txt')\n",
    "        files = glob.glob(path)\n",
    "        \n",
    "        files_read = 0\n",
    "        \n",
    "        print('Starting ', sentiment, ' files')\n",
    "        \n",
    "        # Iterate through the files and send them to the predictor\n",
    "        for f in files:\n",
    "            with open(f) as review:\n",
    "                # First, we store the ground truth (was the review positive or negative)\n",
    "                if sentiment == 'pos':\n",
    "                    ground.append(1)\n",
    "                else:\n",
    "                    ground.append(0)\n",
    "                # Read in the review and convert to 'utf-8' for transmission via HTTP\n",
    "                review_input = review.read().encode('utf-8')\n",
    "                # Send the review to the predictor and store the results\n",
    "                results.append(int(predictor.predict(review_input)))\n",
    "                \n",
    "            # Sending reviews to our endpoint one at a time takes a while so we\n",
    "            # only send a small number of reviews\n",
    "            files_read += 1\n",
    "            if files_read == stop:\n",
    "                break\n",
    "            \n",
    "    return ground, results"
   ]
  },
  {
   "cell_type": "code",
   "execution_count": 72,
   "metadata": {
    "scrolled": true
   },
   "outputs": [
    {
     "name": "stdout",
     "output_type": "stream",
     "text": [
      "Starting  pos  files\n",
      "Starting  neg  files\n"
     ]
    }
   ],
   "source": [
    "ground, results = test_reviews()"
   ]
  },
  {
   "cell_type": "code",
   "execution_count": 73,
   "metadata": {
    "scrolled": true
   },
   "outputs": [
    {
     "data": {
      "text/plain": [
       "0.82"
      ]
     },
     "execution_count": 73,
     "metadata": {},
     "output_type": "execute_result"
    }
   ],
   "source": [
    "from sklearn.metrics import accuracy_score\n",
    "accuracy_score(ground, results)"
   ]
  },
  {
   "cell_type": "markdown",
   "metadata": {},
   "source": [
    "As an additional test, we can try sending the `test_review` that we looked at earlier."
   ]
  },
  {
   "cell_type": "code",
   "execution_count": 74,
   "metadata": {
    "scrolled": false
   },
   "outputs": [
    {
     "data": {
      "text/plain": [
       "b'1'"
      ]
     },
     "execution_count": 74,
     "metadata": {},
     "output_type": "execute_result"
    }
   ],
   "source": [
    "predictor.predict(test_review)"
   ]
  },
  {
   "cell_type": "markdown",
   "metadata": {},
   "source": [
    "Now that we know our endpoint is working as expected, we can set up the web page that will interact with it. If you don't have time to finish the project now, make sure to skip down to the end of this notebook and shut down your endpoint. You can deploy it again when you come back."
   ]
  },
  {
   "cell_type": "markdown",
   "metadata": {},
   "source": [
    "## Step 7 (again): Use the model for the web app\n",
    "\n",
    "> **TODO:** This entire section and the next contain tasks for you to complete, mostly using the AWS console.\n",
    "\n",
    "So far we have been accessing our model endpoint by constructing a predictor object which uses the endpoint and then just using the predictor object to perform inference. What if we wanted to create a web app which accessed our model? The way things are set up currently makes that not possible since in order to access a SageMaker endpoint the app would first have to authenticate with AWS using an IAM role which included access to SageMaker endpoints. However, there is an easier way! We just need to use some additional AWS services.\n",
    "\n",
    "<img src=\"Web App Diagram.svg\">\n",
    "\n",
    "The diagram above gives an overview of how the various services will work together. On the far right is the model which we trained above and which is deployed using SageMaker. On the far left is our web app that collects a user's movie review, sends it off and expects a positive or negative sentiment in return.\n",
    "\n",
    "In the middle is where some of the magic happens. We will construct a Lambda function, which you can think of as a straightforward Python function that can be executed whenever a specified event occurs. We will give this function permission to send and recieve data from a SageMaker endpoint.\n",
    "\n",
    "Lastly, the method we will use to execute the Lambda function is a new endpoint that we will create using API Gateway. This endpoint will be a url that listens for data to be sent to it. Once it gets some data it will pass that data on to the Lambda function and then return whatever the Lambda function returns. Essentially it will act as an interface that lets our web app communicate with the Lambda function.\n",
    "\n",
    "### Setting up a Lambda function\n",
    "\n",
    "The first thing we are going to do is set up a Lambda function. This Lambda function will be executed whenever our public API has data sent to it. When it is executed it will receive the data, perform any sort of processing that is required, send the data (the review) to the SageMaker endpoint we've created and then return the result.\n",
    "\n",
    "#### Part A: Create an IAM Role for the Lambda function\n",
    "\n",
    "Since we want the Lambda function to call a SageMaker endpoint, we need to make sure that it has permission to do so. To do this, we will construct a role that we can later give the Lambda function.\n",
    "\n",
    "Using the AWS Console, navigate to the **IAM** page and click on **Roles**. Then, click on **Create role**. Make sure that the **AWS service** is the type of trusted entity selected and choose **Lambda** as the service that will use this role, then click **Next: Permissions**.\n",
    "\n",
    "In the search box type `sagemaker` and select the check box next to the **AmazonSageMakerFullAccess** policy. Then, click on **Next: Review**.\n",
    "\n",
    "Lastly, give this role a name. Make sure you use a name that you will remember later on, for example `LambdaSageMakerRole`. Then, click on **Create role**.\n",
    "\n",
    "#### Part B: Create a Lambda function\n",
    "\n",
    "Now it is time to actually create the Lambda function.\n",
    "\n",
    "Using the AWS Console, navigate to the AWS Lambda page and click on **Create a function**. When you get to the next page, make sure that **Author from scratch** is selected. Now, name your Lambda function, using a name that you will remember later on, for example `sentiment_analysis_func`. Make sure that the **Python 3.6** runtime is selected and then choose the role that you created in the previous part. Then, click on **Create Function**.\n",
    "\n",
    "On the next page you will see some information about the Lambda function you've just created. If you scroll down you should see an editor in which you can write the code that will be executed when your Lambda function is triggered. In our example, we will use the code below. \n",
    "\n",
    "```python\n",
    "# We need to use the low-level library to interact with SageMaker since the SageMaker API\n",
    "# is not available natively through Lambda.\n",
    "import boto3\n",
    "\n",
    "def lambda_handler(event, context):\n",
    "\n",
    "    # The SageMaker runtime is what allows us to invoke the endpoint that we've created.\n",
    "    runtime = boto3.Session().client('sagemaker-runtime')\n",
    "\n",
    "    # Now we use the SageMaker runtime to invoke our endpoint, sending the review we were given\n",
    "    response = runtime.invoke_endpoint(EndpointName = '**ENDPOINT NAME HERE**',    # The name of the endpoint we created\n",
    "                                       ContentType = 'text/plain',                 # The data format that is expected\n",
    "                                       Body = event['body'])                       # The actual review\n",
    "\n",
    "    # The response is an HTTP response whose body contains the result of our inference\n",
    "    result = response['Body'].read().decode('utf-8')\n",
    "\n",
    "    return {\n",
    "        'statusCode' : 200,\n",
    "        'headers' : { 'Content-Type' : 'text/plain', 'Access-Control-Allow-Origin' : '*' },\n",
    "        'body' : result\n",
    "    }\n",
    "```\n",
    "\n",
    "Once you have copy and pasted the code above into the Lambda code editor, replace the `**ENDPOINT NAME HERE**` portion with the name of the endpoint that we deployed earlier. You can determine the name of the endpoint using the code cell below."
   ]
  },
  {
   "cell_type": "code",
   "execution_count": 75,
   "metadata": {},
   "outputs": [
    {
     "data": {
      "text/plain": [
       "'sagemaker-pytorch-2019-06-18-17-29-00-073'"
      ]
     },
     "execution_count": 75,
     "metadata": {},
     "output_type": "execute_result"
    }
   ],
   "source": [
    "predictor.endpoint"
   ]
  },
  {
   "cell_type": "markdown",
   "metadata": {},
   "source": [
    "Once you have added the endpoint name to the Lambda function, click on **Save**. Your Lambda function is now up and running. Next we need to create a way for our web app to execute the Lambda function.\n",
    "\n",
    "### Setting up API Gateway\n",
    "\n",
    "Now that our Lambda function is set up, it is time to create a new API using API Gateway that will trigger the Lambda function we have just created.\n",
    "\n",
    "Using AWS Console, navigate to **Amazon API Gateway** and then click on **Get started**.\n",
    "\n",
    "On the next page, make sure that **New API** is selected and give the new api a name, for example, `sentiment_analysis_api`. Then, click on **Create API**.\n",
    "\n",
    "Now we have created an API, however it doesn't currently do anything. What we want it to do is to trigger the Lambda function that we created earlier.\n",
    "\n",
    "Select the **Actions** dropdown menu and click **Create Method**. A new blank method will be created, select its dropdown menu and select **POST**, then click on the check mark beside it.\n",
    "\n",
    "For the integration point, make sure that **Lambda Function** is selected and click on the **Use Lambda Proxy integration**. This option makes sure that the data that is sent to the API is then sent directly to the Lambda function with no processing. It also means that the return value must be a proper response object as it will also not be processed by API Gateway.\n",
    "\n",
    "Type the name of the Lambda function you created earlier into the **Lambda Function** text entry box and then click on **Save**. Click on **OK** in the pop-up box that then appears, giving permission to API Gateway to invoke the Lambda function you created.\n",
    "\n",
    "The last step in creating the API Gateway is to select the **Actions** dropdown and click on **Deploy API**. You will need to create a new Deployment stage and name it anything you like, for example `prod`.\n",
    "\n",
    "You have now successfully set up a public API to access your SageMaker model. Make sure to copy or write down the URL provided to invoke your newly created public API as this will be needed in the next step. This URL can be found at the top of the page, highlighted in blue next to the text **Invoke URL**."
   ]
  },
  {
   "cell_type": "markdown",
   "metadata": {},
   "source": [
    "## Step 4: Deploying our web app\n",
    "\n",
    "Now that we have a publicly available API, we can start using it in a web app. For our purposes, we have provided a simple static html file which can make use of the public api you created earlier.\n",
    "\n",
    "In the `website` folder there should be a file called `index.html`. Download the file to your computer and open that file up in a text editor of your choice. There should be a line which contains **\\*\\*REPLACE WITH PUBLIC API URL\\*\\***. Replace this string with the url that you wrote down in the last step and then save the file.\n",
    "\n",
    "Now, if you open `index.html` on your local computer, your browser will behave as a local web server and you can use the provided site to interact with your SageMaker model.\n",
    "\n",
    "If you'd like to go further, you can host this html file anywhere you'd like, for example using github or hosting a static site on Amazon's S3. Once you have done this you can share the link with anyone you'd like and have them play with it too!\n",
    "\n",
    "> **Important Note** In order for the web app to communicate with the SageMaker endpoint, the endpoint has to actually be deployed and running. This means that you are paying for it. Make sure that the endpoint is running when you want to use the web app but that you shut it down when you don't need it, otherwise you will end up with a surprisingly large AWS bill.\n",
    "\n",
    "**TODO:** Make sure that you include the edited `index.html` file in your project submission."
   ]
  },
  {
   "cell_type": "markdown",
   "metadata": {},
   "source": [
    "Now that your web app is working, trying playing around with it and see how well it works.\n",
    "\n",
    "**Question**: Give an example of a review that you entered into your web app. What was the predicted sentiment of your example review?"
   ]
  },
  {
   "cell_type": "markdown",
   "metadata": {},
   "source": [
    "**Answer:**"
   ]
  },
  {
   "cell_type": "markdown",
   "metadata": {},
   "source": [
    "### Delete the endpoint\n",
    "\n",
    "Remember to always shut down your endpoint if you are no longer using it. You are charged for the length of time that the endpoint is running so if you forget and leave it on you could end up with an unexpectedly large bill."
   ]
  },
  {
   "cell_type": "code",
   "execution_count": null,
   "metadata": {},
   "outputs": [],
   "source": [
    "predictor.delete_endpoint()"
   ]
  },
  {
   "cell_type": "code",
   "execution_count": null,
   "metadata": {},
   "outputs": [],
   "source": []
  }
 ],
 "metadata": {
  "kernelspec": {
   "display_name": "conda_pytorch_p36",
   "language": "python",
   "name": "conda_pytorch_p36"
  },
  "language_info": {
   "codemirror_mode": {
    "name": "ipython",
    "version": 3
   },
   "file_extension": ".py",
   "mimetype": "text/x-python",
   "name": "python",
   "nbconvert_exporter": "python",
   "pygments_lexer": "ipython3",
   "version": "3.6.5"
  }
 },
 "nbformat": 4,
 "nbformat_minor": 2
}
